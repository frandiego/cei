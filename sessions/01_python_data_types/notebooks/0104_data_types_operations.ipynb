{
 "cells": [
  {
   "cell_type": "markdown",
   "metadata": {
    "id": "3TNB1_p0QDiw"
   },
   "source": [
    "# Numeric Operator"
   ]
  },
  {
   "cell_type": "markdown",
   "metadata": {
    "id": "WWZm1w3wQDiy"
   },
   "source": [
    "### Introduction\n",
    "Numbers are extremely common in programming. They are used to represent things like screen size dimensions, geographic locations, money and points, the amount of time that passes in a video, positions of game avatars, and colors through assigning numeric codes.\n",
    "\n",
    "Being able to effectively perform mathematical operations in programming is an important skill to develop because of how frequently you’ll be working with numbers. Though a high-level understanding of mathematics can certainly help you become a better programmer, it is not a prerequisite. If you don’t have a background in mathematics, try to think of math as a tool to accomplish what you would like to achieve, and as a way to improve your logical thinking.\n",
    "\n",
    "We’ll be working with two of Python’s most used numeric data types, integers and floats:\n",
    "\n",
    "* Integers are whole numbers that can be positive, negative, or 0 (…, -1, 0, 1, …).\n",
    "* Floats are real numbers, they contain a decimal point (as in 9.0 or -2.25).\n",
    "\n",
    "### Operators\n",
    "An operator is a symbol or function that indicates an operation. For example, in math the plus sign or + is the operator that indicates addition.\n",
    "\n",
    "In Python, we will see some familiar operators that are brought over from math, but other operators we will use are specific to computer programming.\n",
    "\n",
    "Here is a quick reference table of math-related operators in Python.\n",
    "\n",
    "\n",
    "|Operations|Otput|\n",
    "|------|------|\n",
    "|x + y |Sum of x and y     |\n",
    "|x - y   |Difference of x and y    |\n",
    "|-x\t|Changed sign of x|\n",
    "|+x\t|Identity of x|\n",
    "|x * y |\tProduct of x and y|\n",
    "|x / y | Quotient of x and y|\n",
    "|x // y\t|Quotient from floor division of x and y|\n",
    "|x % y\t| Remainder of x / y|\n",
    "|x ** y\t| x to the y power|\n"
   ]
  },
  {
   "cell_type": "markdown",
   "metadata": {
    "id": "A0hX1KcsQDiy"
   },
   "source": [
    "### 1. Addition and Subtraction\n",
    "In Python, addition and subtraction operators perform just as they do in mathematics. In fact, you can use the Python programming language as a calculator."
   ]
  },
  {
   "cell_type": "code",
   "execution_count": 17,
   "metadata": {
    "colab": {
     "base_uri": "https://localhost:8080/",
     "height": 35
    },
    "id": "9uDqlQqvQDiz",
    "outputId": "6ab2c53b-9cec-417a-ae1d-3171b5bc7dab"
   },
   "outputs": [
    {
     "name": "stdout",
     "output_type": "stream",
     "text": [
      "47\n"
     ]
    }
   ],
   "source": [
    "a = 15\n",
    "b = 32\n",
    "\n",
    "print(a + b)"
   ]
  },
  {
   "cell_type": "markdown",
   "metadata": {
    "id": "r-Tu9R6eQDi3"
   },
   "source": [
    "Because integers can be both positive and negative numbers (and 0 too), we can add a negative number with a positive number:"
   ]
  },
  {
   "cell_type": "code",
   "execution_count": 18,
   "metadata": {
    "colab": {
     "base_uri": "https://localhost:8080/",
     "height": 35
    },
    "id": "eyFT1hX8QDi4",
    "outputId": "c88f69d3-1a7f-449b-fb18-49f81e898af6"
   },
   "outputs": [
    {
     "name": "stdout",
     "output_type": "stream",
     "text": [
      "17\n"
     ]
    }
   ],
   "source": [
    "c = -15\n",
    "d = 32\n",
    "\n",
    "print(c + d)"
   ]
  },
  {
   "cell_type": "markdown",
   "metadata": {
    "id": "SFCBrqYyQDi7"
   },
   "source": [
    "Addition will behave similarly with floats:\n"
   ]
  },
  {
   "cell_type": "code",
   "execution_count": 19,
   "metadata": {
    "id": "C_hCg2fYQDi8",
    "outputId": "34680ba5-f732-42ee-871f-efe4eeffed6b"
   },
   "outputs": [
    {
     "name": "stdout",
     "output_type": "stream",
     "text": [
      "8.0\n"
     ]
    }
   ],
   "source": [
    "e = 5.5\n",
    "f = 2.5\n",
    "\n",
    "print(e + f)"
   ]
  },
  {
   "cell_type": "markdown",
   "metadata": {
    "id": "WB_k4XN6QDi-"
   },
   "source": [
    "Because we added two floats together, Python returned a float value with a decimal place.\n",
    "\n",
    "The syntax for subtraction is the same as for addition, except you’ll change your operator from the plus sign (+) to the minus sign (-):"
   ]
  },
  {
   "cell_type": "markdown",
   "metadata": {},
   "source": [
    "Here, we subtracted an integer from a float. Python will return a float if at least one of the numbers involved in an equation is a float."
   ]
  },
  {
   "cell_type": "code",
   "execution_count": 26,
   "metadata": {
    "id": "PoctS3pMQDi_",
    "outputId": "2c4d39bf-ff62-457a-f075-700d51128991"
   },
   "outputs": [
    {
     "name": "stdout",
     "output_type": "stream",
     "text": [
      "43.67\n"
     ]
    }
   ],
   "source": [
    "g = 75.67\n",
    "h = 32\n",
    "\n",
    "print(g - h)"
   ]
  },
  {
   "cell_type": "markdown",
   "metadata": {},
   "source": [
    "<div class=\"alert alert-block alert-info\">\n",
    "<b>Exercise :</b> Sum a number to make the output of the following operation to be a FLOAT (11.0)"
   ]
  },
  {
   "cell_type": "code",
   "execution_count": 31,
   "metadata": {
    "id": "BzTp8JMWQDjB"
   },
   "outputs": [
    {
     "data": {
      "text/plain": [
       "11"
      ]
     },
     "execution_count": 31,
     "metadata": {},
     "output_type": "execute_result"
    }
   ],
   "source": [
    "5+6"
   ]
  },
  {
   "cell_type": "markdown",
   "metadata": {
    "id": "rroBq4FMQDjC"
   },
   "source": [
    "### 1.2 Unary Arithmetic Operations\n",
    "A unary mathematical expression consists of only one component or element, and in Python the plus and minus signs can be used as a single element paired with a value to return the value’s identity (+), or change the sign of the value (-).\n",
    "\n",
    "Though not commonly used, the plus sign indicates the identity of the value. We can use the plus sign with positive values:"
   ]
  },
  {
   "cell_type": "code",
   "execution_count": 32,
   "metadata": {
    "colab": {
     "base_uri": "https://localhost:8080/",
     "height": 35
    },
    "id": "18NZM8ZyQDjD",
    "outputId": "0bb6cda7-dd03-4bcd-fdc1-9036a12c5b44"
   },
   "outputs": [
    {
     "name": "stdout",
     "output_type": "stream",
     "text": [
      "3.3\n"
     ]
    }
   ],
   "source": [
    "i = 3.3\n",
    "print(+i)"
   ]
  },
  {
   "cell_type": "markdown",
   "metadata": {
    "id": "YPKif-OGQDjF"
   },
   "source": [
    "When we use the plus sign with a negative value, it will also return the identity of that value, and in this case it would be a negative value:"
   ]
  },
  {
   "cell_type": "code",
   "execution_count": 33,
   "metadata": {
    "colab": {
     "base_uri": "https://localhost:8080/",
     "height": 35
    },
    "id": "luUcuXEcQDjG",
    "outputId": "89329b1d-d43e-46db-826b-2f4d1a3e9bf0"
   },
   "outputs": [
    {
     "name": "stdout",
     "output_type": "stream",
     "text": [
      "-19\n"
     ]
    }
   ],
   "source": [
    "j = -19\n",
    "print(+j)"
   ]
  },
  {
   "cell_type": "markdown",
   "metadata": {
    "id": "ZKLPcKS4QDjJ"
   },
   "source": [
    "With a negative value the plus sign returns the same negative value.\n",
    "\n",
    "The minus sign, alternatively, changes the sign of a value. So, when we pass a positive value we’ll find that the minus sign before the value will return a negative value:"
   ]
  },
  {
   "cell_type": "code",
   "execution_count": 34,
   "metadata": {
    "colab": {
     "base_uri": "https://localhost:8080/",
     "height": 35
    },
    "id": "ACdekWGoQDjJ",
    "outputId": "3cc69c8a-77d7-43bd-8758-b08377e2f289"
   },
   "outputs": [
    {
     "name": "stdout",
     "output_type": "stream",
     "text": [
      "-3.3\n"
     ]
    }
   ],
   "source": [
    "i = 3.3\n",
    "print(-i)"
   ]
  },
  {
   "cell_type": "markdown",
   "metadata": {
    "id": "0tl_us1TQDjM"
   },
   "source": [
    "Alternatively, when we use the minus sign unary operator with a negative value, a positive value will be returned:"
   ]
  },
  {
   "cell_type": "code",
   "execution_count": 35,
   "metadata": {
    "id": "z5LB949BQDjM",
    "outputId": "f644e348-4d35-43e3-c6c2-a34684c8f36c"
   },
   "outputs": [
    {
     "name": "stdout",
     "output_type": "stream",
     "text": [
      "19\n"
     ]
    }
   ],
   "source": [
    "j = -19\n",
    "print(-j)"
   ]
  },
  {
   "cell_type": "markdown",
   "metadata": {
    "id": "vsCmxYjXQDjP"
   },
   "source": [
    "The unary arithmetic operations indicated by the plus sign and minus sign will return either the value’s identity in the case of +i, or the opposite sign of the value as in -i."
   ]
  },
  {
   "cell_type": "markdown",
   "metadata": {
    "id": "bb3bhmeKQDjP"
   },
   "source": [
    "### 1.3 Multiplication and Division\n",
    "Like addition and subtraction, multiplication and division will look very similar to how they do in mathematics. The sign we’ll use in Python for multiplication is * and the sign we’ll use for division is /.\n",
    "\n",
    "Here’s an example of doing multiplication in Python with two float values:"
   ]
  },
  {
   "cell_type": "code",
   "execution_count": 36,
   "metadata": {
    "colab": {
     "base_uri": "https://localhost:8080/",
     "height": 35
    },
    "id": "onqp-GhFQDjQ",
    "outputId": "73e0aefd-d651-41d5-8ee0-67d51e8cc265"
   },
   "outputs": [
    {
     "name": "stdout",
     "output_type": "stream",
     "text": [
      "1011.0099999999999\n"
     ]
    }
   ],
   "source": [
    "k = 100.1\n",
    "l = 10.1\n",
    "\n",
    "print(k * l)"
   ]
  },
  {
   "cell_type": "markdown",
   "metadata": {
    "id": "CroJ2nydQDjS"
   },
   "source": [
    "When you divide in Python 3, your quotient will always be returned as a float, even if you use two integers:"
   ]
  },
  {
   "cell_type": "code",
   "execution_count": 37,
   "metadata": {
    "id": "1zFAtatJQDjT",
    "outputId": "4b85af96-c9ee-4339-9a2a-0d151290c024"
   },
   "outputs": [
    {
     "name": "stdout",
     "output_type": "stream",
     "text": [
      "16.0\n"
     ]
    }
   ],
   "source": [
    "m = 80\n",
    "n = 5\n",
    "\n",
    "print(m / n)"
   ]
  },
  {
   "cell_type": "markdown",
   "metadata": {
    "id": "jWOzsXjAQDjV"
   },
   "source": [
    "This is one of the major changes between Python 2 and Python 3. Python 3’s approach provides a fractional answer so that when you use / to divide 11 by 2 the quotient of 5.5 will be returned. In Python 2 the quotient returned for the expression 11 / 2 is 5.\n",
    "\n",
    "Python 2’s / operator performs floor division, where for the quotient x the number returned is the largest integer less than or equal to x. If you run the above example of print(80 / 5) with Python 2 instead of Python 3, you’ll receive 16 as the output without the decimal place.\n",
    "\n",
    "In Python 3, you can use // to perform floor division. The expression 100 // 40 will return the value of 2. Floor division is useful when you need a quotient to be in whole numbers."
   ]
  },
  {
   "cell_type": "code",
   "execution_count": 38,
   "metadata": {
    "colab": {
     "base_uri": "https://localhost:8080/",
     "height": 35
    },
    "id": "3tL53OL0QDjW",
    "outputId": "c07a3075-3de9-4247-e7bb-6041dcb616e1"
   },
   "outputs": [
    {
     "data": {
      "text/plain": [
       "25"
      ]
     },
     "execution_count": 38,
     "metadata": {},
     "output_type": "execute_result"
    }
   ],
   "source": [
    "100 // 4"
   ]
  },
  {
   "cell_type": "code",
   "execution_count": 39,
   "metadata": {
    "colab": {
     "base_uri": "https://localhost:8080/",
     "height": 35
    },
    "id": "HqejFJSdQDjY",
    "outputId": "60752edc-0273-45cc-ed7e-ffedd26b51a2"
   },
   "outputs": [
    {
     "data": {
      "text/plain": [
       "25.0"
      ]
     },
     "execution_count": 39,
     "metadata": {},
     "output_type": "execute_result"
    }
   ],
   "source": [
    "100 / 4"
   ]
  },
  {
   "cell_type": "code",
   "execution_count": 40,
   "metadata": {
    "colab": {
     "base_uri": "https://localhost:8080/",
     "height": 35
    },
    "id": "2is2ONMFQDjb",
    "outputId": "857d6c95-c1dd-4133-c84d-1beabe083681"
   },
   "outputs": [
    {
     "data": {
      "text/plain": [
       "58.5"
      ]
     },
     "execution_count": 40,
     "metadata": {},
     "output_type": "execute_result"
    }
   ],
   "source": [
    "117 / 2"
   ]
  },
  {
   "cell_type": "code",
   "execution_count": 41,
   "metadata": {
    "colab": {
     "base_uri": "https://localhost:8080/",
     "height": 35
    },
    "id": "VInw6k7GQDjd",
    "outputId": "0e5397a1-0527-4c40-f8fa-aca58976361b"
   },
   "outputs": [
    {
     "data": {
      "text/plain": [
       "58"
      ]
     },
     "execution_count": 41,
     "metadata": {},
     "output_type": "execute_result"
    }
   ],
   "source": [
    "117 // 2"
   ]
  },
  {
   "cell_type": "markdown",
   "metadata": {},
   "source": [
    "<div class=\"alert alert-block alert-info\">\n",
    "<b>Exercise :</b> Change the output of the following code to be a FLOAT (58.0)"
   ]
  },
  {
   "cell_type": "code",
   "execution_count": 43,
   "metadata": {},
   "outputs": [
    {
     "data": {
      "text/plain": [
       "58"
      ]
     },
     "execution_count": 43,
     "metadata": {},
     "output_type": "execute_result"
    }
   ],
   "source": [
    "117 // 2"
   ]
  },
  {
   "cell_type": "markdown",
   "metadata": {
    "id": "zgl9lvrlQDjg"
   },
   "source": [
    "### 1.4 Modulo\n",
    "The % operator is the modulo, which returns the remainder rather than the quotient after division. This is useful for finding numbers that are multiples of the same number, for example.\n",
    "\n",
    "Let’s look at the modulo in action:"
   ]
  },
  {
   "cell_type": "code",
   "execution_count": 44,
   "metadata": {
    "colab": {
     "base_uri": "https://localhost:8080/",
     "height": 35
    },
    "id": "YjauGdiAQDjg",
    "outputId": "432099f3-b253-4fe0-edbe-f9a4313974c0"
   },
   "outputs": [
    {
     "name": "stdout",
     "output_type": "stream",
     "text": [
      "10\n"
     ]
    }
   ],
   "source": [
    "o = 85\n",
    "p = 15\n",
    "\n",
    "print(o % p)"
   ]
  },
  {
   "cell_type": "code",
   "execution_count": 45,
   "metadata": {
    "colab": {
     "base_uri": "https://localhost:8080/",
     "height": 35
    },
    "id": "K45fUdRAQDjj",
    "outputId": "50912df0-1e88-441c-bcb8-441ebf2cd8e4"
   },
   "outputs": [
    {
     "data": {
      "text/plain": [
       "5.666666666666667"
      ]
     },
     "execution_count": 45,
     "metadata": {},
     "output_type": "execute_result"
    }
   ],
   "source": [
    "85/15"
   ]
  },
  {
   "cell_type": "code",
   "execution_count": 46,
   "metadata": {
    "colab": {
     "base_uri": "https://localhost:8080/",
     "height": 35
    },
    "id": "IhrsgPj0SIAd",
    "outputId": "e330823c-2011-4578-ed62-62cf50e33987"
   },
   "outputs": [
    {
     "data": {
      "text/plain": [
       "10"
      ]
     },
     "execution_count": 46,
     "metadata": {},
     "output_type": "execute_result"
    }
   ],
   "source": [
    "o - o//p * p"
   ]
  },
  {
   "cell_type": "code",
   "execution_count": 47,
   "metadata": {
    "id": "D6ghSk_GQDjn",
    "outputId": "2019fd45-adc3-428b-f8fc-91523d0a1eab"
   },
   "outputs": [
    {
     "data": {
      "text/plain": [
       "85.0"
      ]
     },
     "execution_count": 47,
     "metadata": {},
     "output_type": "execute_result"
    }
   ],
   "source": [
    "5.666666666666667* 15"
   ]
  },
  {
   "cell_type": "code",
   "execution_count": 48,
   "metadata": {
    "id": "TbyhwafSQDjq",
    "outputId": "2f9d2b2f-c378-44eb-b0b7-dd4598f1ceab"
   },
   "outputs": [
    {
     "data": {
      "text/plain": [
       "5"
      ]
     },
     "execution_count": 48,
     "metadata": {},
     "output_type": "execute_result"
    }
   ],
   "source": [
    "85//15"
   ]
  },
  {
   "cell_type": "code",
   "execution_count": 49,
   "metadata": {
    "id": "tbyMbT14QDjs",
    "outputId": "a4d4ac69-6d33-48c2-c53b-71b2ffb9b8e4"
   },
   "outputs": [
    {
     "data": {
      "text/plain": [
       "75"
      ]
     },
     "execution_count": 49,
     "metadata": {},
     "output_type": "execute_result"
    }
   ],
   "source": [
    "5*15"
   ]
  },
  {
   "cell_type": "code",
   "execution_count": 50,
   "metadata": {
    "id": "LsoFAL8aQDju",
    "outputId": "1ac805a8-0f53-421f-a562-658fee8e5104"
   },
   "outputs": [
    {
     "data": {
      "text/plain": [
       "5"
      ]
     },
     "execution_count": 50,
     "metadata": {},
     "output_type": "execute_result"
    }
   ],
   "source": [
    "80 - 75"
   ]
  },
  {
   "cell_type": "code",
   "execution_count": 51,
   "metadata": {
    "colab": {
     "base_uri": "https://localhost:8080/",
     "height": 35
    },
    "id": "OZHNFIyXQDjw",
    "outputId": "1b81647e-cc0b-499c-a74b-961ceadcf809"
   },
   "outputs": [
    {
     "data": {
      "text/plain": [
       "0"
      ]
     },
     "execution_count": 51,
     "metadata": {},
     "output_type": "execute_result"
    }
   ],
   "source": [
    "36%2"
   ]
  },
  {
   "cell_type": "markdown",
   "metadata": {
    "id": "gunNVew7QDjz"
   },
   "source": [
    "### 1.5 Power\n",
    "The ** operator in Python is used to raise the number on the left to the power of the exponent of the right. That is, in the expression 5 ** 3, 5 is being raised to the 3rd power. In mathematics, we often see this expression rendered as 5³, and what is really going on is 5 is being multiplied by itself 3 times. In Python, we would get the same result of 125 by running either 5 ** 3 or 5 * 5 * 5.\n",
    "\n",
    "Let’s look at an example with variables:\n",
    "\n"
   ]
  },
  {
   "cell_type": "code",
   "execution_count": 52,
   "metadata": {
    "colab": {
     "base_uri": "https://localhost:8080/",
     "height": 35
    },
    "id": "4JEV6jpNQDj0",
    "outputId": "7912be53-35de-4ac9-8fd6-f13b38f3230a"
   },
   "outputs": [
    {
     "data": {
      "text/plain": [
       "2730.0625"
      ]
     },
     "execution_count": 52,
     "metadata": {},
     "output_type": "execute_result"
    }
   ],
   "source": [
    "s = 52.25\n",
    "t = 2\n",
    "\n",
    "s ** t"
   ]
  },
  {
   "cell_type": "code",
   "execution_count": 53,
   "metadata": {
    "id": "r1TEXVq8SxQ2"
   },
   "outputs": [],
   "source": [
    "import math"
   ]
  },
  {
   "cell_type": "code",
   "execution_count": 54,
   "metadata": {
    "colab": {
     "base_uri": "https://localhost:8080/",
     "height": 35
    },
    "id": "17eBpz93SxTQ",
    "outputId": "dab46f73-9616-4d37-8bc8-23d6072b4211"
   },
   "outputs": [
    {
     "data": {
      "text/plain": [
       "1.4142135623730951"
      ]
     },
     "execution_count": 54,
     "metadata": {},
     "output_type": "execute_result"
    }
   ],
   "source": [
    "math.sqrt(2)"
   ]
  },
  {
   "cell_type": "code",
   "execution_count": 55,
   "metadata": {
    "colab": {
     "base_uri": "https://localhost:8080/",
     "height": 35
    },
    "id": "UzCGb6bsSxVi",
    "outputId": "71306e4b-3d0a-43f2-900b-2b4f49c90174"
   },
   "outputs": [
    {
     "data": {
      "text/plain": [
       "1.4142135623730951"
      ]
     },
     "execution_count": 55,
     "metadata": {},
     "output_type": "execute_result"
    }
   ],
   "source": [
    "2**(1/2)"
   ]
  },
  {
   "cell_type": "code",
   "execution_count": 56,
   "metadata": {
    "colab": {
     "base_uri": "https://localhost:8080/",
     "height": 35
    },
    "id": "_2iRstsiS6Rw",
    "outputId": "b0ba8fda-a366-4c45-dec5-8df07423699f"
   },
   "outputs": [
    {
     "data": {
      "text/plain": [
       "8"
      ]
     },
     "execution_count": 56,
     "metadata": {},
     "output_type": "execute_result"
    }
   ],
   "source": [
    "2 ** 3"
   ]
  },
  {
   "cell_type": "code",
   "execution_count": 57,
   "metadata": {
    "colab": {
     "base_uri": "https://localhost:8080/",
     "height": 35
    },
    "id": "wAGtdmSzS6UU",
    "outputId": "337d5e12-3c12-4d29-ab72-8eec68f46c03"
   },
   "outputs": [
    {
     "data": {
      "text/plain": [
       "2.6666666666666665"
      ]
     },
     "execution_count": 57,
     "metadata": {},
     "output_type": "execute_result"
    }
   ],
   "source": [
    "(8 ** 1)/3"
   ]
  },
  {
   "cell_type": "code",
   "execution_count": 58,
   "metadata": {
    "colab": {
     "base_uri": "https://localhost:8080/",
     "height": 35
    },
    "id": "RCRfW7zsS6Wp",
    "outputId": "89277d9a-bbdc-4bd9-c8ab-1aa64391be62"
   },
   "outputs": [
    {
     "data": {
      "text/plain": [
       "2.0"
      ]
     },
     "execution_count": 58,
     "metadata": {},
     "output_type": "execute_result"
    }
   ],
   "source": [
    "8 ** (1/3)"
   ]
  },
  {
   "cell_type": "markdown",
   "metadata": {
    "id": "WBIxBjipQDj2"
   },
   "source": [
    "Raising the float 52.25 to the power of 7 through the ** operator results in a large float value returned."
   ]
  },
  {
   "cell_type": "markdown",
   "metadata": {
    "id": "_YsOtn9xQDj3"
   },
   "source": [
    "### 1.6 Operator Precedence\n",
    "In Python, as in mathematics, we need to keep in mind that operators will be evaluated in order of precedence, not from left to right or right to left.\n",
    "\n",
    "If we look at the following expression:"
   ]
  },
  {
   "cell_type": "code",
   "execution_count": 59,
   "metadata": {
    "colab": {
     "base_uri": "https://localhost:8080/",
     "height": 35
    },
    "id": "rzJXrTyIQDj3",
    "outputId": "baca56bf-9dde-4223-dd33-085de9088bc2"
   },
   "outputs": [
    {
     "data": {
      "text/plain": [
       "60"
      ]
     },
     "execution_count": 59,
     "metadata": {},
     "output_type": "execute_result"
    }
   ],
   "source": [
    "u = 10 + (10 * 5)\n",
    "u"
   ]
  },
  {
   "cell_type": "markdown",
   "metadata": {
    "id": "JSBtm5FoQDj5"
   },
   "source": [
    "This is because 10 * 5 evaluates to 50, and then we add 10 to return 60 as the final result.\n",
    "\n",
    "If instead we would like to add the value 10 to 10, then multiply that sum by 5, we can use parentheses just like we would in math:\n",
    "\n"
   ]
  },
  {
   "cell_type": "code",
   "execution_count": 60,
   "metadata": {
    "colab": {
     "base_uri": "https://localhost:8080/",
     "height": 35
    },
    "id": "roo8U3vwQDj6",
    "outputId": "076292b7-364d-4d83-d93f-226007adffa7"
   },
   "outputs": [
    {
     "data": {
      "text/plain": [
       "100"
      ]
     },
     "execution_count": 60,
     "metadata": {},
     "output_type": "execute_result"
    }
   ],
   "source": [
    "u = (10 + 10) * 5\n",
    "u"
   ]
  },
  {
   "cell_type": "markdown",
   "metadata": {
    "id": "6quzkZQbQDj8"
   },
   "source": [
    "One way to remember the order of operation is through the acronym PEMDAS:\n"
   ]
  },
  {
   "cell_type": "markdown",
   "metadata": {
    "id": "umPuvtxFQDj8"
   },
   "source": [
    "|Order|Letter|Stands for|\n",
    "|------|------|------|\n",
    "|1|P|Parentheses|\n",
    "|2|E|Exponent|\n",
    "|3|M|Multiplication|\n",
    "|4|D|Division|\n",
    "|5|A|Addition|\n",
    "|6|S|Subtraction|"
   ]
  },
  {
   "cell_type": "markdown",
   "metadata": {
    "id": "3B6DmIW8QDj8"
   },
   "source": [
    "### 1.7 Assignment Operators\n",
    "The most common assignment operator is one you have already used: the equals sign =. The = assignment operator assigns the value on the right to a variable on the left. For example, v = 23 assigns the value of the integer 23 to the variable v.\n",
    "\n",
    "When programming, it is common to use compound assignment operators that perform an operation on a variable’s value and then assign the resulting new value to that variable. These compound operators combine an arithmetic operator with the = operator, so for addition we’ll combine + with = to get the compound operator +=. Let’s see what that looks like:\n",
    "\n"
   ]
  },
  {
   "cell_type": "code",
   "execution_count": 61,
   "metadata": {
    "colab": {
     "base_uri": "https://localhost:8080/",
     "height": 35
    },
    "id": "C9I0yUpKQDj9",
    "outputId": "81d01e37-8799-4c10-ebd6-bc2c594d9037"
   },
   "outputs": [
    {
     "data": {
      "text/plain": [
       "7"
      ]
     },
     "execution_count": 61,
     "metadata": {},
     "output_type": "execute_result"
    }
   ],
   "source": [
    "# sum and assign\n",
    "w = 5\n",
    "w = w + 1\n",
    "w += 1\n",
    "w"
   ]
  },
  {
   "cell_type": "markdown",
   "metadata": {
    "id": "mdJLVk0wQDj_"
   },
   "source": [
    "Python has a compound assignment operator for each of the arithmetic operators discussed in this tutorial:\n"
   ]
  },
  {
   "cell_type": "code",
   "execution_count": 62,
   "metadata": {
    "colab": {
     "base_uri": "https://localhost:8080/",
     "height": 35
    },
    "id": "NeiIT66PQDj_",
    "outputId": "5dff9e04-fcbc-4586-ed1a-7a79f6db068c"
   },
   "outputs": [
    {
     "data": {
      "text/plain": [
       "6"
      ]
     },
     "execution_count": 62,
     "metadata": {},
     "output_type": "execute_result"
    }
   ],
   "source": [
    "# sum and assign\n",
    "y = 5\n",
    "y += 1\n",
    "y"
   ]
  },
  {
   "cell_type": "code",
   "execution_count": 63,
   "metadata": {
    "colab": {
     "base_uri": "https://localhost:8080/",
     "height": 35
    },
    "id": "DI9Jt3g_QDkC",
    "outputId": "c88061e3-087a-4c58-e4ed-0110a6e0856e"
   },
   "outputs": [
    {
     "data": {
      "text/plain": [
       "5"
      ]
     },
     "execution_count": 63,
     "metadata": {},
     "output_type": "execute_result"
    }
   ],
   "source": [
    "# substract and assign\n",
    "y -= 1\n",
    "y"
   ]
  },
  {
   "cell_type": "code",
   "execution_count": 64,
   "metadata": {
    "colab": {
     "base_uri": "https://localhost:8080/",
     "height": 35
    },
    "id": "RamtfdjTQDkE",
    "outputId": "ef9c9f40-3603-4649-a981-8c05e156ef4d"
   },
   "outputs": [
    {
     "data": {
      "text/plain": [
       "10"
      ]
     },
     "execution_count": 64,
     "metadata": {},
     "output_type": "execute_result"
    }
   ],
   "source": [
    "# product and assign\n",
    "# y = y*2\n",
    "y *= 2\n",
    "y"
   ]
  },
  {
   "cell_type": "code",
   "execution_count": 65,
   "metadata": {
    "colab": {
     "base_uri": "https://localhost:8080/",
     "height": 35
    },
    "id": "rI2ZWG5kQDkG",
    "outputId": "b331c81d-bfbd-4108-c0b1-f5180a8edebb"
   },
   "outputs": [
    {
     "data": {
      "text/plain": [
       "3.3333333333333335"
      ]
     },
     "execution_count": 65,
     "metadata": {},
     "output_type": "execute_result"
    }
   ],
   "source": [
    "# divide and assign\n",
    "y /= 3\n",
    "y"
   ]
  },
  {
   "cell_type": "code",
   "execution_count": 66,
   "metadata": {
    "colab": {
     "base_uri": "https://localhost:8080/",
     "height": 35
    },
    "id": "OcRjEcbJQDkH",
    "outputId": "8731be9b-eb18-4166-941f-8e26b31d26e1"
   },
   "outputs": [
    {
     "data": {
      "text/plain": [
       "3"
      ]
     },
     "execution_count": 66,
     "metadata": {},
     "output_type": "execute_result"
    }
   ],
   "source": [
    "# floor divide and assign\n",
    "y = 10\n",
    "y //= 3\n",
    "y\n"
   ]
  },
  {
   "cell_type": "code",
   "execution_count": 67,
   "metadata": {
    "colab": {
     "base_uri": "https://localhost:8080/",
     "height": 35
    },
    "id": "TuZ_9mViQDkJ",
    "outputId": "ef5fbe52-0485-4fe9-e35d-6210cd832d6b"
   },
   "outputs": [
    {
     "data": {
      "text/plain": [
       "9"
      ]
     },
     "execution_count": 67,
     "metadata": {},
     "output_type": "execute_result"
    }
   ],
   "source": [
    "# power and assign\n",
    "y **= 2\n",
    "y"
   ]
  },
  {
   "cell_type": "code",
   "execution_count": 68,
   "metadata": {
    "colab": {
     "base_uri": "https://localhost:8080/",
     "height": 35
    },
    "id": "NpUlqsEnQDkM",
    "outputId": "e37f7bd4-81c4-44f7-8239-4197160bd690"
   },
   "outputs": [
    {
     "data": {
      "text/plain": [
       "0"
      ]
     },
     "execution_count": 68,
     "metadata": {},
     "output_type": "execute_result"
    }
   ],
   "source": [
    "# modulo and assign\n",
    "y %= 3\n",
    "y"
   ]
  },
  {
   "cell_type": "markdown",
   "metadata": {
    "id": "nWE0ZCv-QDkO"
   },
   "source": [
    "Compound assignment operators can be useful when things need to be incrementally increased or decreased, or when you need to automate certain processes in your program.\n",
    "\n",
    "You may thig the compund operator is unuseful but it will increse the efficiency when using a for loop (for example)\n",
    "\n"
   ]
  },
  {
   "cell_type": "markdown",
   "metadata": {
    "id": "bmVQK1MQfl6D"
   },
   "source": [
    "# Built in Functions"
   ]
  },
  {
   "cell_type": "markdown",
   "metadata": {
    "id": "FtYdup1Ffl6E"
   },
   "source": [
    "Python 3 comes with many built-in functions that you can readily use in any program that you’re working on. Some functions enable you to convert data types, and others are specific to a certain type, like strings.\n",
    "\n",
    "We will go through a few of the built-in functions that can be used with numeric data types in Python 3.\n",
    "\n",
    "* `abs()` for absolute value\n",
    "* `divmod()` to find a quotient and remainder simultaneously\n",
    "* `pow()` to raise a number to a certain power\n",
    "* `round()` to round a number to a certain decimal point\n",
    "* `sum()` to calculate the sum of the items in an iterable data type\n",
    "\n",
    "\n",
    "Becoming familiar with these methods can give you more flexibility when programming so that you can make informed decisions when deciding what operators and functions to use. We’ll go through some of these functions with examples throughout this tutorial.\n",
    "\n",
    "### 1. Absolute Value\n",
    "The built-in function abs() will return the absolute value of a number that you pass to it. In mathematics, absolute value refers to the distance that a number is on the number line from 0. Absolute value does not take into consideration which direction from zero the number lies, meaning that negative numbers will be represented with positive numbers.\n",
    "\n",
    "To give some examples, the absolute value of 15 is 15, the absolute value of -74 is 74, and the absolute value of 0 is 0.\n",
    "\n",
    "Absolute value is an important concept for calculus and real analysis, but it also makes sense when we think about everyday situations like distance travelled. For example, if we are trying to get somewhere that is 58 miles away but we travel 93 miles instead, we overshot our original destination. If we want to calculate now how many miles left to travel to get to the intended destination, we’ll end up with a negative number, but we can’t travel negative miles.\n"
   ]
  },
  {
   "cell_type": "markdown",
   "metadata": {
    "id": "LhpOe8bTfl6G"
   },
   "source": [
    "<div class=\"alert alert-block alert-info\">\n",
    "<b>Exercise:</b> Calculate how many miles destination is from current location"
   ]
  },
  {
   "cell_type": "code",
   "execution_count": 70,
   "metadata": {
    "id": "Lju3VLJ4fl6H"
   },
   "outputs": [],
   "source": [
    "miles_from_origin = 58  # Miles destination is from origin\n",
    "miles_travelled = 93    # Miles travelled from origin to destination (too many)\n"
   ]
  },
  {
   "cell_type": "markdown",
   "metadata": {
    "id": "wId0kq0sfl6M"
   },
   "source": [
    "### 2. `divmod` Finding the Quotient and Remainder in One Function\n",
    "Because both floor division (which returns a quotient), and modulo division (which returns a remainder), are closely related, it can be useful to use a function that combines both operations at once.\n",
    "\n",
    "The Python built-in function `divmod()` combines the two, returning first the quotient that comes from floor division, then the remainder.\n",
    "\n",
    "Because `divmod()` will be working with two numbers, we need to pass two numbers to it.\n",
    "\n"
   ]
  },
  {
   "cell_type": "markdown",
   "metadata": {
    "id": "BsnTzz5_fl6N"
   },
   "source": [
    "<div class=\"alert alert-block alert-info\">\n",
    "<b>Exercise:</b> Decide how many words per page"
   ]
  },
  {
   "cell_type": "markdown",
   "metadata": {
    "id": "0fhCTwgafl6O"
   },
   "source": [
    "Let’s say we have written a book that is 80,000 words long. With our publisher, we have the option of either 300 or 250 words per page, and we’d like to get a sense of how many pages we would have in each case. With divmod() we can see immediately how many pages we would have, and how many words would be spilled over onto an additional page."
   ]
  },
  {
   "cell_type": "code",
   "execution_count": null,
   "metadata": {
    "id": "vYuGcT7ifl6P"
   },
   "outputs": [],
   "source": [
    "words = 80000       # Number of words total\n",
    "per_page_A = 300    # Option A, 300 words per page\n",
    "per_page_B = 250    # Option B, 25- words per page\n"
   ]
  },
  {
   "cell_type": "markdown",
   "metadata": {
    "id": "H0KkFsY4fl6R"
   },
   "source": [
    "<div class=\"alert alert-block alert-info\">\n",
    "<b>Exercise:</b> Divmod is forbidden, could you replicate the  output?"
   ]
  },
  {
   "cell_type": "code",
   "execution_count": 71,
   "metadata": {
    "id": "WsDCpAUsfl6S",
    "outputId": "685ba768-7077-4ea1-f2b1-64b7e95d1a09"
   },
   "outputs": [
    {
     "name": "stdout",
     "output_type": "stream",
     "text": [
      "(8.0, 63.5)\n"
     ]
    }
   ],
   "source": [
    "a = 985.5\n",
    "b = 115.25\n",
    "\n",
    "print(divmod(a,b))"
   ]
  },
  {
   "cell_type": "markdown",
   "metadata": {
    "id": "tFtqfmDbfl6V"
   },
   "source": [
    "### 3. `pow` Power\n",
    "In Python, you can use the operator ** to raise a number by an exponent, or you can use the built-in function pow() which takes in two numbers."
   ]
  },
  {
   "cell_type": "code",
   "execution_count": 72,
   "metadata": {
    "id": "U0USVmn8fl6W",
    "outputId": "d9e0ab16-bb63-4116-f821-9d0b3d95a132"
   },
   "outputs": [
    {
     "data": {
      "text/plain": [
       "27"
      ]
     },
     "execution_count": 72,
     "metadata": {},
     "output_type": "execute_result"
    }
   ],
   "source": [
    "3**3"
   ]
  },
  {
   "cell_type": "markdown",
   "metadata": {
    "id": "X0t0E2MSfl6Z"
   },
   "source": [
    "<div class=\"alert alert-block alert-info\">\n",
    "<b>Exercise:</b> Could you replicate the same thing without using **"
   ]
  },
  {
   "cell_type": "markdown",
   "metadata": {
    "id": "Ofx7Jznffl6Z"
   },
   "source": [
    "<div class=\"alert alert-block alert-info\">\n",
    "<b>Exercise:</b> Let’s say we are doing research on bacteria and want to see how many bacteria we’ll have at the end of the day if we start with 1. The particular bacteria we’re working with doubles each hour, so we’ll be calculating 2 (doubling) to the power of the total number of hours (24 in our case)."
   ]
  },
  {
   "cell_type": "markdown",
   "metadata": {
    "id": "Td4AzPPdfl6a"
   },
   "source": [
    "### 4. `round` Rounding Numbers\n",
    "\n",
    "Being able to quickly and readily round numbers becomes important when working with floats that have a lot of decimal places. The built-in Python function round() takes in two numbers, one to be rounded, and one that specifies the number of decimal places to include.\n",
    "\n",
    "<div class=\"alert alert-block alert-info\">\n",
    "<b>Exercise:</b> We’ll use the function to take a float with more than 10 decimal places and use the round() function to reduce decimal places to 4:"
   ]
  },
  {
   "cell_type": "code",
   "execution_count": 73,
   "metadata": {
    "id": "kHhcvu1bfl6a"
   },
   "outputs": [],
   "source": [
    "i = 17.34989436516001"
   ]
  },
  {
   "cell_type": "markdown",
   "metadata": {
    "id": "0ajvSBt2fl6d"
   },
   "source": [
    "\n",
    "<div class=\"alert alert-block alert-info\">\n",
    "<b>Exercise:</b> Round the previous number with 0 decimals"
   ]
  },
  {
   "cell_type": "markdown",
   "metadata": {
    "id": "kBgAK6Y4fl6e"
   },
   "source": [
    "\n",
    "<div class=\"alert alert-block alert-info\">\n",
    "<b>Exercise:</b> Samething but without using round function"
   ]
  },
  {
   "cell_type": "code",
   "execution_count": 74,
   "metadata": {
    "id": "9ADCXBTtfl6e",
    "outputId": "d3076c3b-84b6-4102-fb71-2fabd5a18e0f"
   },
   "outputs": [
    {
     "data": {
      "text/plain": [
       "0.3498943651600115"
      ]
     },
     "execution_count": 74,
     "metadata": {},
     "output_type": "execute_result"
    }
   ],
   "source": [
    "i-int(i)"
   ]
  },
  {
   "cell_type": "markdown",
   "metadata": {
    "id": "jX9fVnjHfl6h"
   },
   "source": [
    "## 5. `sum` Calculating a Sum\n",
    "The sum() function is used for calculating sums of numeric compound data types, including lists, tuples, and dictionaries.\n",
    "\n",
    "We can pass a list to the sum() function to add all the items in the list together in order from left to right:"
   ]
  },
  {
   "cell_type": "code",
   "execution_count": 75,
   "metadata": {
    "id": "-XQ-6io3fl6h",
    "outputId": "15e9b9a0-6577-4bdb-fb7a-5e96e9272e23"
   },
   "outputs": [
    {
     "name": "stdout",
     "output_type": "stream",
     "text": [
      "4\n"
     ]
    }
   ],
   "source": [
    "print(sum((1,3)))\n"
   ]
  },
  {
   "cell_type": "markdown",
   "metadata": {
    "id": "8T6cgX-Hfl6k"
   },
   "source": [
    "\n",
    "<div class=\"alert alert-block alert-info\">\n",
    "<b>Exercise </b> Replicate next line using sum"
   ]
  },
  {
   "cell_type": "code",
   "execution_count": null,
   "metadata": {
    "id": "Ay3aTfmZfl6k",
    "outputId": "89dbfe08-ae38-43ba-bd8c-cbb7fb82088b"
   },
   "outputs": [
    {
     "data": {
      "text/plain": [
       "0"
      ]
     },
     "execution_count": 22,
     "metadata": {
      "tags": []
     },
     "output_type": "execute_result"
    }
   ],
   "source": [
    "1-1"
   ]
  },
  {
   "cell_type": "markdown",
   "metadata": {
    "id": "GP0C2Z1xfl6n"
   },
   "source": [
    "\n",
    "<div class=\"alert alert-block alert-info\">\n",
    "<b>Exercise</b> Daily problem"
   ]
  },
  {
   "cell_type": "markdown",
   "metadata": {
    "id": "ZPN1UrdKfl6n"
   },
   "source": [
    "\n",
    "In everyday life, rounding numbers happens often, especially when working with money; we can’t split up a penny evenly among several friends.\n",
    "\n",
    "Let’s go through an example of a simple program that can calculate a tip. Here we’ll provide figures, but we could rewrite the program to bring in user-provided numbers instead. In this example, 3 friends went to a restaurant who want to split a bill of $87.93 evenly, along with adding a 20% tip."
   ]
  },
  {
   "cell_type": "code",
   "execution_count": 76,
   "metadata": {
    "id": "wDa3JS1dfl6p"
   },
   "outputs": [],
   "source": [
    "bill = 87.93                # Total bill\n",
    "tip = 0.2                   # 20% tip\n",
    "split = 3                   # Number of people splitting the bill"
   ]
  },
  {
   "cell_type": "markdown",
   "metadata": {},
   "source": [
    "![Image of Yaktocat](https://encrypted-tbn0.gstatic.com/images?q=tbn:ANd9GcRo6h2pMEx86lptG57nBjWAvX6L71TO19O6eg&s)\n"
   ]
  },
  {
   "cell_type": "markdown",
   "metadata": {},
   "source": [
    "\n",
    "<div class=\"alert alert-block alert-info\">\n",
    "<b>Exercise </b> Create a function to check if a number is even or odd"
   ]
  }
 ],
 "metadata": {
  "colab": {
   "provenance": []
  },
  "kernelspec": {
   "display_name": "Python 3 (ipykernel)",
   "language": "python",
   "name": "python3"
  },
  "language_info": {
   "codemirror_mode": {
    "name": "ipython",
    "version": 3
   },
   "file_extension": ".py",
   "mimetype": "text/x-python",
   "name": "python",
   "nbconvert_exporter": "python",
   "pygments_lexer": "ipython3",
   "version": "3.13.0"
  }
 },
 "nbformat": 4,
 "nbformat_minor": 4
}

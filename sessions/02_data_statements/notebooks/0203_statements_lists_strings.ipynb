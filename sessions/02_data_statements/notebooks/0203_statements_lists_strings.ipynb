{
 "cells": [
  {
   "cell_type": "markdown",
   "metadata": {},
   "source": [
    "### Exercise 1. Using the following list, clean all the elements, the sould be in lowercase and without spaces\n",
    "\n",
    "Hint\n",
    "```python\n",
    "\"bear\" in [\"bear\", \"lion\"]\n",
    "```\n"
   ]
  },
  {
   "cell_type": "code",
   "execution_count": 112,
   "metadata": {},
   "outputs": [],
   "source": [
    "zoo  = ['bEAr ', ' liOn', 'panda', ' zebra', 'chiMpanzee ', \n",
    "        'goRIlla', 'ORangUtan ', 'gIbbon', 'giBBon ', 'beAr', 'lIon ', 'paNda ' ]"
   ]
  },
  {
   "cell_type": "markdown",
   "metadata": {},
   "source": [
    "### Exercise 2. Using the following list, create a list containing the unique values, i.e. no duplicates, name it `zoo_unique`\n",
    "\n",
    "Hint\n",
    "```python\n",
    "\"bear\" in [\"bear\", \"lion\"]\n",
    "```\n"
   ]
  },
  {
   "cell_type": "markdown",
   "metadata": {},
   "source": [
    "### Exercise 3. Crea a function that takes a string ex. 'bear' and return it with the first letter in uppercase 'Bear'\n",
    "\n",
    "```python\n",
    "def capitalize(string):\n",
    "    # reuturn the first letter in capital\n",
    "```\n"
   ]
  },
  {
   "cell_type": "markdown",
   "metadata": {},
   "source": [
    "### Exercise 4. Apply the previous function to all the elements in `zoo_unique`"
   ]
  },
  {
   "cell_type": "markdown",
   "metadata": {},
   "source": [
    "### Exercise 5. Merge all elements in alphabetical order in the list separated by '-'\n",
    "Hint\n",
    "```python\n",
    "'-'.join\n",
    "```"
   ]
  },
  {
   "cell_type": "markdown",
   "metadata": {},
   "source": [
    "### Exercise 6. Replicate the function of `join` without using it, use a foor loop"
   ]
  },
  {
   "cell_type": "markdown",
   "metadata": {},
   "source": [
    "### Exercise 7. Capitalize each element in the following list using a list comprehension"
   ]
  },
  {
   "cell_type": "code",
   "execution_count": 120,
   "metadata": {},
   "outputs": [],
   "source": [
    "zoo  = ['bEAr ', ' liOn', 'panda', ' zebra', 'chiMpanzee ', \n",
    "        'goRIlla', 'ORangUtan ', 'gIbbon']"
   ]
  },
  {
   "cell_type": "markdown",
   "metadata": {},
   "source": [
    "### Exercise 8. Remove blanks elements"
   ]
  },
  {
   "cell_type": "code",
   "execution_count": 122,
   "metadata": {},
   "outputs": [],
   "source": [
    "zoo = ['Bear','Lion', '', 'Panda', 'Zebra', '', 'Chimpanzee', 'Gorilla', '  ', 'Orangutan', 'Gibbon', '']"
   ]
  },
  {
   "cell_type": "code",
   "execution_count": 124,
   "metadata": {},
   "outputs": [],
   "source": [
    "zoo = ['Bear','Lion', '', 'Panda', 'Zebra', '', 'Chimpanzee', 'Gorilla', '  ', 'Orangutan', 'Gibbon', '']"
   ]
  },
  {
   "cell_type": "markdown",
   "metadata": {},
   "source": [
    "### Exercise 9. Filter those elements that starts with a b or ends witha a"
   ]
  },
  {
   "cell_type": "code",
   "execution_count": 126,
   "metadata": {},
   "outputs": [],
   "source": [
    "zoo = ['Bear','Lion', 'Panda', 'Zebra', 'Chimpanzee', 'Gorilla', 'Orangutan', 'Gibbon']"
   ]
  },
  {
   "cell_type": "markdown",
   "metadata": {},
   "source": [
    "### Exercise 10. Filter those elements that have more than 5 letters\n",
    "```python\n",
    "['Bear','Lion', 'Panda', 'Zebra', 'Chimpanzee', 'Gorilla', 'Orangutan', 'Gibbon']\n",
    "['Chimpanzee', 'Gorilla', 'Orangutan', 'Gibbon']\n",
    "\n",
    "```\n"
   ]
  }
 ],
 "metadata": {
  "kernelspec": {
   "display_name": "Python 3",
   "language": "python",
   "name": "python3"
  },
  "language_info": {
   "codemirror_mode": {
    "name": "ipython",
    "version": 3
   },
   "file_extension": ".py",
   "mimetype": "text/x-python",
   "name": "python",
   "nbconvert_exporter": "python",
   "pygments_lexer": "ipython3",
   "version": "3.8.6"
  }
 },
 "nbformat": 4,
 "nbformat_minor": 4
}

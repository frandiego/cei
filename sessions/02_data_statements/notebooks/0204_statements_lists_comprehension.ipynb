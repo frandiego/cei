{
 "cells": [
  {
   "cell_type": "markdown",
   "metadata": {},
   "source": [
    "# List Comprehension\n",
    "List Comprehensions is a very powerful tool, which creates a new list based on another list, in a single, readable line.\n",
    "\n",
    "The following example shows how to calculate the square of all elements in a list using a loop for loop and a list comprehension. "
   ]
  },
  {
   "cell_type": "code",
   "execution_count": 1,
   "metadata": {},
   "outputs": [],
   "source": [
    "l = [1, 2, 3, 4, 5, 6, 7, 8, 9, 10]"
   ]
  },
  {
   "cell_type": "code",
   "execution_count": 2,
   "metadata": {},
   "outputs": [
    {
     "data": {
      "text/plain": [
       "[1, 4, 9, 16, 25, 36, 49, 64, 81, 100]"
      ]
     },
     "execution_count": 2,
     "metadata": {},
     "output_type": "execute_result"
    }
   ],
   "source": [
    "l_square = list()\n",
    "for i in l:\n",
    "    l_square.append(i**2)\n",
    "l_square"
   ]
  },
  {
   "cell_type": "code",
   "execution_count": 3,
   "metadata": {},
   "outputs": [
    {
     "data": {
      "text/plain": [
       "[1, 4, 9, 16, 25, 36, 49, 64, 81, 100]"
      ]
     },
     "execution_count": 3,
     "metadata": {},
     "output_type": "execute_result"
    }
   ],
   "source": [
    "[i**2 for i in l]"
   ]
  },
  {
   "cell_type": "markdown",
   "metadata": {},
   "source": [
    "### List Comprehension Syntax\n",
    "```python\n",
    "[ function(item) for item in iterator ]\n",
    "```\n",
    "To remember:\n",
    "    * square brackets\n",
    "    * function at the beginning\n",
    "    * iterator follows the function"
   ]
  },
  {
   "cell_type": "markdown",
   "metadata": {},
   "source": [
    "### Exercise 1. Double for loop. Using the list l, first create a list with all the elements squared and then  and then creates another list comprehension with all the elements of the previous point but now calculates the square root"
   ]
  },
  {
   "cell_type": "markdown",
   "metadata": {},
   "source": [
    "### Exercise 2. Replicate the next cell in one line of code"
   ]
  },
  {
   "cell_type": "markdown",
   "metadata": {},
   "source": [
    "***\n",
    "## Conditionals in List Comprehension\n",
    "List comprehensions can utilize conditional statement to modify existing list (or other tuples)"
   ]
  },
  {
   "cell_type": "code",
   "execution_count": 33,
   "metadata": {
    "scrolled": true
   },
   "outputs": [
    {
     "data": {
      "text/plain": [
       "[0, 2, 4, 6, 8, 10, 12, 14, 16, 18]"
      ]
     },
     "execution_count": 33,
     "metadata": {},
     "output_type": "execute_result"
    }
   ],
   "source": [
    "[ x for x in range(20) if x % 2 == 0]"
   ]
  },
  {
   "cell_type": "markdown",
   "metadata": {},
   "source": [
    "### Conditional List Comprehension Syntax\n",
    "```python\n",
    "[ function(item) for item in list if ]\n",
    "```\n",
    "To remenber:\n",
    "    * square brackets\n",
    "    * function at the beginning\n",
    "    * if at the end"
   ]
  },
  {
   "cell_type": "markdown",
   "metadata": {},
   "source": [
    "### Exercise 3. In the next cell we see how to filter only the even elements of the numbers between 0 and 29. Create an comprehension list that filters by the even numbers (multiplies of 2) and by the multiples of 5"
   ]
  },
  {
   "cell_type": "markdown",
   "metadata": {},
   "source": [
    "***\n",
    "## IF ELSE Conditionals in List Comprehension\n",
    "In the examples above we have used if to filter, now we are going to use ifelse to disambiguate an operation"
   ]
  },
  {
   "cell_type": "code",
   "execution_count": 32,
   "metadata": {
    "scrolled": true
   },
   "outputs": [
    {
     "data": {
      "text/plain": [
       "['even', 'odd', 'even', 'odd', 'even', 'odd', 'even', 'odd', 'even', 'odd']"
      ]
     },
     "execution_count": 32,
     "metadata": {},
     "output_type": "execute_result"
    }
   ],
   "source": [
    "[\"even\" if i%2==0 else \"odd\" for i in range(10)]"
   ]
  },
  {
   "cell_type": "markdown",
   "metadata": {},
   "source": [
    "### List Comprehension Syntax\n",
    "```python\n",
    "[ if else  for item in list ]\n",
    "```\n",
    "To remenber:\n",
    "    * square brackets\n",
    "    * if else at the beginning\n",
    "    * iterator follows the function"
   ]
  },
  {
   "cell_type": "markdown",
   "metadata": {},
   "source": [
    "### Exercise 4. Write `even` for even integes and `odd` for odd integers but filter out string elements"
   ]
  },
  {
   "cell_type": "code",
   "execution_count": 38,
   "metadata": {},
   "outputs": [],
   "source": [
    "l = [1, 2, 3, 'hello', 4, 'how', 9, 'its', 5, 'going']"
   ]
  },
  {
   "cell_type": "markdown",
   "metadata": {},
   "source": [
    "### Exercise 5. Flat a list. Do you see that the following list is a list of lists? Flat that list. \n",
    "#### This is a difficult exercise, so first do it with a normal foor loop and then try it with a list compression\n",
    "```python\n",
    "[[1,2,3], [3,4,5], [7,8, 9]] > [1, 2, 3, 4, 5, 6, 7, 8 ,9]\n",
    "```"
   ]
  },
  {
   "cell_type": "code",
   "execution_count": 61,
   "metadata": {},
   "outputs": [],
   "source": [
    "l = [[1,2,3], [4,5, 6], [7,8, 9]]"
   ]
  },
  {
   "cell_type": "code",
   "execution_count": null,
   "metadata": {},
   "outputs": [],
   "source": []
  }
 ],
 "metadata": {
  "kernelspec": {
   "display_name": "Python 3",
   "language": "python",
   "name": "python3"
  },
  "language_info": {
   "codemirror_mode": {
    "name": "ipython",
    "version": 3
   },
   "file_extension": ".py",
   "mimetype": "text/x-python",
   "name": "python",
   "nbconvert_exporter": "python",
   "pygments_lexer": "ipython3",
   "version": "3.8.6"
  }
 },
 "nbformat": 4,
 "nbformat_minor": 4
}

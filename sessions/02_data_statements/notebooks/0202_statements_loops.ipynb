{
 "cells": [
  {
   "cell_type": "markdown",
   "metadata": {
    "id": "KHKvL0DNvFEq"
   },
   "source": [
    "### Exercise 1. Print First 10 natural"
   ]
  },
  {
   "cell_type": "code",
   "execution_count": 1,
   "metadata": {
    "id": "Ty2qFoGlvFEs",
    "scrolled": true
   },
   "outputs": [],
   "source": [
    "l = list(range(0, 10))"
   ]
  },
  {
   "cell_type": "markdown",
   "metadata": {
    "id": "kNNy1KYcvFEt"
   },
   "source": [
    "### Exercise 2. Print First 10 Odd Natural Numbers"
   ]
  },
  {
   "cell_type": "markdown",
   "metadata": {
    "id": "x-qjJpyTvFEt"
   },
   "source": [
    "### Exercise 3. Print the following pattern\n",
    "Hint\n",
    "```python\n",
    "list(range(1,10))\n",
    "```"
   ]
  },
  {
   "cell_type": "markdown",
   "metadata": {
    "id": "PvVICy6VvFEt"
   },
   "source": [
    "### Exercise 4. Print the following pattern\n",
    "Hint\n",
    "```python\n",
    "reversed()\n",
    "```"
   ]
  },
  {
   "cell_type": "markdown",
   "metadata": {
    "id": "Ud3N2RrzvFEt"
   },
   "source": [
    "### Exercise 5. Print the following pattern\n",
    "Hint\n",
    "```python\n",
    "list() vs tuple()\n",
    "```"
   ]
  },
  {
   "cell_type": "markdown",
   "metadata": {
    "id": "k17updoOvFEt"
   },
   "source": [
    "### Exercise 6. Print the following pattern\n",
    "Hint\n",
    "```python\n",
    "name = 'Tom'\n",
    "print(f'Hello {name}!')\n",
    "```"
   ]
  },
  {
   "cell_type": "markdown",
   "metadata": {
    "id": "OD6bdnVRvFEu"
   },
   "source": [
    "### Exercise 7. Print the fibonacci serie\n",
    "```python\n",
    "[0, 1, 1, 2, 3, 5, 8, 13, 21, 34, 55, 89, 144, ...]\n",
    "```\n"
   ]
  },
  {
   "cell_type": "markdown",
   "metadata": {
    "id": "uLIgcFKrvFEu"
   },
   "source": [
    "### Exercise 8. Define the fibonacci function\n",
    "Hint\n",
    "```python\n",
    "def fibonacci(n):\n",
    "    # print the n first numbers of fibonacci serie\n",
    "```\n"
   ]
  },
  {
   "cell_type": "markdown",
   "metadata": {
    "id": "h-yZTXfgvFEu"
   },
   "source": [
    "### Exercise 9. Fibonacci function should return a list not prints\n",
    "![Image of Yaktocat](https://encrypted-tbn0.gstatic.com/images?q=tbn:ANd9GcRo6h2pMEx86lptG57nBjWAvX6L71TO19O6eg&s)\n",
    "\n",
    "Hint\n",
    "```python\n",
    "def fibonacci(n):\n",
    "    # return a list with the n first elements\n",
    "```"
   ]
  },
  {
   "cell_type": "markdown",
   "metadata": {
    "id": "IunSLzOqvFEu"
   },
   "source": [
    "### Exercise 10. Given a fibonacci serie, calculate the ratio between each element and the previous one\n",
    "Hint\n",
    "```python\n",
    "fib_serie = fibonacci(20)\n",
    "```"
   ]
  },
  {
   "cell_type": "code",
   "execution_count": 3,
   "metadata": {
    "id": "sKXowbjcvFEu"
   },
   "outputs": [],
   "source": [
    "# fib_serie = fibonacci(20)"
   ]
  }
 ],
 "metadata": {
  "colab": {
   "provenance": []
  },
  "kernelspec": {
   "display_name": "Python 3 (ipykernel)",
   "language": "python",
   "name": "python3"
  },
  "language_info": {
   "codemirror_mode": {
    "name": "ipython",
    "version": 3
   },
   "file_extension": ".py",
   "mimetype": "text/x-python",
   "name": "python",
   "nbconvert_exporter": "python",
   "pygments_lexer": "ipython3",
   "version": "3.13.0"
  }
 },
 "nbformat": 4,
 "nbformat_minor": 4
}

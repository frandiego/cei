{
 "cells": [
  {
   "cell_type": "code",
   "execution_count": 1,
   "id": "e66aa80d-4e5a-4e57-84a5-1f2f9ffecd68",
   "metadata": {},
   "outputs": [],
   "source": [
    "import polars as pl"
   ]
  },
  {
   "cell_type": "code",
   "execution_count": 2,
   "id": "afe553fa-2286-4129-ab9b-093b9328930f",
   "metadata": {},
   "outputs": [],
   "source": [
    "url = \"https://raw.githubusercontent.com/frandiego/cei/refs/heads/main/data/instacart/{0}.parquet\""
   ]
  },
  {
   "cell_type": "code",
   "execution_count": 3,
   "id": "75823f34-0ef3-4f33-ab79-8f7777678625",
   "metadata": {},
   "outputs": [
    {
     "name": "stdout",
     "output_type": "stream",
     "text": [
      "CPU times: user 491 ms, sys: 527 ms, total: 1.02 s\n",
      "Wall time: 18.7 s\n"
     ]
    },
    {
     "data": {
      "text/html": [
       "<div><style>\n",
       ".dataframe > thead > tr,\n",
       ".dataframe > tbody > tr {\n",
       "  text-align: right;\n",
       "  white-space: pre-wrap;\n",
       "}\n",
       "</style>\n",
       "<small>shape: (33_819_106, 4)</small><table border=\"1\" class=\"dataframe\"><thead><tr><th>order_id</th><th>product_id</th><th>add_to_cart_order</th><th>reordered</th></tr><tr><td>i64</td><td>i64</td><td>i64</td><td>i64</td></tr></thead><tbody><tr><td>2</td><td>33120</td><td>1</td><td>1</td></tr><tr><td>2</td><td>28985</td><td>2</td><td>1</td></tr><tr><td>2</td><td>9327</td><td>3</td><td>0</td></tr><tr><td>2</td><td>45918</td><td>4</td><td>1</td></tr><tr><td>2</td><td>30035</td><td>5</td><td>0</td></tr><tr><td>&hellip;</td><td>&hellip;</td><td>&hellip;</td><td>&hellip;</td></tr><tr><td>3421063</td><td>14233</td><td>3</td><td>1</td></tr><tr><td>3421063</td><td>35548</td><td>4</td><td>1</td></tr><tr><td>3421070</td><td>35951</td><td>1</td><td>1</td></tr><tr><td>3421070</td><td>16953</td><td>2</td><td>1</td></tr><tr><td>3421070</td><td>4724</td><td>3</td><td>1</td></tr></tbody></table></div>"
      ],
      "text/plain": [
       "shape: (33_819_106, 4)\n",
       "┌──────────┬────────────┬───────────────────┬───────────┐\n",
       "│ order_id ┆ product_id ┆ add_to_cart_order ┆ reordered │\n",
       "│ ---      ┆ ---        ┆ ---               ┆ ---       │\n",
       "│ i64      ┆ i64        ┆ i64               ┆ i64       │\n",
       "╞══════════╪════════════╪═══════════════════╪═══════════╡\n",
       "│ 2        ┆ 33120      ┆ 1                 ┆ 1         │\n",
       "│ 2        ┆ 28985      ┆ 2                 ┆ 1         │\n",
       "│ 2        ┆ 9327       ┆ 3                 ┆ 0         │\n",
       "│ 2        ┆ 45918      ┆ 4                 ┆ 1         │\n",
       "│ 2        ┆ 30035      ┆ 5                 ┆ 0         │\n",
       "│ …        ┆ …          ┆ …                 ┆ …         │\n",
       "│ 3421063  ┆ 14233      ┆ 3                 ┆ 1         │\n",
       "│ 3421063  ┆ 35548      ┆ 4                 ┆ 1         │\n",
       "│ 3421070  ┆ 35951      ┆ 1                 ┆ 1         │\n",
       "│ 3421070  ┆ 16953      ┆ 2                 ┆ 1         │\n",
       "│ 3421070  ┆ 4724       ┆ 3                 ┆ 1         │\n",
       "└──────────┴────────────┴───────────────────┴───────────┘"
      ]
     },
     "execution_count": 3,
     "metadata": {},
     "output_type": "execute_result"
    }
   ],
   "source": [
    "%%time\n",
    "# example of reading \n",
    "df_order_products = pl.read_parquet(url.format('order_products'))\n",
    "df_order_products"
   ]
  },
  {
   "cell_type": "code",
   "execution_count": 4,
   "id": "3f1fe671-a05f-43ee-bcd4-300e711e87f9",
   "metadata": {},
   "outputs": [
    {
     "name": "stdout",
     "output_type": "stream",
     "text": [
      "CPU times: user 111 ms, sys: 8.62 ms, total: 120 ms\n",
      "Wall time: 333 ms\n"
     ]
    },
    {
     "data": {
      "text/html": [
       "<div><style>\n",
       ".dataframe > thead > tr,\n",
       ".dataframe > tbody > tr {\n",
       "  text-align: right;\n",
       "  white-space: pre-wrap;\n",
       "}\n",
       "</style>\n",
       "<small>shape: (49_688, 4)</small><table border=\"1\" class=\"dataframe\"><thead><tr><th>product_id</th><th>product_name</th><th>aisle_id</th><th>department_id</th></tr><tr><td>i64</td><td>str</td><td>i64</td><td>i64</td></tr></thead><tbody><tr><td>1</td><td>&quot;Chocolate&nbsp;Sandwich&nbsp;Cookies&quot;</td><td>61</td><td>19</td></tr><tr><td>2</td><td>&quot;All-Seasons&nbsp;Salt&quot;</td><td>104</td><td>13</td></tr><tr><td>3</td><td>&quot;Robust&nbsp;Golden&nbsp;Unsweetened&nbsp;Oolo…</td><td>94</td><td>7</td></tr><tr><td>4</td><td>&quot;Smart&nbsp;Ones&nbsp;Classic&nbsp;Favorites&nbsp;M…</td><td>38</td><td>1</td></tr><tr><td>5</td><td>&quot;Green&nbsp;Chile&nbsp;Anytime&nbsp;Sauce&quot;</td><td>5</td><td>13</td></tr><tr><td>&hellip;</td><td>&hellip;</td><td>&hellip;</td><td>&hellip;</td></tr><tr><td>49684</td><td>&quot;Vodka,&nbsp;Triple&nbsp;Distilled,&nbsp;Twist…</td><td>124</td><td>5</td></tr><tr><td>49685</td><td>&quot;En&nbsp;Croute&nbsp;Roast&nbsp;Hazelnut&nbsp;Cranb…</td><td>42</td><td>1</td></tr><tr><td>49686</td><td>&quot;Artisan&nbsp;Baguette&quot;</td><td>112</td><td>3</td></tr><tr><td>49687</td><td>&quot;Smartblend&nbsp;Healthy&nbsp;Metabolism&nbsp;…</td><td>41</td><td>8</td></tr><tr><td>49688</td><td>&quot;Fresh&nbsp;Foaming&nbsp;Cleanser&quot;</td><td>73</td><td>11</td></tr></tbody></table></div>"
      ],
      "text/plain": [
       "shape: (49_688, 4)\n",
       "┌────────────┬─────────────────────────────────┬──────────┬───────────────┐\n",
       "│ product_id ┆ product_name                    ┆ aisle_id ┆ department_id │\n",
       "│ ---        ┆ ---                             ┆ ---      ┆ ---           │\n",
       "│ i64        ┆ str                             ┆ i64      ┆ i64           │\n",
       "╞════════════╪═════════════════════════════════╪══════════╪═══════════════╡\n",
       "│ 1          ┆ Chocolate Sandwich Cookies      ┆ 61       ┆ 19            │\n",
       "│ 2          ┆ All-Seasons Salt                ┆ 104      ┆ 13            │\n",
       "│ 3          ┆ Robust Golden Unsweetened Oolo… ┆ 94       ┆ 7             │\n",
       "│ 4          ┆ Smart Ones Classic Favorites M… ┆ 38       ┆ 1             │\n",
       "│ 5          ┆ Green Chile Anytime Sauce       ┆ 5        ┆ 13            │\n",
       "│ …          ┆ …                               ┆ …        ┆ …             │\n",
       "│ 49684      ┆ Vodka, Triple Distilled, Twist… ┆ 124      ┆ 5             │\n",
       "│ 49685      ┆ En Croute Roast Hazelnut Cranb… ┆ 42       ┆ 1             │\n",
       "│ 49686      ┆ Artisan Baguette                ┆ 112      ┆ 3             │\n",
       "│ 49687      ┆ Smartblend Healthy Metabolism … ┆ 41       ┆ 8             │\n",
       "│ 49688      ┆ Fresh Foaming Cleanser          ┆ 73       ┆ 11            │\n",
       "└────────────┴─────────────────────────────────┴──────────┴───────────────┘"
      ]
     },
     "execution_count": 4,
     "metadata": {},
     "output_type": "execute_result"
    }
   ],
   "source": [
    "%%time\n",
    "# example of reading \n",
    "df_order_products = pl.read_parquet(url.format('products'))\n",
    "df_order_products"
   ]
  },
  {
   "cell_type": "markdown",
   "id": "dd9be11e-4171-4672-b64b-30c7124caa99",
   "metadata": {},
   "source": [
    "## Exercise\n",
    "### Create a table with user information, which products each user buys, when they buy them, and whether they have bought them before or not \n",
    "#### The table should have the following columns\n",
    "```python\n",
    "[\n",
    "    'user_id', 'order_id', 'product_id', \n",
    "    'order_dow', 'order_hour_of_day', 'add_to_cart_order', \n",
    "    'reordered', 'product_name', 'aisle', 'department',\n",
    "]\n",
    "```"
   ]
  }
 ],
 "metadata": {
  "kernelspec": {
   "display_name": "Python 3 (ipykernel)",
   "language": "python",
   "name": "python3"
  },
  "language_info": {
   "codemirror_mode": {
    "name": "ipython",
    "version": 3
   },
   "file_extension": ".py",
   "mimetype": "text/x-python",
   "name": "python",
   "nbconvert_exporter": "python",
   "pygments_lexer": "ipython3",
   "version": "3.13.0"
  }
 },
 "nbformat": 4,
 "nbformat_minor": 5
}

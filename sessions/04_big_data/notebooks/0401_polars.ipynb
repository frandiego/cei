{
 "cells": [
  {
   "cell_type": "code",
   "execution_count": 1,
   "id": "e66aa80d-4e5a-4e57-84a5-1f2f9ffecd68",
   "metadata": {},
   "outputs": [],
   "source": [
    "import polars as pl"
   ]
  },
  {
   "cell_type": "markdown",
   "id": "b8e45157-3da1-4c01-851f-a88513c19832",
   "metadata": {},
   "source": [
    "# Data Structure"
   ]
  },
  {
   "cell_type": "markdown",
   "id": "4d753c34-4d94-4085-af45-7ccfa6c77603",
   "metadata": {},
   "source": [
    "![structure](https://github.com/frandiego/cei/blob/main/images/instacart_schema.png?raw=true)"
   ]
  },
  {
   "cell_type": "code",
   "execution_count": 2,
   "id": "afe553fa-2286-4129-ab9b-093b9328930f",
   "metadata": {},
   "outputs": [],
   "source": [
    "url = \"https://raw.githubusercontent.com/frandiego/cei/refs/heads/main/data/instacart/{0}.parquet\""
   ]
  },
  {
   "cell_type": "code",
   "execution_count": 5,
   "id": "75823f34-0ef3-4f33-ab79-8f7777678625",
   "metadata": {},
   "outputs": [
    {
     "name": "stdout",
     "output_type": "stream",
     "text": [
      "CPU times: user 1.05 s, sys: 565 ms, total: 1.62 s\n",
      "Wall time: 7.41 s\n"
     ]
    }
   ],
   "source": [
    "%%time\n",
    "# example of reading \n",
    "data = {k: pl.read_parquet(url.format(k)) for k in ['order_products', 'orders', 'products', 'aisles', 'departments']}"
   ]
  },
  {
   "cell_type": "code",
   "execution_count": 20,
   "id": "d4516e26-330f-4490-8608-b2f6062cdbf0",
   "metadata": {},
   "outputs": [],
   "source": [
    "# read orders and users data\n",
    "df = data['order_products'].join(data['orders'], on = 'order_id', how = 'left').drop(['order_number', 'days_since_prior_order'])"
   ]
  },
  {
   "cell_type": "code",
   "execution_count": 18,
   "id": "44194c70-a81d-4f50-8880-48deed7acd83",
   "metadata": {},
   "outputs": [],
   "source": [
    "# read product data\n",
    "df_products = data['products'].join(data['aisles'], on = 'aisle_id').join(data['departments'], on = 'department_id')"
   ]
  },
  {
   "cell_type": "code",
   "execution_count": 23,
   "id": "e1ee42a0-2a20-433e-be1f-344005df1c8f",
   "metadata": {},
   "outputs": [],
   "source": [
    "# join boths\n",
    "df = df.join(df_products.select(['product_id', 'product_name', 'aisle', 'department']), on = 'product_id')"
   ]
  },
  {
   "cell_type": "code",
   "execution_count": 28,
   "id": "810f9ee8-3d47-4b29-9e2d-fe5435d4af49",
   "metadata": {},
   "outputs": [
    {
     "data": {
      "text/html": [
       "<div><style>\n",
       ".dataframe > thead > tr,\n",
       ".dataframe > tbody > tr {\n",
       "  text-align: right;\n",
       "  white-space: pre-wrap;\n",
       "}\n",
       "</style>\n",
       "<small>shape: (5, 10)</small><table border=\"1\" class=\"dataframe\"><thead><tr><th>user_id</th><th>order_id</th><th>product_id</th><th>order_dow</th><th>order_hour_of_day</th><th>add_to_cart_order</th><th>reordered</th><th>product_name</th><th>aisle</th><th>department</th></tr><tr><td>i64</td><td>i64</td><td>i64</td><td>i64</td><td>i64</td><td>i64</td><td>i64</td><td>str</td><td>str</td><td>str</td></tr></thead><tbody><tr><td>202279</td><td>2</td><td>33120</td><td>5</td><td>9</td><td>1</td><td>1</td><td>&quot;Organic&nbsp;Egg&nbsp;Whites&quot;</td><td>&quot;eggs&quot;</td><td>&quot;dairy&nbsp;eggs&quot;</td></tr><tr><td>202279</td><td>2</td><td>28985</td><td>5</td><td>9</td><td>2</td><td>1</td><td>&quot;Michigan&nbsp;Organic&nbsp;Kale&quot;</td><td>&quot;fresh&nbsp;vegetables&quot;</td><td>&quot;produce&quot;</td></tr><tr><td>202279</td><td>2</td><td>9327</td><td>5</td><td>9</td><td>3</td><td>0</td><td>&quot;Garlic&nbsp;Powder&quot;</td><td>&quot;spices&nbsp;seasonings&quot;</td><td>&quot;pantry&quot;</td></tr><tr><td>202279</td><td>2</td><td>45918</td><td>5</td><td>9</td><td>4</td><td>1</td><td>&quot;Coconut&nbsp;Butter&quot;</td><td>&quot;oils&nbsp;vinegars&quot;</td><td>&quot;pantry&quot;</td></tr><tr><td>202279</td><td>2</td><td>30035</td><td>5</td><td>9</td><td>5</td><td>0</td><td>&quot;Natural&nbsp;Sweetener&quot;</td><td>&quot;baking&nbsp;ingredients&quot;</td><td>&quot;pantry&quot;</td></tr></tbody></table></div>"
      ],
      "text/plain": [
       "shape: (5, 10)\n",
       "┌─────────┬──────────┬────────────┬───────────┬───┬───────────┬────────────┬───────────┬───────────┐\n",
       "│ user_id ┆ order_id ┆ product_id ┆ order_dow ┆ … ┆ reordered ┆ product_na ┆ aisle     ┆ departmen │\n",
       "│ ---     ┆ ---      ┆ ---        ┆ ---       ┆   ┆ ---       ┆ me         ┆ ---       ┆ t         │\n",
       "│ i64     ┆ i64      ┆ i64        ┆ i64       ┆   ┆ i64       ┆ ---        ┆ str       ┆ ---       │\n",
       "│         ┆          ┆            ┆           ┆   ┆           ┆ str        ┆           ┆ str       │\n",
       "╞═════════╪══════════╪════════════╪═══════════╪═══╪═══════════╪════════════╪═══════════╪═══════════╡\n",
       "│ 202279  ┆ 2        ┆ 33120      ┆ 5         ┆ … ┆ 1         ┆ Organic    ┆ eggs      ┆ dairy     │\n",
       "│         ┆          ┆            ┆           ┆   ┆           ┆ Egg Whites ┆           ┆ eggs      │\n",
       "│ 202279  ┆ 2        ┆ 28985      ┆ 5         ┆ … ┆ 1         ┆ Michigan   ┆ fresh veg ┆ produce   │\n",
       "│         ┆          ┆            ┆           ┆   ┆           ┆ Organic    ┆ etables   ┆           │\n",
       "│         ┆          ┆            ┆           ┆   ┆           ┆ Kale       ┆           ┆           │\n",
       "│ 202279  ┆ 2        ┆ 9327       ┆ 5         ┆ … ┆ 0         ┆ Garlic     ┆ spices    ┆ pantry    │\n",
       "│         ┆          ┆            ┆           ┆   ┆           ┆ Powder     ┆ seasoning ┆           │\n",
       "│         ┆          ┆            ┆           ┆   ┆           ┆            ┆ s         ┆           │\n",
       "│ 202279  ┆ 2        ┆ 45918      ┆ 5         ┆ … ┆ 1         ┆ Coconut    ┆ oils      ┆ pantry    │\n",
       "│         ┆          ┆            ┆           ┆   ┆           ┆ Butter     ┆ vinegars  ┆           │\n",
       "│ 202279  ┆ 2        ┆ 30035      ┆ 5         ┆ … ┆ 0         ┆ Natural    ┆ baking    ┆ pantry    │\n",
       "│         ┆          ┆            ┆           ┆   ┆           ┆ Sweetener  ┆ ingredien ┆           │\n",
       "│         ┆          ┆            ┆           ┆   ┆           ┆            ┆ ts        ┆           │\n",
       "└─────────┴──────────┴────────────┴───────────┴───┴───────────┴────────────┴───────────┴───────────┘"
      ]
     },
     "execution_count": 28,
     "metadata": {},
     "output_type": "execute_result"
    }
   ],
   "source": [
    "# select columns\n",
    "columns = [\n",
    "    'user_id', 'order_id', 'product_id', \n",
    "    'order_dow', 'order_hour_of_day', 'add_to_cart_order', \n",
    "    'reordered', 'product_name', 'aisle', 'department',\n",
    "]\n",
    "df = df.select(columns)\n",
    "df.head()"
   ]
  },
  {
   "cell_type": "markdown",
   "id": "dd9be11e-4171-4672-b64b-30c7124caa99",
   "metadata": {},
   "source": [
    "## Exercise\n",
    "### Create a table with user information, which products each user buys, when they buy them, and whether they have bought them before or not \n",
    "#### The table should have the following columns\n",
    "```python\n",
    "[\n",
    "    'user_id', 'order_id', 'product_id', \n",
    "    'order_dow', 'order_hour_of_day', 'add_to_cart_order', \n",
    "    'reordered', 'product_name', 'aisle', 'department',\n",
    "]\n",
    "```"
   ]
  }
 ],
 "metadata": {
  "kernelspec": {
   "display_name": "Python 3 (ipykernel)",
   "language": "python",
   "name": "python3"
  },
  "language_info": {
   "codemirror_mode": {
    "name": "ipython",
    "version": 3
   },
   "file_extension": ".py",
   "mimetype": "text/x-python",
   "name": "python",
   "nbconvert_exporter": "python",
   "pygments_lexer": "ipython3",
   "version": "3.13.0"
  }
 },
 "nbformat": 4,
 "nbformat_minor": 5
}

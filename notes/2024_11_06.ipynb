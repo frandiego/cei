{
 "cells": [
  {
   "cell_type": "markdown",
   "id": "0795b7e7-7ae8-4b77-a4ea-7afc51043e3a",
   "metadata": {},
   "source": [
    "# Slicing String"
   ]
  },
  {
   "cell_type": "code",
   "execution_count": 27,
   "id": "7d91f56f-9a07-4811-a2ff-bcba29936315",
   "metadata": {},
   "outputs": [
    {
     "name": "stdout",
     "output_type": "stream",
     "text": [
      "F\n",
      "e\n",
      "r\n",
      "n\n",
      "a\n",
      "n\n",
      "d\n",
      "o\n"
     ]
    }
   ],
   "source": [
    "# ejemplo de string\n",
    "name = 'Aida'\n",
    "name = 'Fernando'\n",
    "# un string es una lista de letras\n",
    "for letter in name:\n",
    "    print(letter)"
   ]
  },
  {
   "cell_type": "code",
   "execution_count": 73,
   "id": "c266bedf-e3a6-41f0-bafb-7901b3e8d419",
   "metadata": {},
   "outputs": [
    {
     "data": {
      "text/plain": [
       "'Fernando'"
      ]
     },
     "execution_count": 73,
     "metadata": {},
     "output_type": "execute_result"
    }
   ],
   "source": [
    "# chuleta\n",
    "# string[inicio:fin:paso]\n",
    "name[0:len(name):1]"
   ]
  },
  {
   "cell_type": "code",
   "execution_count": 29,
   "id": "7f61e397-bb0f-455c-88f3-810a48f6d269",
   "metadata": {},
   "outputs": [
    {
     "data": {
      "text/plain": [
       "'F'"
      ]
     },
     "execution_count": 29,
     "metadata": {},
     "output_type": "execute_result"
    }
   ],
   "source": [
    "# primer elemento\n",
    "name[0]"
   ]
  },
  {
   "cell_type": "code",
   "execution_count": 31,
   "id": "6d8cdd1d-05fc-41a2-bf27-0a3a57516c40",
   "metadata": {},
   "outputs": [
    {
     "data": {
      "text/plain": [
       "'o'"
      ]
     },
     "execution_count": 31,
     "metadata": {},
     "output_type": "execute_result"
    }
   ],
   "source": [
    "# acceder al último elemento\n",
    "name[-1]"
   ]
  },
  {
   "cell_type": "code",
   "execution_count": 35,
   "id": "2485abe4-595b-41f3-9acd-ac187742ced7",
   "metadata": {},
   "outputs": [
    {
     "data": {
      "text/plain": [
       "'Fer'"
      ]
     },
     "execution_count": 35,
     "metadata": {},
     "output_type": "execute_result"
    }
   ],
   "source": [
    "# las tres primeras letras\n",
    "name[0:3]\n",
    "name[:3]"
   ]
  },
  {
   "cell_type": "code",
   "execution_count": 39,
   "id": "9f02df67-c5ee-4c0f-baf9-68ae7ccae75e",
   "metadata": {},
   "outputs": [
    {
     "data": {
      "text/plain": [
       "'ndo'"
      ]
     },
     "execution_count": 39,
     "metadata": {},
     "output_type": "execute_result"
    }
   ],
   "source": [
    "# las tres ultimas letras\n",
    "name[-3:]"
   ]
  },
  {
   "cell_type": "code",
   "execution_count": 47,
   "id": "2930e420-1dcd-4a80-9624-54d74342f3b3",
   "metadata": {},
   "outputs": [
    {
     "data": {
      "text/plain": [
       "'odnanreF'"
      ]
     },
     "execution_count": 47,
     "metadata": {},
     "output_type": "execute_result"
    }
   ],
   "source": [
    "# la palabra al reves\n",
    "name[::-1]"
   ]
  },
  {
   "cell_type": "code",
   "execution_count": 69,
   "id": "7b9f4865-1335-473e-8fb2-eb2b1d47f24b",
   "metadata": {},
   "outputs": [
    {
     "data": {
      "text/plain": [
       "'oF'"
      ]
     },
     "execution_count": 69,
     "metadata": {},
     "output_type": "execute_result"
    }
   ],
   "source": [
    "# la última y la primera letra\n",
    "name[-1] + name[0]"
   ]
  },
  {
   "cell_type": "code",
   "execution_count": 67,
   "id": "3b6599a8-f0b4-4771-8bb0-5676eb804195",
   "metadata": {},
   "outputs": [
    {
     "data": {
      "text/plain": [
       "'oF'"
      ]
     },
     "execution_count": 67,
     "metadata": {},
     "output_type": "execute_result"
    }
   ],
   "source": [
    "name[::-(len(name)-1)]"
   ]
  },
  {
   "cell_type": "markdown",
   "id": "204491dd-71e5-43d7-9ed2-086350d3a988",
   "metadata": {},
   "source": [
    "# Lists"
   ]
  },
  {
   "cell_type": "code",
   "execution_count": 76,
   "id": "2ac62d2c-958a-4497-ae6a-f8134c60f8c7",
   "metadata": {},
   "outputs": [],
   "source": [
    "l = [1 , 2.0, 'tres']"
   ]
  },
  {
   "cell_type": "code",
   "execution_count": 80,
   "id": "c4561a1e-7d1b-46b4-af35-c5454aed276d",
   "metadata": {},
   "outputs": [
    {
     "data": {
      "text/plain": [
       "1"
      ]
     },
     "execution_count": 80,
     "metadata": {},
     "output_type": "execute_result"
    }
   ],
   "source": [
    "# acceder al primer elemento\n",
    "l[0]"
   ]
  },
  {
   "cell_type": "code",
   "execution_count": 82,
   "id": "77169cbd-b9e0-443e-a63c-95d247b95a9d",
   "metadata": {},
   "outputs": [
    {
     "data": {
      "text/plain": [
       "'tres'"
      ]
     },
     "execution_count": 82,
     "metadata": {},
     "output_type": "execute_result"
    }
   ],
   "source": [
    "# acceder al último elemento\n",
    "l[-1]"
   ]
  },
  {
   "cell_type": "code",
   "execution_count": 88,
   "id": "78d5baf0-013a-4b5e-9467-afca4145e725",
   "metadata": {},
   "outputs": [
    {
     "data": {
      "text/plain": [
       "[1, 2.0]"
      ]
     },
     "execution_count": 88,
     "metadata": {},
     "output_type": "execute_result"
    }
   ],
   "source": [
    "# acceder a los dos primeros elementos\n",
    "l[:2]"
   ]
  },
  {
   "cell_type": "code",
   "execution_count": 90,
   "id": "ca54a3bf-57ba-4923-ac4e-0429b8d2ec6b",
   "metadata": {},
   "outputs": [
    {
     "ename": "TypeError",
     "evalue": "unsupported operand type(s) for +: 'int' and 'str'",
     "output_type": "error",
     "traceback": [
      "\u001b[0;31m---------------------------------------------------------------------------\u001b[0m",
      "\u001b[0;31mTypeError\u001b[0m                                 Traceback (most recent call last)",
      "Cell \u001b[0;32mIn[90], line 2\u001b[0m\n\u001b[1;32m      1\u001b[0m \u001b[38;5;66;03m# acceder al primero y al último\u001b[39;00m\n\u001b[0;32m----> 2\u001b[0m l[\u001b[38;5;241m0\u001b[39m] \u001b[38;5;241m+\u001b[39m l[\u001b[38;5;241m-\u001b[39m\u001b[38;5;241m1\u001b[39m]\n",
      "\u001b[0;31mTypeError\u001b[0m: unsupported operand type(s) for +: 'int' and 'str'"
     ]
    }
   ],
   "source": [
    "# acceder al primero y al último [1, 'tres']\n",
    "l[0] + l[-1]"
   ]
  },
  {
   "cell_type": "code",
   "execution_count": 120,
   "id": "ffd8bea7-7684-4767-adb8-c1e3f72e6990",
   "metadata": {},
   "outputs": [
    {
     "data": {
      "text/plain": [
       "[1, 'tres']"
      ]
     },
     "execution_count": 120,
     "metadata": {},
     "output_type": "execute_result"
    }
   ],
   "source": [
    "l[::len(l)-1]"
   ]
  },
  {
   "cell_type": "code",
   "execution_count": 116,
   "id": "0713f15d-686b-42c2-b054-0081f4b947c1",
   "metadata": {},
   "outputs": [
    {
     "ename": "TypeError",
     "evalue": "'int' object is not iterable",
     "output_type": "error",
     "traceback": [
      "\u001b[0;31m---------------------------------------------------------------------------\u001b[0m",
      "\u001b[0;31mTypeError\u001b[0m                                 Traceback (most recent call last)",
      "Cell \u001b[0;32mIn[116], line 2\u001b[0m\n\u001b[1;32m      1\u001b[0m \u001b[38;5;66;03m# suma de listas -> lista concatenada\u001b[39;00m\n\u001b[0;32m----> 2\u001b[0m \u001b[38;5;28mlist\u001b[39m(l[\u001b[38;5;241m0\u001b[39m])\n",
      "\u001b[0;31mTypeError\u001b[0m: 'int' object is not iterable"
     ]
    }
   ],
   "source": [
    "# suma de listas -> lista concatenada\n",
    "list(l[0])"
   ]
  },
  {
   "cell_type": "code",
   "execution_count": 130,
   "id": "41582f98-6d99-4917-9c20-3d580d30a23c",
   "metadata": {},
   "outputs": [
    {
     "data": {
      "text/plain": [
       "[1]"
      ]
     },
     "execution_count": 130,
     "metadata": {},
     "output_type": "execute_result"
    }
   ],
   "source": [
    "[l[0]]"
   ]
  },
  {
   "cell_type": "code",
   "execution_count": 132,
   "id": "02dfd666-963b-4b89-b150-30bf54c3271f",
   "metadata": {},
   "outputs": [
    {
     "data": {
      "text/plain": [
       "['tres']"
      ]
     },
     "execution_count": 132,
     "metadata": {},
     "output_type": "execute_result"
    }
   ],
   "source": [
    "[l[-1]]"
   ]
  },
  {
   "cell_type": "code",
   "execution_count": 134,
   "id": "9ecc0a41-13a2-4de2-b108-a38ce84fa17a",
   "metadata": {},
   "outputs": [
    {
     "data": {
      "text/plain": [
       "[1, 'tres']"
      ]
     },
     "execution_count": 134,
     "metadata": {},
     "output_type": "execute_result"
    }
   ],
   "source": [
    "[l[0]] + [l[-1]]"
   ]
  },
  {
   "cell_type": "markdown",
   "id": "832c4b53-9d9b-47a9-a638-813425cf0ac6",
   "metadata": {},
   "source": [
    "# Funciones de strings"
   ]
  },
  {
   "cell_type": "code",
   "execution_count": 147,
   "id": "b21b0292-c6be-42f1-83f1-15b4c84c00af",
   "metadata": {},
   "outputs": [],
   "source": [
    "#dir(str)"
   ]
  },
  {
   "cell_type": "code",
   "execution_count": 141,
   "id": "f64060f6-bc72-4de5-abf1-f9835d6d5bba",
   "metadata": {},
   "outputs": [],
   "source": [
    "string = 'hard rock'"
   ]
  },
  {
   "cell_type": "code",
   "execution_count": 143,
   "id": "54d61703-6464-495c-9fe2-05cdde6f693f",
   "metadata": {},
   "outputs": [
    {
     "data": {
      "text/plain": [
       "'Hard rock'"
      ]
     },
     "execution_count": 143,
     "metadata": {},
     "output_type": "execute_result"
    }
   ],
   "source": [
    "# primera letra en mayuscula\n",
    "string.capitalize()"
   ]
  },
  {
   "cell_type": "code",
   "execution_count": 145,
   "id": "d6a4abe3-14a2-490b-a02c-f29bd3b62306",
   "metadata": {},
   "outputs": [
    {
     "data": {
      "text/plain": [
       "'Hard Rock'"
      ]
     },
     "execution_count": 145,
     "metadata": {},
     "output_type": "execute_result"
    }
   ],
   "source": [
    "# todas las palabras en mayuscula\n",
    "string.title()"
   ]
  },
  {
   "cell_type": "code",
   "execution_count": 149,
   "id": "7001a03d-e648-4c26-99a4-29a1db6a2033",
   "metadata": {},
   "outputs": [
    {
     "data": {
      "text/plain": [
       "'HARD ROCK'"
      ]
     },
     "execution_count": 149,
     "metadata": {},
     "output_type": "execute_result"
    }
   ],
   "source": [
    "# todo en mayuscula\n",
    "string.upper()"
   ]
  },
  {
   "cell_type": "code",
   "execution_count": 151,
   "id": "30dd644b-3a3a-4b36-8141-b7d251e80195",
   "metadata": {},
   "outputs": [
    {
     "data": {
      "text/plain": [
       "'hard rock'"
      ]
     },
     "execution_count": 151,
     "metadata": {},
     "output_type": "execute_result"
    }
   ],
   "source": [
    "# todo en minuscula\n",
    "string.lower()"
   ]
  },
  {
   "cell_type": "code",
   "execution_count": 155,
   "id": "e7468f18-d4e6-4a78-b45a-2740ce04e9d1",
   "metadata": {},
   "outputs": [
    {
     "data": {
      "text/plain": [
       "2"
      ]
     },
     "execution_count": 155,
     "metadata": {},
     "output_type": "execute_result"
    }
   ],
   "source": [
    "# contar elnumero de r\n",
    "string.count('r')"
   ]
  },
  {
   "cell_type": "code",
   "execution_count": 157,
   "id": "712eced2-8f71-4f0c-8113-14af0419ebc9",
   "metadata": {},
   "outputs": [
    {
     "data": {
      "text/plain": [
       "'Hard Rock'"
      ]
     },
     "execution_count": 157,
     "metadata": {},
     "output_type": "execute_result"
    }
   ],
   "source": [
    "string = string.title()\n",
    "string"
   ]
  },
  {
   "cell_type": "code",
   "execution_count": 167,
   "id": "800b7f0c-3ac8-4680-9692-8f93c75af30e",
   "metadata": {},
   "outputs": [
    {
     "data": {
      "text/plain": [
       "2"
      ]
     },
     "execution_count": 167,
     "metadata": {},
     "output_type": "execute_result"
    }
   ],
   "source": [
    "# contar el numero de r\n",
    "string.lower().count('r')"
   ]
  },
  {
   "cell_type": "code",
   "execution_count": 169,
   "id": "05f42e7e-9c07-48a6-8f14-edf8df66a424",
   "metadata": {},
   "outputs": [
    {
     "data": {
      "text/plain": [
       "2"
      ]
     },
     "execution_count": 169,
     "metadata": {},
     "output_type": "execute_result"
    }
   ],
   "source": [
    "string.upper().count('R')"
   ]
  },
  {
   "cell_type": "code",
   "execution_count": 173,
   "id": "c4373d1b-cda2-4a45-b29a-ef91ea184f72",
   "metadata": {},
   "outputs": [
    {
     "data": {
      "text/plain": [
       "True"
      ]
     },
     "execution_count": 173,
     "metadata": {},
     "output_type": "execute_result"
    }
   ],
   "source": [
    "string.startswith('H')"
   ]
  },
  {
   "cell_type": "code",
   "execution_count": 175,
   "id": "8882a91e-2453-427a-b150-16f3f105ed2c",
   "metadata": {},
   "outputs": [
    {
     "data": {
      "text/plain": [
       "True"
      ]
     },
     "execution_count": 175,
     "metadata": {},
     "output_type": "execute_result"
    }
   ],
   "source": [
    "string.endswith('k')"
   ]
  },
  {
   "cell_type": "code",
   "execution_count": 193,
   "id": "35ca01df-7a41-4b8b-b6f7-43b593f55378",
   "metadata": {},
   "outputs": [
    {
     "data": {
      "text/plain": [
       "True"
      ]
     },
     "execution_count": 193,
     "metadata": {},
     "output_type": "execute_result"
    }
   ],
   "source": [
    "string[-1] == 'k' "
   ]
  },
  {
   "cell_type": "markdown",
   "id": "021bc6d8-a744-42d6-9f08-1ae6d223dd5e",
   "metadata": {},
   "source": [
    "### How it works under the hood\n",
    "### Como funcina por dentro String"
   ]
  },
  {
   "cell_type": "code",
   "execution_count": 224,
   "id": "c85511a4-0ef0-4009-8ee6-4849349c9eb2",
   "metadata": {},
   "outputs": [
    {
     "name": "stdout",
     "output_type": "stream",
     "text": [
      "a: adios b: hola\n"
     ]
    }
   ],
   "source": [
    "a = 'hola'\n",
    "b = a\n",
    "a = 'adios'\n",
    "print('a:', a, 'b:', b)"
   ]
  },
  {
   "cell_type": "code",
   "execution_count": 226,
   "id": "b54274a1-5bb6-4ff1-a8ae-646b98150fd5",
   "metadata": {},
   "outputs": [
    {
     "name": "stdout",
     "output_type": "stream",
     "text": [
      "a: 2 b: 1\n"
     ]
    }
   ],
   "source": [
    "a = 1\n",
    "b = a\n",
    "a = 2\n",
    "print('a:', a, 'b:', b)"
   ]
  },
  {
   "cell_type": "markdown",
   "id": "5d1e7068-4150-4d53-8b98-245600daa3d9",
   "metadata": {},
   "source": [
    "### Como funcina por dentro una Lista"
   ]
  },
  {
   "cell_type": "code",
   "execution_count": 246,
   "id": "e1001e2c-fae6-49ae-8631-606079bd7a00",
   "metadata": {},
   "outputs": [],
   "source": [
    "a = [1,2,3]\n",
    "b = a\n",
    "a = [1,2,3, 4]"
   ]
  },
  {
   "cell_type": "code",
   "execution_count": 248,
   "id": "c5be43bc-1b1b-4298-be88-f178c88e8355",
   "metadata": {},
   "outputs": [
    {
     "name": "stdout",
     "output_type": "stream",
     "text": [
      "a: [1, 2, 3, 4] b: [1, 2, 3]\n"
     ]
    }
   ],
   "source": [
    "print('a:', a, 'b:', b)"
   ]
  },
  {
   "cell_type": "code",
   "execution_count": 260,
   "id": "947d5ee8-d0a3-4738-b851-a741421203ea",
   "metadata": {},
   "outputs": [
    {
     "name": "stdout",
     "output_type": "stream",
     "text": [
      "a: [1, 2, 3, 4] b: [1, 2, 3, 4]\n"
     ]
    }
   ],
   "source": [
    "a = [1,2,3]\n",
    "b = a\n",
    "a.extend([4])\n",
    "print('a:', a, 'b:', b)"
   ]
  },
  {
   "cell_type": "code",
   "execution_count": 266,
   "id": "22a366e3-d8d1-48c5-8850-3247c1d428e5",
   "metadata": {},
   "outputs": [
    {
     "name": "stdout",
     "output_type": "stream",
     "text": [
      "a: [1, 2, 3, 4] b: [1, 2, 3, 4]\n"
     ]
    }
   ],
   "source": [
    "a = [1,2,3]\n",
    "b = a\n",
    "b.extend([4])\n",
    "print('a:', a, 'b:', b)"
   ]
  },
  {
   "cell_type": "code",
   "execution_count": 272,
   "id": "3b4f91d5-b5d9-40e6-9499-a5d5113b8e09",
   "metadata": {},
   "outputs": [
    {
     "name": "stdout",
     "output_type": "stream",
     "text": [
      "hola\n",
      "HOLA\n"
     ]
    }
   ],
   "source": [
    "a = 'hola'\n",
    "b = a.upper()\n",
    "print(a)\n",
    "print(b)"
   ]
  },
  {
   "cell_type": "code",
   "execution_count": 276,
   "id": "ef82be22-2382-4f66-9b25-9ce4ca3e0e7f",
   "metadata": {},
   "outputs": [],
   "source": [
    "a = [1]\n",
    "b = a\n",
    "a.extend([2])"
   ]
  },
  {
   "cell_type": "code",
   "execution_count": 278,
   "id": "13c9acd3-720c-4049-9ada-675a71ba3ac1",
   "metadata": {},
   "outputs": [
    {
     "data": {
      "text/plain": [
       "[1, 2]"
      ]
     },
     "execution_count": 278,
     "metadata": {},
     "output_type": "execute_result"
    }
   ],
   "source": [
    "a"
   ]
  },
  {
   "cell_type": "code",
   "execution_count": 280,
   "id": "24ad37cd-53d1-432c-93f4-ba9b38616aa9",
   "metadata": {},
   "outputs": [
    {
     "data": {
      "text/plain": [
       "[1, 2]"
      ]
     },
     "execution_count": 280,
     "metadata": {},
     "output_type": "execute_result"
    }
   ],
   "source": [
    "b"
   ]
  },
  {
   "cell_type": "code",
   "execution_count": 282,
   "id": "b516b659-589b-4099-b2f1-de122eb585e1",
   "metadata": {},
   "outputs": [
    {
     "data": {
      "text/plain": [
       "['__add__',\n",
       " '__class__',\n",
       " '__class_getitem__',\n",
       " '__contains__',\n",
       " '__delattr__',\n",
       " '__delitem__',\n",
       " '__dir__',\n",
       " '__doc__',\n",
       " '__eq__',\n",
       " '__format__',\n",
       " '__ge__',\n",
       " '__getattribute__',\n",
       " '__getitem__',\n",
       " '__getstate__',\n",
       " '__gt__',\n",
       " '__hash__',\n",
       " '__iadd__',\n",
       " '__imul__',\n",
       " '__init__',\n",
       " '__init_subclass__',\n",
       " '__iter__',\n",
       " '__le__',\n",
       " '__len__',\n",
       " '__lt__',\n",
       " '__mul__',\n",
       " '__ne__',\n",
       " '__new__',\n",
       " '__reduce__',\n",
       " '__reduce_ex__',\n",
       " '__repr__',\n",
       " '__reversed__',\n",
       " '__rmul__',\n",
       " '__setattr__',\n",
       " '__setitem__',\n",
       " '__sizeof__',\n",
       " '__str__',\n",
       " '__subclasshook__',\n",
       " 'append',\n",
       " 'clear',\n",
       " 'copy',\n",
       " 'count',\n",
       " 'extend',\n",
       " 'index',\n",
       " 'insert',\n",
       " 'pop',\n",
       " 'remove',\n",
       " 'reverse',\n",
       " 'sort']"
      ]
     },
     "execution_count": 282,
     "metadata": {},
     "output_type": "execute_result"
    }
   ],
   "source": [
    "dir(list)"
   ]
  },
  {
   "cell_type": "code",
   "execution_count": 334,
   "id": "01ea0d9e-b581-41d2-bc05-02bf8f4a1bc4",
   "metadata": {},
   "outputs": [
    {
     "data": {
      "text/plain": [
       "[5, 7, 8, 4, 3, 1, 9, 4]"
      ]
     },
     "execution_count": 334,
     "metadata": {},
     "output_type": "execute_result"
    }
   ],
   "source": [
    "l = [5,7,8,4,3,1,9,4]\n",
    "l"
   ]
  },
  {
   "cell_type": "code",
   "execution_count": 336,
   "id": "5c166a35-5d62-4a78-9912-4945fe4d98ad",
   "metadata": {},
   "outputs": [
    {
     "data": {
      "text/plain": [
       "[5, 7, 8, 4, 3, 1, 9, 4, 10]"
      ]
     },
     "execution_count": 336,
     "metadata": {},
     "output_type": "execute_result"
    }
   ],
   "source": [
    "# añadir un nuevo elemento (10)\n",
    "l.extend([10])\n",
    "l"
   ]
  },
  {
   "cell_type": "code",
   "execution_count": 338,
   "id": "9b21e7e0-726d-4e3b-900d-b8a163c6f26a",
   "metadata": {},
   "outputs": [
    {
     "data": {
      "text/plain": [
       "[5, 7, 8, 4, 3, 1, 9, 4, 10, 11, 12]"
      ]
     },
     "execution_count": 338,
     "metadata": {},
     "output_type": "execute_result"
    }
   ],
   "source": [
    "# añadir dos elementos 11, 12\n",
    "l.extend([11,12])\n",
    "l"
   ]
  },
  {
   "cell_type": "code",
   "execution_count": 340,
   "id": "912a0026-026f-43a2-ba20-f1d691eba1e9",
   "metadata": {},
   "outputs": [
    {
     "data": {
      "text/plain": [
       "[5, 7, 8, 4, 3, 1, 9, 4, 10, 11, 12, [13]]"
      ]
     },
     "execution_count": 340,
     "metadata": {},
     "output_type": "execute_result"
    }
   ],
   "source": [
    "# que es append\n",
    "l.append([13])\n",
    "l"
   ]
  },
  {
   "cell_type": "code",
   "execution_count": 342,
   "id": "df593750-71bf-442b-9d58-efe6d3edd9b6",
   "metadata": {},
   "outputs": [
    {
     "data": {
      "text/plain": [
       "[5, 7, 8, 4, 3, 1, 9, 4, 10, 11, 12, [13], 14]"
      ]
     },
     "execution_count": 342,
     "metadata": {},
     "output_type": "execute_result"
    }
   ],
   "source": [
    "l.append(14)\n",
    "l"
   ]
  },
  {
   "cell_type": "code",
   "execution_count": 345,
   "id": "1ad31c33-4fce-4cf8-868c-7007bafc3bc4",
   "metadata": {},
   "outputs": [
    {
     "ename": "TypeError",
     "evalue": "list.append() takes exactly one argument (2 given)",
     "output_type": "error",
     "traceback": [
      "\u001b[0;31m---------------------------------------------------------------------------\u001b[0m",
      "\u001b[0;31mTypeError\u001b[0m                                 Traceback (most recent call last)",
      "Cell \u001b[0;32mIn[345], line 1\u001b[0m\n\u001b[0;32m----> 1\u001b[0m l\u001b[38;5;241m.\u001b[39mappend(\u001b[38;5;241m15\u001b[39m, \u001b[38;5;241m16\u001b[39m)\n\u001b[1;32m      2\u001b[0m l\n",
      "\u001b[0;31mTypeError\u001b[0m: list.append() takes exactly one argument (2 given)"
     ]
    }
   ],
   "source": [
    "# no pudes hacer un append de más de un elemento\n",
    "l.append(15, 16)\n",
    "l"
   ]
  },
  {
   "cell_type": "code",
   "execution_count": 351,
   "id": "1978665a-90f4-4de0-bec1-2cff68038636",
   "metadata": {},
   "outputs": [
    {
     "data": {
      "text/plain": [
       "2"
      ]
     },
     "execution_count": 351,
     "metadata": {},
     "output_type": "execute_result"
    }
   ],
   "source": [
    "l.count(4)"
   ]
  },
  {
   "cell_type": "code",
   "execution_count": 353,
   "id": "3365d87b-47ba-4bdf-ae93-963d35f6a43e",
   "metadata": {},
   "outputs": [
    {
     "data": {
      "text/plain": [
       "1"
      ]
     },
     "execution_count": 353,
     "metadata": {},
     "output_type": "execute_result"
    }
   ],
   "source": [
    "l.count(10)"
   ]
  },
  {
   "cell_type": "code",
   "execution_count": 363,
   "id": "b4b1359e-b57e-4b12-b1a3-8636402e68f5",
   "metadata": {},
   "outputs": [
    {
     "data": {
      "text/plain": [
       "[7, 6, 5, 4, 3, 2, 1]"
      ]
     },
     "execution_count": 363,
     "metadata": {},
     "output_type": "execute_result"
    }
   ],
   "source": [
    "l = [1,2,3,4,5,6,7]\n",
    "b = l\n",
    "l.reverse()\n",
    "l"
   ]
  },
  {
   "cell_type": "code",
   "execution_count": 367,
   "id": "3bd681f5-973d-496d-95ad-34a7b8febab9",
   "metadata": {},
   "outputs": [],
   "source": [
    "# elimino un elemento en concreto 7\n",
    "b.remove(7)"
   ]
  },
  {
   "cell_type": "code",
   "execution_count": 371,
   "id": "cb5259a3-3773-4366-9729-97dbfe6d48b8",
   "metadata": {},
   "outputs": [
    {
     "ename": "ValueError",
     "evalue": "list.remove(x): x not in list",
     "output_type": "error",
     "traceback": [
      "\u001b[0;31m---------------------------------------------------------------------------\u001b[0m",
      "\u001b[0;31mValueError\u001b[0m                                Traceback (most recent call last)",
      "Cell \u001b[0;32mIn[371], line 1\u001b[0m\n\u001b[0;32m----> 1\u001b[0m b\u001b[38;5;241m.\u001b[39mremove(\u001b[38;5;241m7\u001b[39m)\n",
      "\u001b[0;31mValueError\u001b[0m: list.remove(x): x not in list"
     ]
    }
   ],
   "source": [
    "b.remove(7)"
   ]
  },
  {
   "cell_type": "code",
   "execution_count": 373,
   "id": "0b07e2ed-1550-414b-9716-5f56ff0ada1e",
   "metadata": {},
   "outputs": [
    {
     "data": {
      "text/plain": [
       "[2, 1, 4, 5, 1]"
      ]
     },
     "execution_count": 373,
     "metadata": {},
     "output_type": "execute_result"
    }
   ],
   "source": [
    "l = [ 1,2,1,4,5,1]\n",
    "l.remove(1)\n",
    "l"
   ]
  },
  {
   "cell_type": "code",
   "execution_count": 375,
   "id": "cb617596-df45-443b-ac0d-a5276cb5a853",
   "metadata": {},
   "outputs": [
    {
     "data": {
      "text/plain": [
       "[2, 4, 5, 1]"
      ]
     },
     "execution_count": 375,
     "metadata": {},
     "output_type": "execute_result"
    }
   ],
   "source": [
    "l.remove(1)\n",
    "l"
   ]
  },
  {
   "cell_type": "code",
   "execution_count": 377,
   "id": "02f5a0d7-b20b-464a-82a5-e0fa52c8b86c",
   "metadata": {},
   "outputs": [
    {
     "data": {
      "text/plain": [
       "[2, 4, 5]"
      ]
     },
     "execution_count": 377,
     "metadata": {},
     "output_type": "execute_result"
    }
   ],
   "source": [
    "l.remove(1)\n",
    "l"
   ]
  },
  {
   "cell_type": "code",
   "execution_count": 381,
   "id": "00d9d774-42d3-4365-a806-56966498082a",
   "metadata": {},
   "outputs": [
    {
     "data": {
      "text/plain": [
       "2"
      ]
     },
     "execution_count": 381,
     "metadata": {},
     "output_type": "execute_result"
    }
   ],
   "source": [
    "# que es index\n",
    "l[0]"
   ]
  },
  {
   "cell_type": "code",
   "execution_count": 385,
   "id": "8172eaf3-ace4-4ac0-97a6-63fd74f085fc",
   "metadata": {},
   "outputs": [
    {
     "data": {
      "text/plain": [
       "0"
      ]
     },
     "execution_count": 385,
     "metadata": {},
     "output_type": "execute_result"
    }
   ],
   "source": [
    "# indica el localizador o indice de un determidado valoe\n",
    "l.index(2)"
   ]
  },
  {
   "cell_type": "code",
   "execution_count": 389,
   "id": "0babe7c1-ed6f-438d-a272-f7f6ca77ad77",
   "metadata": {},
   "outputs": [
    {
     "data": {
      "text/plain": [
       "[6, 8, 7, 3, 6, 8, 5, 9]"
      ]
     },
     "execution_count": 389,
     "metadata": {},
     "output_type": "execute_result"
    }
   ],
   "source": [
    "l = [6,8,7,3,6,8,5,9]\n",
    "l"
   ]
  },
  {
   "cell_type": "code",
   "execution_count": 391,
   "id": "efd2998b-4c53-4ad9-9414-290c2da1f6f3",
   "metadata": {},
   "outputs": [
    {
     "data": {
      "text/plain": [
       "7"
      ]
     },
     "execution_count": 391,
     "metadata": {},
     "output_type": "execute_result"
    }
   ],
   "source": [
    "l.pop(2)"
   ]
  },
  {
   "cell_type": "code",
   "execution_count": 397,
   "id": "15ad034b-bad1-404a-8404-87bc95a1181f",
   "metadata": {},
   "outputs": [
    {
     "data": {
      "text/plain": [
       "5"
      ]
     },
     "execution_count": 397,
     "metadata": {},
     "output_type": "execute_result"
    }
   ],
   "source": [
    "l.pop()"
   ]
  },
  {
   "cell_type": "code",
   "execution_count": 399,
   "id": "38747b9d-0fc4-405d-9475-821e631ae36f",
   "metadata": {},
   "outputs": [
    {
     "data": {
      "text/plain": [
       "[6, 8, 3, 6, 8]"
      ]
     },
     "execution_count": 399,
     "metadata": {},
     "output_type": "execute_result"
    }
   ],
   "source": [
    "l"
   ]
  },
  {
   "cell_type": "code",
   "execution_count": 401,
   "id": "24ba4f13-8dbc-48c9-bb12-930bb6fbd23c",
   "metadata": {},
   "outputs": [],
   "source": [
    "l.insert(2, 5)"
   ]
  },
  {
   "cell_type": "code",
   "execution_count": 403,
   "id": "13b801e3-8899-4f3e-b783-629388d05d6b",
   "metadata": {},
   "outputs": [
    {
     "data": {
      "text/plain": [
       "[6, 8, 5, 3, 6, 8]"
      ]
     },
     "execution_count": 403,
     "metadata": {},
     "output_type": "execute_result"
    }
   ],
   "source": [
    "l"
   ]
  },
  {
   "cell_type": "code",
   "execution_count": 405,
   "id": "5deededf-3184-49e7-bf76-fca717d24039",
   "metadata": {},
   "outputs": [
    {
     "data": {
      "text/plain": [
       "[6, 8, 5, 5, 3, 6, 8]"
      ]
     },
     "execution_count": 405,
     "metadata": {},
     "output_type": "execute_result"
    }
   ],
   "source": [
    "l.insert(2, 5)\n",
    "l"
   ]
  },
  {
   "cell_type": "code",
   "execution_count": 407,
   "id": "df9edb64-7c24-4dae-b183-a8ff89051b06",
   "metadata": {},
   "outputs": [
    {
     "data": {
      "text/plain": [
       "[]"
      ]
     },
     "execution_count": 407,
     "metadata": {},
     "output_type": "execute_result"
    }
   ],
   "source": [
    "l.clear()\n",
    "l"
   ]
  },
  {
   "cell_type": "code",
   "execution_count": 409,
   "id": "346c0e39-5dfd-4a3a-9dff-893b12be91b0",
   "metadata": {},
   "outputs": [],
   "source": [
    "l = [1,2,3]\n"
   ]
  },
  {
   "cell_type": "markdown",
   "id": "a79c6eaa-e8ff-4d1f-a228-91702eb15b1e",
   "metadata": {},
   "source": [
    "# Ej. 1. Elimna el último"
   ]
  },
  {
   "cell_type": "code",
   "execution_count": null,
   "id": "6c82b8f4-208d-44db-ae82-d2ff94fa79e7",
   "metadata": {},
   "outputs": [],
   "source": [
    "# \n",
    "l.pop()"
   ]
  }
 ],
 "metadata": {
  "kernelspec": {
   "display_name": "Python 3 (ipykernel)",
   "language": "python",
   "name": "python3"
  },
  "language_info": {
   "codemirror_mode": {
    "name": "ipython",
    "version": 3
   },
   "file_extension": ".py",
   "mimetype": "text/x-python",
   "name": "python",
   "nbconvert_exporter": "python",
   "pygments_lexer": "ipython3",
   "version": "3.12.2"
  }
 },
 "nbformat": 4,
 "nbformat_minor": 5
}

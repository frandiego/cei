{
 "cells": [
  {
   "cell_type": "code",
   "execution_count": 17,
   "id": "3abad84c-cabb-42d9-a627-9b81d4213837",
   "metadata": {},
   "outputs": [
    {
     "name": "stdout",
     "output_type": "stream",
     "text": [
      "Python 3.12.7\n"
     ]
    }
   ],
   "source": [
    "! python --version"
   ]
  },
  {
   "cell_type": "code",
   "execution_count": 21,
   "id": "27e94af9-2b6e-433b-bd93-e95876c371c5",
   "metadata": {},
   "outputs": [
    {
     "name": "stdout",
     "output_type": "stream",
     "text": [
      "The Zen of Python, by Tim Peters\n",
      "\n",
      "Beautiful is better than ugly.\n",
      "Explicit is better than implicit.\n",
      "Simple is better than complex.\n",
      "Complex is better than complicated.\n",
      "Flat is better than nested.\n",
      "Sparse is better than dense.\n",
      "Readability counts.\n",
      "Special cases aren't special enough to break the rules.\n",
      "Although practicality beats purity.\n",
      "Errors should never pass silently.\n",
      "Unless explicitly silenced.\n",
      "In the face of ambiguity, refuse the temptation to guess.\n",
      "There should be one-- and preferably only one --obvious way to do it.\n",
      "Although that way may not be obvious at first unless you're Dutch.\n",
      "Now is better than never.\n",
      "Although never is often better than *right* now.\n",
      "If the implementation is hard to explain, it's a bad idea.\n",
      "If the implementation is easy to explain, it may be a good idea.\n",
      "Namespaces are one honking great idea -- let's do more of those!\n"
     ]
    }
   ],
   "source": [
    "import this"
   ]
  },
  {
   "cell_type": "markdown",
   "id": "ad28cc0b-2310-46b1-aac9-6ab9fd1b85b0",
   "metadata": {},
   "source": [
    "# Python as a calculator"
   ]
  },
  {
   "cell_type": "code",
   "execution_count": 34,
   "id": "16319a87-7a34-4a8e-bdfa-b82cfd83cec3",
   "metadata": {},
   "outputs": [
    {
     "data": {
      "text/plain": [
       "7"
      ]
     },
     "execution_count": 34,
     "metadata": {},
     "output_type": "execute_result"
    }
   ],
   "source": [
    "4+3"
   ]
  },
  {
   "cell_type": "code",
   "execution_count": 36,
   "id": "4642a493-4c49-47f3-865d-be6371d5f9bc",
   "metadata": {},
   "outputs": [
    {
     "data": {
      "text/plain": [
       "1"
      ]
     },
     "execution_count": 36,
     "metadata": {},
     "output_type": "execute_result"
    }
   ],
   "source": [
    "4-3"
   ]
  },
  {
   "cell_type": "code",
   "execution_count": 38,
   "id": "31edf9c3-50f2-462c-86b8-6a5053d5f86d",
   "metadata": {},
   "outputs": [
    {
     "data": {
      "text/plain": [
       "12"
      ]
     },
     "execution_count": 38,
     "metadata": {},
     "output_type": "execute_result"
    }
   ],
   "source": [
    "4*3"
   ]
  },
  {
   "cell_type": "code",
   "execution_count": 42,
   "id": "a7afcf4a-24b1-4ca3-9d2f-a046f910216f",
   "metadata": {},
   "outputs": [
    {
     "data": {
      "text/plain": [
       "1.3333333333333333"
      ]
     },
     "execution_count": 42,
     "metadata": {},
     "output_type": "execute_result"
    }
   ],
   "source": [
    "4/3"
   ]
  },
  {
   "cell_type": "code",
   "execution_count": 44,
   "id": "5f4ec1df-7e9b-43af-925f-dcb04dad92f6",
   "metadata": {},
   "outputs": [
    {
     "data": {
      "text/plain": [
       "1"
      ]
     },
     "execution_count": 44,
     "metadata": {},
     "output_type": "execute_result"
    }
   ],
   "source": [
    "4//3"
   ]
  },
  {
   "cell_type": "code",
   "execution_count": 58,
   "id": "cad33046-d306-49da-a9f0-a3bc79162f39",
   "metadata": {},
   "outputs": [
    {
     "data": {
      "text/plain": [
       "0"
      ]
     },
     "execution_count": 58,
     "metadata": {},
     "output_type": "execute_result"
    }
   ],
   "source": [
    "5//7"
   ]
  },
  {
   "cell_type": "code",
   "execution_count": 63,
   "id": "4187a9fa-e8d5-41e1-a3c6-202429ac961e",
   "metadata": {},
   "outputs": [
    {
     "data": {
      "text/plain": [
       "0.33333333333333326"
      ]
     },
     "execution_count": 63,
     "metadata": {},
     "output_type": "execute_result"
    }
   ],
   "source": [
    "4/3 - 4//3"
   ]
  },
  {
   "cell_type": "code",
   "execution_count": 67,
   "id": "6aae671d-9f19-4879-b05a-87e714e50a38",
   "metadata": {},
   "outputs": [
    {
     "data": {
      "text/plain": [
       "0.7142857142857143"
      ]
     },
     "execution_count": 67,
     "metadata": {},
     "output_type": "execute_result"
    }
   ],
   "source": [
    "5/7 - 5//7"
   ]
  },
  {
   "cell_type": "code",
   "execution_count": 71,
   "id": "91e0b027-c6bd-4008-a601-ec9c155ea5e3",
   "metadata": {},
   "outputs": [
    {
     "data": {
      "text/plain": [
       "0.3333333333333335"
      ]
     },
     "execution_count": 71,
     "metadata": {},
     "output_type": "execute_result"
    }
   ],
   "source": [
    "10/3 - 10//3"
   ]
  },
  {
   "cell_type": "code",
   "execution_count": 87,
   "id": "fea26896-24df-4cb7-9a02-4982d446ba3b",
   "metadata": {},
   "outputs": [],
   "source": [
    "A=100"
   ]
  },
  {
   "cell_type": "code",
   "execution_count": 97,
   "id": "1ed3ac77-9441-4c98-8f20-2194bd16473e",
   "metadata": {},
   "outputs": [],
   "source": [
    "B=17"
   ]
  },
  {
   "cell_type": "code",
   "execution_count": 99,
   "id": "ba3dbd60-b0b3-4e96-b4ca-290959f4229a",
   "metadata": {},
   "outputs": [
    {
     "data": {
      "text/plain": [
       "117"
      ]
     },
     "execution_count": 99,
     "metadata": {},
     "output_type": "execute_result"
    }
   ],
   "source": [
    "A+B"
   ]
  },
  {
   "cell_type": "code",
   "execution_count": 101,
   "id": "101b2688-daa6-4693-a65d-117e8abe337f",
   "metadata": {},
   "outputs": [
    {
     "data": {
      "text/plain": [
       "0.882352941176471"
      ]
     },
     "execution_count": 101,
     "metadata": {},
     "output_type": "execute_result"
    }
   ],
   "source": [
    "A/B - A//B"
   ]
  },
  {
   "cell_type": "markdown",
   "id": "8b3d726e-edb6-4060-8c10-04543b4e5974",
   "metadata": {},
   "source": [
    "## Definir una funcion"
   ]
  },
  {
   "cell_type": "code",
   "execution_count": 130,
   "id": "5268d835-ff6a-47a6-8296-ca3df5dc902f",
   "metadata": {},
   "outputs": [],
   "source": [
    "def resto(a,b):\n",
    "    return a/b - a//b"
   ]
  },
  {
   "cell_type": "code",
   "execution_count": 126,
   "id": "e96939d8-7bc6-4934-b5a9-692fcbf2f433",
   "metadata": {},
   "outputs": [
    {
     "data": {
      "text/plain": [
       "0.33333333333333304"
      ]
     },
     "execution_count": 126,
     "metadata": {},
     "output_type": "execute_result"
    }
   ],
   "source": [
    "resto(16,3)"
   ]
  },
  {
   "cell_type": "markdown",
   "id": "caaad55f-8ece-4478-b83e-2fd056da9397",
   "metadata": {},
   "source": [
    "### ahora el parametro b es 2 por defecto"
   ]
  },
  {
   "cell_type": "code",
   "execution_count": 151,
   "id": "774d11ca-a218-4a8e-bc14-881597c3707c",
   "metadata": {},
   "outputs": [],
   "source": [
    "def resto(a, b=2):\n",
    "    return a/b - a//b"
   ]
  },
  {
   "cell_type": "code",
   "execution_count": 153,
   "id": "6e777fae-2234-432c-864a-1450cd817730",
   "metadata": {},
   "outputs": [
    {
     "data": {
      "text/plain": [
       "0.33333333333333304"
      ]
     },
     "execution_count": 153,
     "metadata": {},
     "output_type": "execute_result"
    }
   ],
   "source": [
    "resto(16,3)"
   ]
  },
  {
   "cell_type": "code",
   "execution_count": 155,
   "id": "528b326e-eab4-4593-b24c-1b648c548246",
   "metadata": {},
   "outputs": [
    {
     "data": {
      "text/plain": [
       "0.0"
      ]
     },
     "execution_count": 155,
     "metadata": {},
     "output_type": "execute_result"
    }
   ],
   "source": [
    "resto(16)"
   ]
  },
  {
   "cell_type": "code",
   "execution_count": 157,
   "id": "aba94557-1049-4621-bdd8-049fa415b8da",
   "metadata": {},
   "outputs": [
    {
     "data": {
      "text/plain": [
       "0.0"
      ]
     },
     "execution_count": 157,
     "metadata": {},
     "output_type": "execute_result"
    }
   ],
   "source": [
    "resto(16, 2)"
   ]
  },
  {
   "cell_type": "markdown",
   "id": "d85749be-6cbd-4498-aea6-18ba0f692bd2",
   "metadata": {},
   "source": [
    "## what's inside the function?"
   ]
  },
  {
   "cell_type": "code",
   "execution_count": 162,
   "id": "2017efcb-503d-4a44-9ea6-8ffb72d41079",
   "metadata": {},
   "outputs": [],
   "source": [
    "def resto(a,b=2):\n",
    "    print(a, b)\n",
    "    return a/b-a//b"
   ]
  },
  {
   "cell_type": "code",
   "execution_count": 164,
   "id": "350ac3e1-706c-4ed7-964d-5737cbf204c7",
   "metadata": {},
   "outputs": [
    {
     "name": "stdout",
     "output_type": "stream",
     "text": [
      "17 2\n"
     ]
    },
    {
     "data": {
      "text/plain": [
       "0.5"
      ]
     },
     "execution_count": 164,
     "metadata": {},
     "output_type": "execute_result"
    }
   ],
   "source": [
    "resto(17)"
   ]
  },
  {
   "cell_type": "code",
   "execution_count": 166,
   "id": "9a52e3f4-a3b9-4eba-8e2c-7ecb489294b6",
   "metadata": {},
   "outputs": [],
   "source": [
    "def resto(a,b=2):\n",
    "    print(locals())\n",
    "    return a/b-a//b"
   ]
  },
  {
   "cell_type": "code",
   "execution_count": 170,
   "id": "807b63d6-0356-45b6-9968-5518cd42ddb5",
   "metadata": {},
   "outputs": [
    {
     "name": "stdout",
     "output_type": "stream",
     "text": [
      "{'a': 17, 'b': 2}\n"
     ]
    },
    {
     "data": {
      "text/plain": [
       "0.5"
      ]
     },
     "execution_count": 170,
     "metadata": {},
     "output_type": "execute_result"
    }
   ],
   "source": [
    "resto(17)"
   ]
  },
  {
   "cell_type": "code",
   "execution_count": 172,
   "id": "1c7bd752-8542-49f7-8e5b-e7b59ae37574",
   "metadata": {},
   "outputs": [],
   "source": [
    "def resto(a=17, b=2):\n",
    "    print(locals())\n",
    "    return a/b - a//b"
   ]
  },
  {
   "cell_type": "code",
   "execution_count": 174,
   "id": "e694d4fc-9829-4689-bfc6-8c72af0000ce",
   "metadata": {},
   "outputs": [
    {
     "name": "stdout",
     "output_type": "stream",
     "text": [
      "{'a': 17, 'b': 2}\n"
     ]
    },
    {
     "data": {
      "text/plain": [
       "0.5"
      ]
     },
     "execution_count": 174,
     "metadata": {},
     "output_type": "execute_result"
    }
   ],
   "source": [
    "resto()"
   ]
  },
  {
   "cell_type": "code",
   "execution_count": 176,
   "id": "532d40ad-f523-4138-8357-1670a579e6f0",
   "metadata": {},
   "outputs": [
    {
     "data": {
      "text/plain": [
       "<function __main__.resto(a=17, b=2)>"
      ]
     },
     "execution_count": 176,
     "metadata": {},
     "output_type": "execute_result"
    }
   ],
   "source": [
    "resto"
   ]
  },
  {
   "cell_type": "code",
   "execution_count": 180,
   "id": "432adcdb-b4c9-4236-8605-7932cdc86f78",
   "metadata": {},
   "outputs": [
    {
     "ename": "TypeError",
     "evalue": "resto() takes from 0 to 2 positional arguments but 3 were given",
     "output_type": "error",
     "traceback": [
      "\u001b[0;31m---------------------------------------------------------------------------\u001b[0m",
      "\u001b[0;31mTypeError\u001b[0m                                 Traceback (most recent call last)",
      "Cell \u001b[0;32mIn[180], line 1\u001b[0m\n\u001b[0;32m----> 1\u001b[0m resto(\u001b[38;5;241m1\u001b[39m,\u001b[38;5;241m2\u001b[39m,\u001b[38;5;241m3\u001b[39m)\n",
      "\u001b[0;31mTypeError\u001b[0m: resto() takes from 0 to 2 positional arguments but 3 were given"
     ]
    }
   ],
   "source": [
    "resto(1,2,3)"
   ]
  },
  {
   "cell_type": "code",
   "execution_count": 188,
   "id": "0f4976e7-97ca-4943-88b7-0fb142330e3a",
   "metadata": {},
   "outputs": [],
   "source": [
    "def resto(b,a=17):\n",
    "    print(locals())\n",
    "    return a/b - a//b "
   ]
  },
  {
   "cell_type": "code",
   "execution_count": 190,
   "id": "33821c96-2951-483c-b8f2-dfb1f7ddb4dd",
   "metadata": {},
   "outputs": [
    {
     "name": "stdout",
     "output_type": "stream",
     "text": [
      "{'b': 2, 'a': 17}\n"
     ]
    },
    {
     "data": {
      "text/plain": [
       "0.5"
      ]
     },
     "execution_count": 190,
     "metadata": {},
     "output_type": "execute_result"
    }
   ],
   "source": [
    "resto(2)"
   ]
  },
  {
   "cell_type": "markdown",
   "id": "0c8cfedf-86a4-44ba-98b1-da92ed9b7999",
   "metadata": {},
   "source": [
    "## fix variables (hardcoding)"
   ]
  },
  {
   "cell_type": "code",
   "execution_count": 204,
   "id": "d8121140-ed66-4640-81fa-dfb41bee68e8",
   "metadata": {},
   "outputs": [],
   "source": [
    "def resto(a,b):\n",
    "    print(locals())\n",
    "    b = 2\n",
    "    print(locals())\n",
    "    return a/b - a//b "
   ]
  },
  {
   "cell_type": "code",
   "execution_count": 210,
   "id": "79db9a64-eaa2-46f6-801a-53701ccb4b3e",
   "metadata": {},
   "outputs": [
    {
     "name": "stdout",
     "output_type": "stream",
     "text": [
      "{'a': 17, 'b': 3}\n",
      "{'a': 17, 'b': 2}\n"
     ]
    },
    {
     "data": {
      "text/plain": [
       "0.5"
      ]
     },
     "execution_count": 210,
     "metadata": {},
     "output_type": "execute_result"
    }
   ],
   "source": [
    "resto(17,3)"
   ]
  },
  {
   "cell_type": "markdown",
   "id": "1622d850-2863-4bfd-9cf4-31188385bda2",
   "metadata": {},
   "source": [
    "## Built-in function"
   ]
  },
  {
   "cell_type": "code",
   "execution_count": 226,
   "id": "0b9e8dc4-be7f-4997-aaa1-8531ace45eff",
   "metadata": {},
   "outputs": [
    {
     "ename": "TypeError",
     "evalue": "'int' object is not iterable",
     "output_type": "error",
     "traceback": [
      "\u001b[0;31m---------------------------------------------------------------------------\u001b[0m",
      "\u001b[0;31mTypeError\u001b[0m                                 Traceback (most recent call last)",
      "Cell \u001b[0;32mIn[226], line 1\u001b[0m\n\u001b[0;32m----> 1\u001b[0m \u001b[38;5;28msum\u001b[39m(\u001b[38;5;241m1\u001b[39m,\u001b[38;5;241m2\u001b[39m)\n",
      "\u001b[0;31mTypeError\u001b[0m: 'int' object is not iterable"
     ]
    }
   ],
   "source": [
    "sum(1,2)"
   ]
  },
  {
   "cell_type": "code",
   "execution_count": 228,
   "id": "21c4fb09-fff8-4cb1-b100-5f509ef9bf85",
   "metadata": {},
   "outputs": [
    {
     "data": {
      "text/plain": [
       "(1, 2)"
      ]
     },
     "execution_count": 228,
     "metadata": {},
     "output_type": "execute_result"
    }
   ],
   "source": [
    "(1,2)"
   ]
  },
  {
   "cell_type": "code",
   "execution_count": 232,
   "id": "d3afb118-49ff-4324-836e-9e537098655a",
   "metadata": {},
   "outputs": [
    {
     "data": {
      "text/plain": [
       "3"
      ]
     },
     "execution_count": 232,
     "metadata": {},
     "output_type": "execute_result"
    }
   ],
   "source": [
    "sum((1,2))"
   ]
  },
  {
   "cell_type": "code",
   "execution_count": 234,
   "id": "4529a7af-b31e-404c-a684-a226f17f2178",
   "metadata": {},
   "outputs": [],
   "source": [
    "t = (6,7,9,4,2)"
   ]
  },
  {
   "cell_type": "code",
   "execution_count": 236,
   "id": "81d430ce-8694-4262-a57d-7105d9071f07",
   "metadata": {},
   "outputs": [
    {
     "data": {
      "text/plain": [
       "2"
      ]
     },
     "execution_count": 236,
     "metadata": {},
     "output_type": "execute_result"
    }
   ],
   "source": [
    "min(t)"
   ]
  },
  {
   "cell_type": "code",
   "execution_count": 238,
   "id": "c6743819-4f9e-40f4-b73f-d2a3285085f1",
   "metadata": {},
   "outputs": [
    {
     "data": {
      "text/plain": [
       "9"
      ]
     },
     "execution_count": 238,
     "metadata": {},
     "output_type": "execute_result"
    }
   ],
   "source": [
    "max(t)"
   ]
  },
  {
   "cell_type": "code",
   "execution_count": 247,
   "id": "ff63188b-7e54-49b1-8a01-c834477a8f8c",
   "metadata": {},
   "outputs": [
    {
     "data": {
      "text/plain": [
       "5"
      ]
     },
     "execution_count": 247,
     "metadata": {},
     "output_type": "execute_result"
    }
   ],
   "source": [
    "len(t)"
   ]
  },
  {
   "cell_type": "markdown",
   "id": "68f84582-df07-4998-88c9-70f846012c92",
   "metadata": {},
   "source": [
    "## Crea la función media "
   ]
  },
  {
   "cell_type": "code",
   "execution_count": 268,
   "id": "e69e0f0c-297e-4445-846e-5539253cbc3f",
   "metadata": {},
   "outputs": [],
   "source": [
    "def mean(h):\n",
    "    return sum(h)/len(h)"
   ]
  },
  {
   "cell_type": "code",
   "execution_count": 270,
   "id": "d16a03c9-28c8-4b0d-8bfb-d1dece2c4d42",
   "metadata": {},
   "outputs": [
    {
     "data": {
      "text/plain": [
       "6.0"
      ]
     },
     "execution_count": 270,
     "metadata": {},
     "output_type": "execute_result"
    }
   ],
   "source": [
    "mean((1,5,6,8,10))"
   ]
  },
  {
   "cell_type": "code",
   "execution_count": 276,
   "id": "e10ba6d6-6e4b-45df-9f86-faf9b19d6dee",
   "metadata": {},
   "outputs": [],
   "source": [
    "def mean(*args):\n",
    "    print(locals())\n",
    "    return sum(args)/len(args)"
   ]
  },
  {
   "cell_type": "code",
   "execution_count": 278,
   "id": "ebbf7e69-0cd5-4988-abf5-6ef567ff131a",
   "metadata": {},
   "outputs": [
    {
     "name": "stdout",
     "output_type": "stream",
     "text": [
      "{'args': (1, 5, 6, 8, 10)}\n"
     ]
    },
    {
     "data": {
      "text/plain": [
       "6.0"
      ]
     },
     "execution_count": 278,
     "metadata": {},
     "output_type": "execute_result"
    }
   ],
   "source": [
    "mean(1,5,6,8,10)"
   ]
  },
  {
   "cell_type": "code",
   "execution_count": null,
   "id": "64b71f53-d133-4286-bf31-ccf9b30ae2e2",
   "metadata": {},
   "outputs": [],
   "source": []
  }
 ],
 "metadata": {
  "kernelspec": {
   "display_name": "Python 3 (ipykernel)",
   "language": "python",
   "name": "python3"
  },
  "language_info": {
   "codemirror_mode": {
    "name": "ipython",
    "version": 3
   },
   "file_extension": ".py",
   "mimetype": "text/x-python",
   "name": "python",
   "nbconvert_exporter": "python",
   "pygments_lexer": "ipython3",
   "version": "3.12.7"
  }
 },
 "nbformat": 4,
 "nbformat_minor": 5
}

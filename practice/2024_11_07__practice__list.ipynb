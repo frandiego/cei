{
 "cells": [
  {
   "cell_type": "code",
   "execution_count": 23,
   "id": "048e5bde-f0ee-4b1e-ba80-51fe4c105381",
   "metadata": {},
   "outputs": [],
   "source": [
    "import random\n",
    "l = [random.randint(0,100) for i in range(random.randint(7,7*2))]"
   ]
  },
  {
   "cell_type": "markdown",
   "id": "ff2abbed-0185-4550-af45-ad7cea0bb80c",
   "metadata": {},
   "source": [
    "### Exercise 1. Check if first and last number are the same \n",
    "output should be a boolean"
   ]
  },
  {
   "cell_type": "code",
   "execution_count": null,
   "id": "83e1f700-8b62-4358-901a-9b8920a942c6",
   "metadata": {},
   "outputs": [],
   "source": []
  },
  {
   "cell_type": "markdown",
   "id": "9b2e89f4-a97c-47bb-adaf-fe5e414e36ed",
   "metadata": {},
   "source": [
    "### Exercise 2. What is the greatest number\n",
    "output should be an integer\n"
   ]
  },
  {
   "cell_type": "code",
   "execution_count": null,
   "id": "d25ad848-fe8b-48c2-84e1-82fd4155ae60",
   "metadata": {},
   "outputs": [],
   "source": []
  },
  {
   "cell_type": "markdown",
   "id": "4640f1c8-e636-4ea6-a887-237d7240f802",
   "metadata": {},
   "source": [
    "### Exercise 3. Create a list with the lowest and greatest numbers\n",
    "output should be a list of integers\n"
   ]
  },
  {
   "cell_type": "code",
   "execution_count": null,
   "id": "d4222a3d-de71-41eb-9602-255e52ef7d55",
   "metadata": {},
   "outputs": [],
   "source": []
  },
  {
   "cell_type": "markdown",
   "id": "768e0af2-57c2-4cde-b8e6-cb8e238cac7e",
   "metadata": {},
   "source": [
    "### Exercise 4. Calculate the mean\n",
    "output should be a float\n"
   ]
  },
  {
   "cell_type": "code",
   "execution_count": null,
   "id": "59686f43-c1d3-475f-be4c-1337c9a715b3",
   "metadata": {},
   "outputs": [],
   "source": []
  },
  {
   "cell_type": "markdown",
   "id": "0b50803e-ad5b-415d-9b47-100f27875d61",
   "metadata": {},
   "source": [
    "### Exercise 5. Check that the average is the same if the list is reversed\n",
    "output should be a float\n"
   ]
  },
  {
   "cell_type": "code",
   "execution_count": null,
   "id": "907419d6-d7c3-470e-93af-9068a206db91",
   "metadata": {},
   "outputs": [],
   "source": []
  },
  {
   "cell_type": "markdown",
   "id": "b8f374a4-03aa-4d08-896d-5476749bed64",
   "metadata": {},
   "source": [
    "### Exercise 6. Whats the average between max and min value\n",
    "output should be a float\n"
   ]
  },
  {
   "cell_type": "code",
   "execution_count": null,
   "id": "fff54d46-8ebd-4fd1-8b69-7a6a854417c0",
   "metadata": {},
   "outputs": [],
   "source": []
  },
  {
   "cell_type": "markdown",
   "id": "952e9f12-c707-4ec2-bf94-d09c1a32a1b8",
   "metadata": {},
   "source": [
    "### Exercise 7. Sort the list and check the last value is the maximun\n",
    "output should be a boolean (true, false)\n"
   ]
  },
  {
   "cell_type": "code",
   "execution_count": null,
   "id": "27fba50f-c3eb-4c27-9a12-c4697f7842ce",
   "metadata": {},
   "outputs": [],
   "source": []
  },
  {
   "cell_type": "markdown",
   "id": "181e0f96-38e0-4af8-9949-2191bdfe410b",
   "metadata": {},
   "source": [
    "### Exercise 8. Whats the mean of the list without the min value? and without the max value?\n",
    "output should be two floats\n"
   ]
  },
  {
   "cell_type": "code",
   "execution_count": null,
   "id": "00bdb75c-7873-46e5-b98e-250efa2f610c",
   "metadata": {},
   "outputs": [],
   "source": []
  },
  {
   "cell_type": "markdown",
   "id": "eecbc010-b8a3-44b1-a5cb-cb07bea9f868",
   "metadata": {},
   "source": [
    "### Exercise 9. What is the value of the number in the middle of the list\n",
    "create a variable named `middle_number` with the resulting int\n",
    "(remember `l` could be any list)"
   ]
  },
  {
   "cell_type": "code",
   "execution_count": null,
   "id": "de3196cb-cb88-4e12-b80f-fb5121e9aff8",
   "metadata": {},
   "outputs": [],
   "source": []
  },
  {
   "cell_type": "markdown",
   "id": "1dfb276c-e445-41d9-b2f5-a80a5245f959",
   "metadata": {},
   "source": [
    "### Exercise 10. The function `l.remove`  allow us to remove a given number in the list. We should remove the `middle_number` without using `reverse` function. "
   ]
  },
  {
   "cell_type": "code",
   "execution_count": null,
   "id": "eb7bbb2b-ca2a-4361-bd89-d7a5009a09fe",
   "metadata": {},
   "outputs": [],
   "source": []
  },
  {
   "cell_type": "markdown",
   "id": "8da01a4d-75f8-48ff-8f62-93049e6c2f71",
   "metadata": {},
   "source": [
    "### Exercise 11. Make a function that receives the name, age and favorite food* and returns this phrase\n",
    "* by default the favoutie food is 'croquetas'\n",
    "output should be a string"
   ]
  },
  {
   "cell_type": "code",
   "execution_count": 37,
   "id": "f52335d1-e993-4725-b9b6-e736253a7621",
   "metadata": {},
   "outputs": [],
   "source": [
    "sentence = \"Hi! My name is Fran. I am 32 years old, and my favorite food is croquetas.\"\n"
   ]
  },
  {
   "cell_type": "markdown",
   "id": "ba719055-5439-4e94-8ad8-d4d3187be5a9",
   "metadata": {},
   "source": [
    "### Exercise 12. In this sentence change the  << name >>  with the variable `name` "
   ]
  },
  {
   "cell_type": "code",
   "execution_count": 42,
   "id": "1c46b552-7c39-4c16-bba5-7a0ff90407fb",
   "metadata": {},
   "outputs": [
    {
     "data": {
      "text/plain": [
       "\"Hello there! I'm << name >>.\""
      ]
     },
     "execution_count": 42,
     "metadata": {},
     "output_type": "execute_result"
    }
   ],
   "source": [
    "name = 'Fran'\n",
    "\"Hello there! I'm << name >>.\""
   ]
  },
  {
   "cell_type": "markdown",
   "id": "197111d0-66a4-45ad-8e5f-cac2b62867a9",
   "metadata": {},
   "source": [
    "### Exercise 13. Make the reverse of the following word"
   ]
  },
  {
   "cell_type": "code",
   "execution_count": 49,
   "id": "a0ea0358-6b7b-4833-817d-c7bd60c12121",
   "metadata": {},
   "outputs": [],
   "source": [
    "word = 'reconocer'"
   ]
  },
  {
   "cell_type": "markdown",
   "id": "314ceee2-7973-4790-b61b-9d6b918dd322",
   "metadata": {},
   "source": [
    "### Exercise 14. Could you find a way to check that the code is really changing the word?"
   ]
  },
  {
   "cell_type": "code",
   "execution_count": null,
   "id": "4343a537-6f12-4b86-8651-18f30445a6a9",
   "metadata": {},
   "outputs": [],
   "source": []
  },
  {
   "cell_type": "markdown",
   "id": "74845b86-97ae-4aef-abb7-b969fc5002cb",
   "metadata": {},
   "source": [
    "### Exercise 15. Find the order 10 of the following number using only string functions\n",
    "```bash\n",
    " 786.69 -> 100\n",
    " 92.69 -> 10\n",
    " 99982.69 -> 10000\n",
    "```"
   ]
  }
 ],
 "metadata": {
  "kernelspec": {
   "display_name": "Python 3 (ipykernel)",
   "language": "python",
   "name": "python3"
  },
  "language_info": {
   "codemirror_mode": {
    "name": "ipython",
    "version": 3
   },
   "file_extension": ".py",
   "mimetype": "text/x-python",
   "name": "python",
   "nbconvert_exporter": "python",
   "pygments_lexer": "ipython3",
   "version": "3.13.0"
  }
 },
 "nbformat": 4,
 "nbformat_minor": 5
}

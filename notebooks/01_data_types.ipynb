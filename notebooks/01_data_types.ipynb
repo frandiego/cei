{
  "nbformat": 4,
  "nbformat_minor": 0,
  "metadata": {
    "kernelspec": {
      "display_name": "Python 3",
      "language": "python",
      "name": "python3"
    },
    "language_info": {
      "codemirror_mode": {
        "name": "ipython",
        "version": 3
      },
      "file_extension": ".py",
      "mimetype": "text/x-python",
      "name": "python",
      "nbconvert_exporter": "python",
      "pygments_lexer": "ipython3",
      "version": "3.8.3"
    },
    "colab": {
      "provenance": []
    }
  },
  "cells": [
    {
      "cell_type": "markdown",
      "metadata": {
        "id": "PFrXwChzEolN"
      },
      "source": [
        "### Python Version"
      ]
    },
    {
      "cell_type": "code",
      "metadata": {
        "id": "qPPkVgvrEolO",
        "colab": {
          "base_uri": "https://localhost:8080/",
          "height": 35
        },
        "outputId": "86ec9c8b-0ade-4ce3-8426-d7b3f7eabcb4"
      },
      "source": [
        "!python --version"
      ],
      "execution_count": null,
      "outputs": [
        {
          "output_type": "stream",
          "text": [
            "Python 3.6.9\n"
          ],
          "name": "stdout"
        }
      ]
    },
    {
      "cell_type": "markdown",
      "metadata": {
        "id": "iEQGHqhwEolS"
      },
      "source": [
        "### The Zen of Python: A guide to Python’s design principles.  [link](https://towardsdatascience.com/the-zen-of-python-a-guide-to-pythons-design-principles-93f3f76d088a)"
      ]
    },
    {
      "cell_type": "code",
      "metadata": {
        "id": "LfoQuE8kEolS",
        "colab": {
          "base_uri": "https://localhost:8080/",
          "height": 380
        },
        "outputId": "49f8d74b-19d3-4bd1-f3a4-730100d6c6fb"
      },
      "source": [
        "import this"
      ],
      "execution_count": null,
      "outputs": [
        {
          "output_type": "stream",
          "text": [
            "The Zen of Python, by Tim Peters\n",
            "\n",
            "Beautiful is better than ugly.\n",
            "Explicit is better than implicit.\n",
            "Simple is better than complex.\n",
            "Complex is better than complicated.\n",
            "Flat is better than nested.\n",
            "Sparse is better than dense.\n",
            "Readability counts.\n",
            "Special cases aren't special enough to break the rules.\n",
            "Although practicality beats purity.\n",
            "Errors should never pass silently.\n",
            "Unless explicitly silenced.\n",
            "In the face of ambiguity, refuse the temptation to guess.\n",
            "There should be one-- and preferably only one --obvious way to do it.\n",
            "Although that way may not be obvious at first unless you're Dutch.\n",
            "Now is better than never.\n",
            "Although never is often better than *right* now.\n",
            "If the implementation is hard to explain, it's a bad idea.\n",
            "If the implementation is easy to explain, it may be a good idea.\n",
            "Namespaces are one honking great idea -- let's do more of those!\n"
          ],
          "name": "stdout"
        }
      ]
    },
    {
      "cell_type": "markdown",
      "metadata": {
        "id": "X66ERZmnEolV"
      },
      "source": [
        "## 1. Data Types\n",
        "\n",
        "### 1.1 Integers\n",
        "In Python 3, there is effectively no limit to how long an integer value can be. Of course, it is constrained by the amount of memory your system has, as are all things, but beyond that an integer can be as long as you need it to be:"
      ]
    },
    {
      "cell_type": "code",
      "metadata": {
        "id": "AXpbSrWmEolW",
        "colab": {
          "base_uri": "https://localhost:8080/",
          "height": 35
        },
        "outputId": "a706f1fd-4556-4153-f036-9955272b359c"
      },
      "source": [
        "# create an integer\n",
        "x = 1\n",
        "x"
      ],
      "execution_count": null,
      "outputs": [
        {
          "output_type": "execute_result",
          "data": {
            "text/plain": [
              "1"
            ]
          },
          "metadata": {
            "tags": []
          },
          "execution_count": 10
        }
      ]
    },
    {
      "cell_type": "code",
      "metadata": {
        "id": "It879ERtEolZ",
        "colab": {
          "base_uri": "https://localhost:8080/",
          "height": 35
        },
        "outputId": "c52656ae-e719-473d-fad7-ea332f0f9161"
      },
      "source": [
        "# check the type\n",
        "type(x)"
      ],
      "execution_count": null,
      "outputs": [
        {
          "output_type": "execute_result",
          "data": {
            "text/plain": [
              "int"
            ]
          },
          "metadata": {
            "tags": []
          },
          "execution_count": 11
        }
      ]
    },
    {
      "cell_type": "code",
      "metadata": {
        "id": "rJEQGB2VEolc",
        "colab": {
          "base_uri": "https://localhost:8080/",
          "height": 35
        },
        "outputId": "c0d1ebff-6073-4fd2-da62-c78d5deb42f9"
      },
      "source": [
        "# check if the type is integer\n",
        "isinstance(x, int)"
      ],
      "execution_count": null,
      "outputs": [
        {
          "output_type": "execute_result",
          "data": {
            "text/plain": [
              "True"
            ]
          },
          "metadata": {
            "tags": []
          },
          "execution_count": 12
        }
      ]
    },
    {
      "cell_type": "code",
      "metadata": {
        "id": "afouoswVG7-m"
      },
      "source": [],
      "execution_count": null,
      "outputs": []
    },
    {
      "cell_type": "markdown",
      "metadata": {
        "id": "l2cfxgoBEolf"
      },
      "source": [
        "<div class=\"alert alert-block alert-info\">\n",
        "<b>Exercise:</b> Check if <b>x=1.</b>  is an integer</div>"
      ]
    },
    {
      "cell_type": "markdown",
      "metadata": {
        "id": "ljWmvWzmEolf"
      },
      "source": [
        "### 1.2 Floats\n",
        "The float type in Python designates a floating-point number. float values are specified with a decimal point. Optionally, the character e or E followed by a positive or negative integer may be appended to specify scientific notation:"
      ]
    },
    {
      "cell_type": "code",
      "metadata": {
        "id": "t7ADniAcEolg",
        "colab": {
          "base_uri": "https://localhost:8080/",
          "height": 35
        },
        "outputId": "0e7fd724-a5d8-428f-d6d2-253ef8c2d5e6"
      },
      "source": [
        "# create a float\n",
        "x = 2.8\n",
        "x"
      ],
      "execution_count": null,
      "outputs": [
        {
          "output_type": "execute_result",
          "data": {
            "text/plain": [
              "2.8"
            ]
          },
          "metadata": {
            "tags": []
          },
          "execution_count": 13
        }
      ]
    },
    {
      "cell_type": "code",
      "metadata": {
        "id": "X0iB45E9Eolj",
        "colab": {
          "base_uri": "https://localhost:8080/",
          "height": 35
        },
        "outputId": "d3803ecd-1805-43cd-bd0a-a9727e1e840e"
      },
      "source": [
        "# check the type\n",
        "type(x)"
      ],
      "execution_count": null,
      "outputs": [
        {
          "output_type": "execute_result",
          "data": {
            "text/plain": [
              "float"
            ]
          },
          "metadata": {
            "tags": []
          },
          "execution_count": 14
        }
      ]
    },
    {
      "cell_type": "code",
      "metadata": {
        "id": "mMw3fzh7Eoll",
        "colab": {
          "base_uri": "https://localhost:8080/",
          "height": 35
        },
        "outputId": "8d2b54a1-a6ce-48a2-f0e1-f35c56f0f88c"
      },
      "source": [
        "# check if the type is integer\n",
        "isinstance(x, int)"
      ],
      "execution_count": null,
      "outputs": [
        {
          "output_type": "execute_result",
          "data": {
            "text/plain": [
              "False"
            ]
          },
          "metadata": {
            "tags": []
          },
          "execution_count": 15
        }
      ]
    },
    {
      "cell_type": "code",
      "metadata": {
        "id": "Oq_KW6VaEolo",
        "colab": {
          "base_uri": "https://localhost:8080/",
          "height": 35
        },
        "outputId": "6552d48e-5bca-4eab-c1c9-c7a262c9b66e"
      },
      "source": [
        "# check if the type is float\n",
        "isinstance(x, float)"
      ],
      "execution_count": null,
      "outputs": [
        {
          "output_type": "execute_result",
          "data": {
            "text/plain": [
              "True"
            ]
          },
          "metadata": {
            "tags": []
          },
          "execution_count": 16
        }
      ]
    },
    {
      "cell_type": "markdown",
      "metadata": {
        "id": "jS9d0XMkEolq"
      },
      "source": [
        "#### Assertions\n",
        ">Assertions are statements that assert or state a fact confidently in your program. For example, while writing a division function, you're confident the divisor shouldn't be zero, you assert divisor is not equal to zero.\n",
        "Assertions are simply boolean expressions that check if the conditions return true or not. If it is true, the program does nothing and move to the next line of code. However, if it's false, the program stops and throws an error.It is also a debugging tool as it brings the program on halt as soon as any error is occurred and shows on which point of the program error has occurred."
      ]
    },
    {
      "cell_type": "code",
      "metadata": {
        "id": "6Y4_gNgEEolq"
      },
      "source": [
        "# if the statetment after assertion is True nothing happens\n",
        "assert isinstance(x, float)"
      ],
      "execution_count": null,
      "outputs": []
    },
    {
      "cell_type": "code",
      "metadata": {
        "id": "oam8kWkYEolt",
        "colab": {
          "base_uri": "https://localhost:8080/",
          "height": 183
        },
        "outputId": "899ac028-5255-4362-8d14-09fbdc3e97af"
      },
      "source": [
        "# if it's False, the code break\n",
        "assert isinstance(x, int)"
      ],
      "execution_count": null,
      "outputs": [
        {
          "output_type": "error",
          "ename": "AssertionError",
          "evalue": "ignored",
          "traceback": [
            "\u001b[0;31m---------------------------------------------------------------------------\u001b[0m",
            "\u001b[0;31mAssertionError\u001b[0m                            Traceback (most recent call last)",
            "\u001b[0;32m<ipython-input-20-792034ebf801>\u001b[0m in \u001b[0;36m<module>\u001b[0;34m()\u001b[0m\n\u001b[1;32m      1\u001b[0m \u001b[0;31m# if it's False, the code break\u001b[0m\u001b[0;34m\u001b[0m\u001b[0;34m\u001b[0m\u001b[0;34m\u001b[0m\u001b[0m\n\u001b[0;32m----> 2\u001b[0;31m \u001b[0;32massert\u001b[0m \u001b[0misinstance\u001b[0m\u001b[0;34m(\u001b[0m\u001b[0mx\u001b[0m\u001b[0;34m,\u001b[0m \u001b[0mint\u001b[0m\u001b[0;34m)\u001b[0m\u001b[0;34m\u001b[0m\u001b[0;34m\u001b[0m\u001b[0m\n\u001b[0m",
            "\u001b[0;31mAssertionError\u001b[0m: "
          ]
        }
      ]
    },
    {
      "cell_type": "markdown",
      "metadata": {
        "id": "gsSzB5GxEolv"
      },
      "source": [
        "<div class=\"alert alert-block alert-info\">\n",
        "<b>Exercise:</b> How can we fix the previous assertion without changing code (only adding new code)? </div>"
      ]
    },
    {
      "cell_type": "markdown",
      "metadata": {
        "id": "WTalAGhPEolv"
      },
      "source": [
        "### 1.3 Booleans\n",
        "Python 3 provides a Boolean data type. Objects of Boolean type may have one of two values, True or False:"
      ]
    },
    {
      "cell_type": "code",
      "metadata": {
        "id": "o7mGkRcqEolw"
      },
      "source": [
        "# crete  boolean\n",
        "x = False"
      ],
      "execution_count": null,
      "outputs": []
    },
    {
      "cell_type": "code",
      "metadata": {
        "id": "lSn-788-Eoly",
        "colab": {
          "base_uri": "https://localhost:8080/",
          "height": 35
        },
        "outputId": "0b4026e2-1243-4b51-eee2-82c2c44b0126"
      },
      "source": [
        "# check the type\n",
        "type(x)"
      ],
      "execution_count": null,
      "outputs": [
        {
          "output_type": "execute_result",
          "data": {
            "text/plain": [
              "bool"
            ]
          },
          "metadata": {
            "tags": []
          },
          "execution_count": 25
        }
      ]
    },
    {
      "cell_type": "code",
      "metadata": {
        "id": "Duxc_P1lEol0",
        "colab": {
          "base_uri": "https://localhost:8080/",
          "height": 35
        },
        "outputId": "75b4a401-47af-4a0a-a55c-eaf139e01c02"
      },
      "source": [
        "# check if it's a boolean\n",
        "isinstance(x, bool)"
      ],
      "execution_count": null,
      "outputs": [
        {
          "output_type": "execute_result",
          "data": {
            "text/plain": [
              "True"
            ]
          },
          "metadata": {
            "tags": []
          },
          "execution_count": 26
        }
      ]
    },
    {
      "cell_type": "markdown",
      "metadata": {
        "id": "sn3-dTaFEol2"
      },
      "source": [
        "####  Note the keywords True and False must have an Upper Case first letter. Using a lowercase `true` returns an error. Using a uppercase `TRUE` returns an error."
      ]
    },
    {
      "cell_type": "markdown",
      "metadata": {
        "id": "S3pIcgJREol3"
      },
      "source": [
        "<div class=\"alert alert-block alert-info\">\n",
        "<b>Exercise:</b> I was told that developers uses 1 and 0 (binary code) as True and False, 1 is True and 0 is False. How can we check if this is True?</div>"
      ]
    },
    {
      "cell_type": "code",
      "metadata": {
        "id": "Wjp2DOfnIOVr"
      },
      "source": [],
      "execution_count": null,
      "outputs": []
    },
    {
      "cell_type": "code",
      "metadata": {
        "id": "9oW7jTIrIZTX",
        "colab": {
          "base_uri": "https://localhost:8080/",
          "height": 35
        },
        "outputId": "785537c0-054a-4043-bf25-32a272824b59"
      },
      "source": [
        "bool(0)"
      ],
      "execution_count": null,
      "outputs": [
        {
          "output_type": "execute_result",
          "data": {
            "text/plain": [
              "False"
            ]
          },
          "metadata": {
            "tags": []
          },
          "execution_count": 31
        }
      ]
    },
    {
      "cell_type": "markdown",
      "metadata": {
        "id": "r5frufbpEol3"
      },
      "source": [
        "### 1.4 Strings\n",
        "Another built-in Python data type is strings. Strings are sequences of letters, numbers, symbols, and spaces. In Python, strings can be almost any length and can contain spaces. Strings are assigned in Python using single quotation marks ' ' or double quotation marks \" \""
      ]
    },
    {
      "cell_type": "code",
      "metadata": {
        "id": "rHwSGKUKEol3",
        "colab": {
          "base_uri": "https://localhost:8080/",
          "height": 35
        },
        "outputId": "3d4d2a26-c5d1-4a40-c4db-758a21dd947d"
      },
      "source": [
        "# create a float\n",
        "x = \"hello\"\n",
        "x"
      ],
      "execution_count": null,
      "outputs": [
        {
          "output_type": "execute_result",
          "data": {
            "application/vnd.google.colaboratory.intrinsic+json": {
              "type": "string"
            },
            "text/plain": [
              "'hello'"
            ]
          },
          "metadata": {
            "tags": []
          },
          "execution_count": 40
        }
      ]
    },
    {
      "cell_type": "code",
      "metadata": {
        "id": "eETjTLNHEol5",
        "colab": {
          "base_uri": "https://localhost:8080/",
          "height": 35
        },
        "outputId": "c0ef9f2d-58b5-46d0-df3f-7d0d2e5fda0a"
      },
      "source": [
        "# check the type\n",
        "type(x)"
      ],
      "execution_count": null,
      "outputs": [
        {
          "output_type": "execute_result",
          "data": {
            "text/plain": [
              "str"
            ]
          },
          "metadata": {
            "tags": []
          },
          "execution_count": 41
        }
      ]
    },
    {
      "cell_type": "code",
      "metadata": {
        "id": "iAXLes0yEol8"
      },
      "source": [
        "# check the type of x is a string\n",
        "assert isinstance(x, str)"
      ],
      "execution_count": null,
      "outputs": []
    },
    {
      "cell_type": "code",
      "metadata": {
        "id": "P2SL5bh4Irmi"
      },
      "source": [
        "x = [1, 2, 3]"
      ],
      "execution_count": null,
      "outputs": []
    },
    {
      "cell_type": "code",
      "metadata": {
        "id": "3dn2ydVeI74S",
        "colab": {
          "base_uri": "https://localhost:8080/",
          "height": 35
        },
        "outputId": "1fd9d7de-d64c-409a-c7ab-c87b6fe4efa5"
      },
      "source": [
        "x[::-1]"
      ],
      "execution_count": null,
      "outputs": [
        {
          "output_type": "execute_result",
          "data": {
            "text/plain": [
              "[3, 2, 1]"
            ]
          },
          "metadata": {
            "tags": []
          },
          "execution_count": 48
        }
      ]
    },
    {
      "cell_type": "code",
      "metadata": {
        "id": "oBgT3gzXI-h4",
        "colab": {
          "base_uri": "https://localhost:8080/",
          "height": 35
        },
        "outputId": "42f187dc-1372-4d04-cbc6-0692388dfe13"
      },
      "source": [
        "x = 'hello'\n",
        "x[::-1]"
      ],
      "execution_count": null,
      "outputs": [
        {
          "output_type": "execute_result",
          "data": {
            "application/vnd.google.colaboratory.intrinsic+json": {
              "type": "string"
            },
            "text/plain": [
              "'olleh'"
            ]
          },
          "metadata": {
            "tags": []
          },
          "execution_count": 49
        }
      ]
    },
    {
      "cell_type": "markdown",
      "metadata": {
        "id": "R_9QwdzAEol-"
      },
      "source": [
        "<div class=\"alert alert-block alert-info\">\n",
        "<b>Exercise:</b> What is the data type of the folling variable? </div>"
      ]
    },
    {
      "cell_type": "code",
      "metadata": {
        "id": "LUwGREYCEol_",
        "colab": {
          "base_uri": "https://localhost:8080/",
          "height": 35
        },
        "outputId": "9583554b-0c5c-45c6-904c-27b080dcfadc"
      },
      "source": [
        "x = '1'\n",
        "type(x)"
      ],
      "execution_count": null,
      "outputs": [
        {
          "output_type": "execute_result",
          "data": {
            "text/plain": [
              "str"
            ]
          },
          "metadata": {
            "tags": []
          },
          "execution_count": 51
        }
      ]
    },
    {
      "cell_type": "markdown",
      "metadata": {
        "id": "FQxoriNnEomA"
      },
      "source": [
        "### 1.5 Type conversion\n",
        "Python defines type conversion functions to directly convert one data type to another which is useful in day to day and competitive programming."
      ]
    },
    {
      "cell_type": "markdown",
      "metadata": {
        "id": "zqzIrHHVEomB"
      },
      "source": [
        "##### 1.5.1 Function `int`"
      ]
    },
    {
      "cell_type": "code",
      "metadata": {
        "id": "UmE1j2fYEomB",
        "colab": {
          "base_uri": "https://localhost:8080/",
          "height": 35
        },
        "outputId": "09dcd769-e9ba-4fc5-99f7-92a172f2ee01"
      },
      "source": [
        "int(1)"
      ],
      "execution_count": null,
      "outputs": [
        {
          "output_type": "execute_result",
          "data": {
            "text/plain": [
              "1"
            ]
          },
          "metadata": {
            "tags": []
          },
          "execution_count": 52
        }
      ]
    },
    {
      "cell_type": "code",
      "metadata": {
        "id": "wCGZCdJaEomD",
        "colab": {
          "base_uri": "https://localhost:8080/",
          "height": 35
        },
        "outputId": "77418351-cf73-4ec2-fa17-38b388292106"
      },
      "source": [
        "int(10)"
      ],
      "execution_count": null,
      "outputs": [
        {
          "output_type": "execute_result",
          "data": {
            "text/plain": [
              "10"
            ]
          },
          "metadata": {
            "tags": []
          },
          "execution_count": 53
        }
      ]
    },
    {
      "cell_type": "code",
      "metadata": {
        "id": "3h114QoMEomF",
        "colab": {
          "base_uri": "https://localhost:8080/",
          "height": 35
        },
        "outputId": "fab875d3-d646-4ee5-c82c-ec03d1adbaad"
      },
      "source": [
        "int(-1)"
      ],
      "execution_count": null,
      "outputs": [
        {
          "output_type": "execute_result",
          "data": {
            "text/plain": [
              "-1"
            ]
          },
          "metadata": {
            "tags": []
          },
          "execution_count": 54
        }
      ]
    },
    {
      "cell_type": "code",
      "metadata": {
        "id": "NoM1QAOwEomH",
        "colab": {
          "base_uri": "https://localhost:8080/",
          "height": 35
        },
        "outputId": "ce7339ef-4b67-4ee6-e42b-120ede8e2d41"
      },
      "source": [
        "# if we use int with a float, the result wil be the whole number\n",
        "int(2.3)"
      ],
      "execution_count": null,
      "outputs": [
        {
          "output_type": "execute_result",
          "data": {
            "text/plain": [
              "2"
            ]
          },
          "metadata": {
            "tags": []
          },
          "execution_count": 55
        }
      ]
    },
    {
      "cell_type": "code",
      "metadata": {
        "id": "wzXBVZU6EomJ",
        "colab": {
          "base_uri": "https://localhost:8080/",
          "height": 35
        },
        "outputId": "95b93803-d6f4-4868-c019-fdcdb64782e3"
      },
      "source": [
        "# int function will not calculate the round\n",
        "int(2.8)"
      ],
      "execution_count": null,
      "outputs": [
        {
          "output_type": "execute_result",
          "data": {
            "text/plain": [
              "2"
            ]
          },
          "metadata": {
            "tags": []
          },
          "execution_count": 58
        }
      ]
    },
    {
      "cell_type": "code",
      "metadata": {
        "id": "t3oJj6omEomM",
        "colab": {
          "base_uri": "https://localhost:8080/",
          "height": 35
        },
        "outputId": "676e25e7-1e21-4541-d543-826ef05fa5de"
      },
      "source": [
        "int(True)"
      ],
      "execution_count": null,
      "outputs": [
        {
          "output_type": "execute_result",
          "data": {
            "text/plain": [
              "1"
            ]
          },
          "metadata": {
            "tags": []
          },
          "execution_count": 59
        }
      ]
    },
    {
      "cell_type": "code",
      "metadata": {
        "id": "U98rer9uEomO",
        "colab": {
          "base_uri": "https://localhost:8080/",
          "height": 35
        },
        "outputId": "22ea4c84-d266-4982-cba7-c0dd3a9e5ae9"
      },
      "source": [
        "int(False)"
      ],
      "execution_count": null,
      "outputs": [
        {
          "output_type": "execute_result",
          "data": {
            "text/plain": [
              "0"
            ]
          },
          "metadata": {
            "tags": []
          },
          "execution_count": 60
        }
      ]
    },
    {
      "cell_type": "code",
      "metadata": {
        "id": "famBJPvtEomP",
        "colab": {
          "base_uri": "https://localhost:8080/",
          "height": 35
        },
        "outputId": "4a1b1a49-af44-42f9-b0f3-cfca00b59e65"
      },
      "source": [
        "int('10')"
      ],
      "execution_count": null,
      "outputs": [
        {
          "output_type": "execute_result",
          "data": {
            "text/plain": [
              "10"
            ]
          },
          "metadata": {
            "tags": []
          },
          "execution_count": 61
        }
      ]
    },
    {
      "cell_type": "code",
      "metadata": {
        "id": "9-00FJgqEomS",
        "colab": {
          "base_uri": "https://localhost:8080/",
          "height": 35
        },
        "outputId": "18b1015a-d628-498f-c283-bfb287ec253f"
      },
      "source": [
        "int(float('28.8'))"
      ],
      "execution_count": null,
      "outputs": [
        {
          "output_type": "execute_result",
          "data": {
            "text/plain": [
              "28"
            ]
          },
          "metadata": {
            "tags": []
          },
          "execution_count": 64
        }
      ]
    },
    {
      "cell_type": "markdown",
      "metadata": {
        "id": "obeVTpmpEomT"
      },
      "source": [
        "##### 1.5.2 Function `float`"
      ]
    },
    {
      "cell_type": "code",
      "metadata": {
        "id": "kyVzHyY_EomU",
        "colab": {
          "base_uri": "https://localhost:8080/",
          "height": 35
        },
        "outputId": "59d54a5b-e5a7-45a0-a822-ac55c7302a93"
      },
      "source": [
        "float(2.8)"
      ],
      "execution_count": null,
      "outputs": [
        {
          "output_type": "execute_result",
          "data": {
            "text/plain": [
              "2.8"
            ]
          },
          "metadata": {
            "tags": []
          },
          "execution_count": 65
        }
      ]
    },
    {
      "cell_type": "code",
      "metadata": {
        "id": "q5AkA9wOEomW",
        "colab": {
          "base_uri": "https://localhost:8080/",
          "height": 35
        },
        "outputId": "0ad284fd-b279-48df-cbfb-e5836ebb67cf"
      },
      "source": [
        "float(2.)"
      ],
      "execution_count": null,
      "outputs": [
        {
          "output_type": "execute_result",
          "data": {
            "text/plain": [
              "2.0"
            ]
          },
          "metadata": {
            "tags": []
          },
          "execution_count": 66
        }
      ]
    },
    {
      "cell_type": "code",
      "metadata": {
        "id": "IIhUjKsSEomX",
        "colab": {
          "base_uri": "https://localhost:8080/",
          "height": 35
        },
        "outputId": "781202bb-d3ae-4e96-b4d5-d20d75b06ca0"
      },
      "source": [
        "float(2)"
      ],
      "execution_count": null,
      "outputs": [
        {
          "output_type": "execute_result",
          "data": {
            "text/plain": [
              "2.0"
            ]
          },
          "metadata": {
            "tags": []
          },
          "execution_count": 67
        }
      ]
    },
    {
      "cell_type": "code",
      "metadata": {
        "id": "Woeh-plTEomZ",
        "outputId": "699ecaac-a578-4a22-b9d1-8397039f98c6"
      },
      "source": [
        "float(True)"
      ],
      "execution_count": null,
      "outputs": [
        {
          "output_type": "execute_result",
          "data": {
            "text/plain": [
              "1.0"
            ]
          },
          "metadata": {
            "tags": []
          },
          "execution_count": 31
        }
      ]
    },
    {
      "cell_type": "code",
      "metadata": {
        "id": "F6Vf1ZbyEoma",
        "outputId": "27a91731-d1a5-4911-e909-32502ca136d9"
      },
      "source": [
        "float(False)"
      ],
      "execution_count": null,
      "outputs": [
        {
          "output_type": "execute_result",
          "data": {
            "text/plain": [
              "0.0"
            ]
          },
          "metadata": {
            "tags": []
          },
          "execution_count": 32
        }
      ]
    },
    {
      "cell_type": "code",
      "metadata": {
        "id": "DH6PkpK1Eomf",
        "colab": {
          "base_uri": "https://localhost:8080/",
          "height": 35
        },
        "outputId": "68cfa8ea-fba6-41aa-b948-6235d6525e51"
      },
      "source": [
        "float('2.3')"
      ],
      "execution_count": null,
      "outputs": [
        {
          "output_type": "execute_result",
          "data": {
            "text/plain": [
              "2.3"
            ]
          },
          "metadata": {
            "tags": []
          },
          "execution_count": 68
        }
      ]
    },
    {
      "cell_type": "markdown",
      "metadata": {
        "id": "ZGG-OEIoEomi"
      },
      "source": [
        "<div class=\"alert alert-block alert-info\">\n",
        "<b>Exercise:</b> Calculate the int of <b>'28.8'</b>  </div>"
      ]
    },
    {
      "cell_type": "markdown",
      "metadata": {
        "id": "YzTxT8PbEomi"
      },
      "source": [
        "##### 1.5.3 Function `bool`"
      ]
    },
    {
      "cell_type": "code",
      "metadata": {
        "id": "ia6hSBoNEomi",
        "colab": {
          "base_uri": "https://localhost:8080/",
          "height": 35
        },
        "outputId": "94e510e3-db95-44f3-c62b-7ab8480adb7b"
      },
      "source": [
        "bool(1)"
      ],
      "execution_count": null,
      "outputs": [
        {
          "output_type": "execute_result",
          "data": {
            "text/plain": [
              "True"
            ]
          },
          "metadata": {
            "tags": []
          },
          "execution_count": 69
        }
      ]
    },
    {
      "cell_type": "code",
      "metadata": {
        "id": "R3IWCkePEomk",
        "colab": {
          "base_uri": "https://localhost:8080/",
          "height": 35
        },
        "outputId": "4fc0276a-dbbe-48d6-a07a-ec17a64216cb"
      },
      "source": [
        "bool(0)"
      ],
      "execution_count": null,
      "outputs": [
        {
          "output_type": "execute_result",
          "data": {
            "text/plain": [
              "False"
            ]
          },
          "metadata": {
            "tags": []
          },
          "execution_count": 70
        }
      ]
    },
    {
      "cell_type": "code",
      "metadata": {
        "id": "-eoT4PkfEomm",
        "colab": {
          "base_uri": "https://localhost:8080/",
          "height": 35
        },
        "outputId": "21151b8e-c1ea-4dd1-c189-12fb668cc580"
      },
      "source": [
        "bool(9.0)"
      ],
      "execution_count": null,
      "outputs": [
        {
          "output_type": "execute_result",
          "data": {
            "text/plain": [
              "True"
            ]
          },
          "metadata": {
            "tags": []
          },
          "execution_count": 71
        }
      ]
    },
    {
      "cell_type": "code",
      "metadata": {
        "id": "3wqSpkgdEomo",
        "colab": {
          "base_uri": "https://localhost:8080/",
          "height": 35
        },
        "outputId": "e7889ab5-ce76-47e4-aec9-ceb9df9cb4cb"
      },
      "source": [
        "bool(None)"
      ],
      "execution_count": null,
      "outputs": [
        {
          "output_type": "execute_result",
          "data": {
            "text/plain": [
              "False"
            ]
          },
          "metadata": {
            "tags": []
          },
          "execution_count": 78
        }
      ]
    },
    {
      "cell_type": "code",
      "metadata": {
        "id": "MtjtpqkuEomp",
        "colab": {
          "base_uri": "https://localhost:8080/",
          "height": 35
        },
        "outputId": "578e7846-514b-43f9-823e-065e2d7be946"
      },
      "source": [
        "bool(0)"
      ],
      "execution_count": null,
      "outputs": [
        {
          "output_type": "execute_result",
          "data": {
            "text/plain": [
              "False"
            ]
          },
          "metadata": {
            "tags": []
          },
          "execution_count": 73
        }
      ]
    },
    {
      "cell_type": "code",
      "metadata": {
        "id": "ytgDV6VnEoms",
        "outputId": "64ae55e3-cc2d-48ad-cbb9-6c53a0e59c54"
      },
      "source": [
        "bool('hello')"
      ],
      "execution_count": null,
      "outputs": [
        {
          "output_type": "execute_result",
          "data": {
            "text/plain": [
              "True"
            ]
          },
          "metadata": {
            "tags": []
          },
          "execution_count": 39
        }
      ]
    },
    {
      "cell_type": "markdown",
      "metadata": {
        "id": "ciDPfiEmEomu"
      },
      "source": [
        "<div class=\"alert alert-block alert-info\">\n",
        "<b>Exercise:</b> Explain what happens when we use <b>bool</b> function with an integer or a float</div>"
      ]
    },
    {
      "cell_type": "markdown",
      "metadata": {
        "id": "ojKgjnxsEomu"
      },
      "source": [
        "##### 1.5.3 Function `str`"
      ]
    },
    {
      "cell_type": "code",
      "metadata": {
        "id": "ZQ28Gy9zEomu",
        "colab": {
          "base_uri": "https://localhost:8080/",
          "height": 35
        },
        "outputId": "994f46c0-e23c-446b-9f0f-74c9538769e6"
      },
      "source": [
        "str(1)"
      ],
      "execution_count": null,
      "outputs": [
        {
          "output_type": "execute_result",
          "data": {
            "application/vnd.google.colaboratory.intrinsic+json": {
              "type": "string"
            },
            "text/plain": [
              "'1'"
            ]
          },
          "metadata": {
            "tags": []
          },
          "execution_count": 79
        }
      ]
    },
    {
      "cell_type": "code",
      "metadata": {
        "id": "RY1bYAlqEomx",
        "colab": {
          "base_uri": "https://localhost:8080/",
          "height": 35
        },
        "outputId": "b844e138-736a-4f46-daf7-2a72954416ab"
      },
      "source": [
        "str(1.8)"
      ],
      "execution_count": null,
      "outputs": [
        {
          "output_type": "execute_result",
          "data": {
            "application/vnd.google.colaboratory.intrinsic+json": {
              "type": "string"
            },
            "text/plain": [
              "'1.8'"
            ]
          },
          "metadata": {
            "tags": []
          },
          "execution_count": 80
        }
      ]
    },
    {
      "cell_type": "code",
      "metadata": {
        "id": "Mw3QeQSjEomy",
        "colab": {
          "base_uri": "https://localhost:8080/",
          "height": 35
        },
        "outputId": "e9e024b0-9fd9-42b3-f15f-9492f79bd3da"
      },
      "source": [
        "str(True)"
      ],
      "execution_count": null,
      "outputs": [
        {
          "output_type": "execute_result",
          "data": {
            "application/vnd.google.colaboratory.intrinsic+json": {
              "type": "string"
            },
            "text/plain": [
              "'True'"
            ]
          },
          "metadata": {
            "tags": []
          },
          "execution_count": 81
        }
      ]
    },
    {
      "cell_type": "code",
      "metadata": {
        "id": "LvI9DLzQEom0",
        "colab": {
          "base_uri": "https://localhost:8080/",
          "height": 35
        },
        "outputId": "de88c43a-c0f8-4c0d-9ffc-fdea64df5526"
      },
      "source": [
        "str(False)"
      ],
      "execution_count": null,
      "outputs": [
        {
          "output_type": "execute_result",
          "data": {
            "application/vnd.google.colaboratory.intrinsic+json": {
              "type": "string"
            },
            "text/plain": [
              "'False'"
            ]
          },
          "metadata": {
            "tags": []
          },
          "execution_count": 82
        }
      ]
    },
    {
      "cell_type": "code",
      "metadata": {
        "id": "QXsQgC8nEom2",
        "colab": {
          "base_uri": "https://localhost:8080/",
          "height": 35
        },
        "outputId": "369c4203-e449-4765-cbbf-7f9cd7acb10a"
      },
      "source": [
        "str(0)"
      ],
      "execution_count": null,
      "outputs": [
        {
          "output_type": "execute_result",
          "data": {
            "application/vnd.google.colaboratory.intrinsic+json": {
              "type": "string"
            },
            "text/plain": [
              "'0'"
            ]
          },
          "metadata": {
            "tags": []
          },
          "execution_count": 83
        }
      ]
    },
    {
      "cell_type": "code",
      "metadata": {
        "id": "1CHy8perJ-S6"
      },
      "source": [],
      "execution_count": null,
      "outputs": []
    }
  ]
}
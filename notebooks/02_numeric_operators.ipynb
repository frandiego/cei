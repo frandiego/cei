{
 "cells": [
  {
   "cell_type": "markdown",
   "metadata": {
    "colab_type": "text",
    "id": "3TNB1_p0QDiw"
   },
   "source": [
    "# Numeric Operator"
   ]
  },
  {
   "cell_type": "markdown",
   "metadata": {
    "colab_type": "text",
    "id": "WWZm1w3wQDiy"
   },
   "source": [
    "### Introduction\n",
    "Numbers are extremely common in programming. They are used to represent things like screen size dimensions, geographic locations, money and points, the amount of time that passes in a video, positions of game avatars, and colors through assigning numeric codes.\n",
    "\n",
    "Being able to effectively perform mathematical operations in programming is an important skill to develop because of how frequently you’ll be working with numbers. Though a high-level understanding of mathematics can certainly help you become a better programmer, it is not a prerequisite. If you don’t have a background in mathematics, try to think of math as a tool to accomplish what you would like to achieve, and as a way to improve your logical thinking.\n",
    "\n",
    "We’ll be working with two of Python’s most used numeric data types, integers and floats:\n",
    "\n",
    "* Integers are whole numbers that can be positive, negative, or 0 (…, -1, 0, 1, …).\n",
    "* Floats are real numbers, they contain a decimal point (as in 9.0 or -2.25).\n",
    "\n",
    "### Operators\n",
    "An operator is a symbol or function that indicates an operation. For example, in math the plus sign or + is the operator that indicates addition.\n",
    "\n",
    "In Python, we will see some familiar operators that are brought over from math, but other operators we will use are specific to computer programming.\n",
    "\n",
    "Here is a quick reference table of math-related operators in Python. \n",
    "\n",
    "\n",
    "|Operations|Otput|\n",
    "|------|------|\n",
    "|x + y |Sum of x and y     |\n",
    "|x - y   |Difference of x and y    |\n",
    "|-x\t|Changed sign of x|\n",
    "|+x\t|Identity of x|\n",
    "|x * y |\tProduct of x and y|\n",
    "|x / y | Quotient of x and y|\n",
    "|x // y\t|Quotient from floor division of x and y|\n",
    "|x % y\t| Remainder of x / y|\n",
    "|x ** y\t| x to the y power|\n"
   ]
  },
  {
   "cell_type": "markdown",
   "metadata": {
    "colab_type": "text",
    "id": "A0hX1KcsQDiy"
   },
   "source": [
    "### 1. Addition and Subtraction\n",
    "In Python, addition and subtraction operators perform just as they do in mathematics. In fact, you can use the Python programming language as a calculator."
   ]
  },
  {
   "cell_type": "code",
   "execution_count": 1,
   "metadata": {
    "colab": {
     "base_uri": "https://localhost:8080/",
     "height": 35
    },
    "colab_type": "code",
    "executionInfo": {
     "elapsed": 1223,
     "status": "ok",
     "timestamp": 1600181880614,
     "user": {
      "displayName": "Francisco Diego",
      "photoUrl": "https://lh3.googleusercontent.com/a-/AOh14Gh2CNbw5-kk3a8ZjYHqzgL0mez0Mew6L8uJQjXIOQ=s64",
      "userId": "03428838619161209840"
     },
     "user_tz": -120
    },
    "id": "9uDqlQqvQDiz",
    "outputId": "6ab2c53b-9cec-417a-ae1d-3171b5bc7dab"
   },
   "outputs": [
    {
     "name": "stdout",
     "output_type": "stream",
     "text": [
      "47\n"
     ]
    }
   ],
   "source": [
    "a = 15\n",
    "b = 32\n",
    "\n",
    "print(a + b)"
   ]
  },
  {
   "cell_type": "markdown",
   "metadata": {
    "colab_type": "text",
    "id": "r-Tu9R6eQDi3"
   },
   "source": [
    "Because integers can be both positive and negative numbers (and 0 too), we can add a negative number with a positive number:"
   ]
  },
  {
   "cell_type": "code",
   "execution_count": 2,
   "metadata": {
    "colab": {
     "base_uri": "https://localhost:8080/",
     "height": 35
    },
    "colab_type": "code",
    "executionInfo": {
     "elapsed": 1703,
     "status": "ok",
     "timestamp": 1600181881104,
     "user": {
      "displayName": "Francisco Diego",
      "photoUrl": "https://lh3.googleusercontent.com/a-/AOh14Gh2CNbw5-kk3a8ZjYHqzgL0mez0Mew6L8uJQjXIOQ=s64",
      "userId": "03428838619161209840"
     },
     "user_tz": -120
    },
    "id": "eyFT1hX8QDi4",
    "outputId": "c88f69d3-1a7f-449b-fb18-49f81e898af6"
   },
   "outputs": [
    {
     "name": "stdout",
     "output_type": "stream",
     "text": [
      "17\n"
     ]
    }
   ],
   "source": [
    "c = -15\n",
    "d = 32\n",
    "\n",
    "print(c + d)"
   ]
  },
  {
   "cell_type": "markdown",
   "metadata": {
    "colab_type": "text",
    "id": "SFCBrqYyQDi7"
   },
   "source": [
    "Addition will behave similarly with floats:\n"
   ]
  },
  {
   "cell_type": "code",
   "execution_count": 3,
   "metadata": {
    "colab": {},
    "colab_type": "code",
    "id": "C_hCg2fYQDi8",
    "outputId": "34680ba5-f732-42ee-871f-efe4eeffed6b"
   },
   "outputs": [
    {
     "name": "stdout",
     "output_type": "stream",
     "text": [
      "8.0\n"
     ]
    }
   ],
   "source": [
    "e = 5.5\n",
    "f = 2.5\n",
    "\n",
    "print(e + f)"
   ]
  },
  {
   "cell_type": "markdown",
   "metadata": {
    "colab_type": "text",
    "id": "WB_k4XN6QDi-"
   },
   "source": [
    "Because we added two floats together, Python returned a float value with a decimal place.\n",
    "\n",
    "The syntax for subtraction is the same as for addition, except you’ll change your operator from the plus sign (+) to the minus sign (-):"
   ]
  },
  {
   "cell_type": "code",
   "execution_count": 4,
   "metadata": {
    "colab": {},
    "colab_type": "code",
    "id": "PoctS3pMQDi_",
    "outputId": "2c4d39bf-ff62-457a-f075-700d51128991"
   },
   "outputs": [
    {
     "name": "stdout",
     "output_type": "stream",
     "text": [
      "43.67\n"
     ]
    }
   ],
   "source": [
    "g = 75.67\n",
    "h = 32\n",
    "\n",
    "print(g - h)"
   ]
  },
  {
   "cell_type": "markdown",
   "metadata": {
    "colab_type": "text",
    "id": "BzTp8JMWQDjB"
   },
   "source": [
    "Here, we subtracted an integer from a float. Python will return a float if at least one of the numbers involved in an equation is a float."
   ]
  },
  {
   "cell_type": "markdown",
   "metadata": {
    "colab_type": "text",
    "id": "rroBq4FMQDjC"
   },
   "source": [
    "### 1.2 Unary Arithmetic Operations\n",
    "A unary mathematical expression consists of only one component or element, and in Python the plus and minus signs can be used as a single element paired with a value to return the value’s identity (+), or change the sign of the value (-).\n",
    "\n",
    "Though not commonly used, the plus sign indicates the identity of the value. We can use the plus sign with positive values:"
   ]
  },
  {
   "cell_type": "code",
   "execution_count": 5,
   "metadata": {
    "colab": {
     "base_uri": "https://localhost:8080/",
     "height": 35
    },
    "colab_type": "code",
    "executionInfo": {
     "elapsed": 910,
     "status": "ok",
     "timestamp": 1600181890485,
     "user": {
      "displayName": "Francisco Diego",
      "photoUrl": "https://lh3.googleusercontent.com/a-/AOh14Gh2CNbw5-kk3a8ZjYHqzgL0mez0Mew6L8uJQjXIOQ=s64",
      "userId": "03428838619161209840"
     },
     "user_tz": -120
    },
    "id": "18NZM8ZyQDjD",
    "outputId": "0bb6cda7-dd03-4bcd-fdc1-9036a12c5b44"
   },
   "outputs": [
    {
     "name": "stdout",
     "output_type": "stream",
     "text": [
      "3.3\n"
     ]
    }
   ],
   "source": [
    "i = 3.3\n",
    "print(+i)"
   ]
  },
  {
   "cell_type": "markdown",
   "metadata": {
    "colab_type": "text",
    "id": "YPKif-OGQDjF"
   },
   "source": [
    "When we use the plus sign with a negative value, it will also return the identity of that value, and in this case it would be a negative value:"
   ]
  },
  {
   "cell_type": "code",
   "execution_count": 6,
   "metadata": {
    "colab": {
     "base_uri": "https://localhost:8080/",
     "height": 35
    },
    "colab_type": "code",
    "executionInfo": {
     "elapsed": 1004,
     "status": "ok",
     "timestamp": 1600181893888,
     "user": {
      "displayName": "Francisco Diego",
      "photoUrl": "https://lh3.googleusercontent.com/a-/AOh14Gh2CNbw5-kk3a8ZjYHqzgL0mez0Mew6L8uJQjXIOQ=s64",
      "userId": "03428838619161209840"
     },
     "user_tz": -120
    },
    "id": "luUcuXEcQDjG",
    "outputId": "89329b1d-d43e-46db-826b-2f4d1a3e9bf0"
   },
   "outputs": [
    {
     "name": "stdout",
     "output_type": "stream",
     "text": [
      "-19\n"
     ]
    }
   ],
   "source": [
    "j = -19\n",
    "print(+j)"
   ]
  },
  {
   "cell_type": "markdown",
   "metadata": {
    "colab_type": "text",
    "id": "ZKLPcKS4QDjJ"
   },
   "source": [
    "With a negative value the plus sign returns the same negative value.\n",
    "\n",
    "The minus sign, alternatively, changes the sign of a value. So, when we pass a positive value we’ll find that the minus sign before the value will return a negative value:"
   ]
  },
  {
   "cell_type": "code",
   "execution_count": 7,
   "metadata": {
    "colab": {
     "base_uri": "https://localhost:8080/",
     "height": 35
    },
    "colab_type": "code",
    "executionInfo": {
     "elapsed": 936,
     "status": "ok",
     "timestamp": 1600181895833,
     "user": {
      "displayName": "Francisco Diego",
      "photoUrl": "https://lh3.googleusercontent.com/a-/AOh14Gh2CNbw5-kk3a8ZjYHqzgL0mez0Mew6L8uJQjXIOQ=s64",
      "userId": "03428838619161209840"
     },
     "user_tz": -120
    },
    "id": "ACdekWGoQDjJ",
    "outputId": "3cc69c8a-77d7-43bd-8758-b08377e2f289"
   },
   "outputs": [
    {
     "name": "stdout",
     "output_type": "stream",
     "text": [
      "-3.3\n"
     ]
    }
   ],
   "source": [
    "i = 3.3\n",
    "print(-i)"
   ]
  },
  {
   "cell_type": "markdown",
   "metadata": {
    "colab_type": "text",
    "id": "0tl_us1TQDjM"
   },
   "source": [
    "Alternatively, when we use the minus sign unary operator with a negative value, a positive value will be returned:"
   ]
  },
  {
   "cell_type": "code",
   "execution_count": 8,
   "metadata": {
    "colab": {},
    "colab_type": "code",
    "id": "z5LB949BQDjM",
    "outputId": "f644e348-4d35-43e3-c6c2-a34684c8f36c"
   },
   "outputs": [
    {
     "name": "stdout",
     "output_type": "stream",
     "text": [
      "19\n"
     ]
    }
   ],
   "source": [
    "j = -19\n",
    "print(-j)"
   ]
  },
  {
   "cell_type": "markdown",
   "metadata": {
    "colab_type": "text",
    "id": "vsCmxYjXQDjP"
   },
   "source": [
    "The unary arithmetic operations indicated by the plus sign and minus sign will return either the value’s identity in the case of +i, or the opposite sign of the value as in -i."
   ]
  },
  {
   "cell_type": "markdown",
   "metadata": {
    "colab_type": "text",
    "id": "bb3bhmeKQDjP"
   },
   "source": [
    "### 1.3 Multiplication and Division\n",
    "Like addition and subtraction, multiplication and division will look very similar to how they do in mathematics. The sign we’ll use in Python for multiplication is * and the sign we’ll use for division is /.\n",
    "\n",
    "Here’s an example of doing multiplication in Python with two float values:"
   ]
  },
  {
   "cell_type": "code",
   "execution_count": 9,
   "metadata": {
    "colab": {
     "base_uri": "https://localhost:8080/",
     "height": 35
    },
    "colab_type": "code",
    "executionInfo": {
     "elapsed": 1100,
     "status": "ok",
     "timestamp": 1600181902755,
     "user": {
      "displayName": "Francisco Diego",
      "photoUrl": "https://lh3.googleusercontent.com/a-/AOh14Gh2CNbw5-kk3a8ZjYHqzgL0mez0Mew6L8uJQjXIOQ=s64",
      "userId": "03428838619161209840"
     },
     "user_tz": -120
    },
    "id": "onqp-GhFQDjQ",
    "outputId": "73e0aefd-d651-41d5-8ee0-67d51e8cc265"
   },
   "outputs": [
    {
     "name": "stdout",
     "output_type": "stream",
     "text": [
      "1011.0099999999999\n"
     ]
    }
   ],
   "source": [
    "k = 100.1\n",
    "l = 10.1\n",
    "\n",
    "print(k * l)"
   ]
  },
  {
   "cell_type": "markdown",
   "metadata": {
    "colab_type": "text",
    "id": "CroJ2nydQDjS"
   },
   "source": [
    "When you divide in Python 3, your quotient will always be returned as a float, even if you use two integers:"
   ]
  },
  {
   "cell_type": "code",
   "execution_count": 10,
   "metadata": {
    "colab": {},
    "colab_type": "code",
    "id": "1zFAtatJQDjT",
    "outputId": "4b85af96-c9ee-4339-9a2a-0d151290c024"
   },
   "outputs": [
    {
     "name": "stdout",
     "output_type": "stream",
     "text": [
      "16.0\n"
     ]
    }
   ],
   "source": [
    "m = 80\n",
    "n = 5\n",
    "\n",
    "print(m / n)"
   ]
  },
  {
   "cell_type": "markdown",
   "metadata": {
    "colab_type": "text",
    "id": "jWOzsXjAQDjV"
   },
   "source": [
    "This is one of the major changes between Python 2 and Python 3. Python 3’s approach provides a fractional answer so that when you use / to divide 11 by 2 the quotient of 5.5 will be returned. In Python 2 the quotient returned for the expression 11 / 2 is 5.\n",
    "\n",
    "Python 2’s / operator performs floor division, where for the quotient x the number returned is the largest integer less than or equal to x. If you run the above example of print(80 / 5) with Python 2 instead of Python 3, you’ll receive 16 as the output without the decimal place.\n",
    "\n",
    "In Python 3, you can use // to perform floor division. The expression 100 // 40 will return the value of 2. Floor division is useful when you need a quotient to be in whole numbers."
   ]
  },
  {
   "cell_type": "code",
   "execution_count": 11,
   "metadata": {
    "colab": {
     "base_uri": "https://localhost:8080/",
     "height": 35
    },
    "colab_type": "code",
    "executionInfo": {
     "elapsed": 869,
     "status": "ok",
     "timestamp": 1600182023291,
     "user": {
      "displayName": "Francisco Diego",
      "photoUrl": "https://lh3.googleusercontent.com/a-/AOh14Gh2CNbw5-kk3a8ZjYHqzgL0mez0Mew6L8uJQjXIOQ=s64",
      "userId": "03428838619161209840"
     },
     "user_tz": -120
    },
    "id": "3tL53OL0QDjW",
    "outputId": "c07a3075-3de9-4247-e7bb-6041dcb616e1"
   },
   "outputs": [
    {
     "data": {
      "text/plain": [
       "25"
      ]
     },
     "execution_count": 11,
     "metadata": {},
     "output_type": "execute_result"
    }
   ],
   "source": [
    "100 // 4"
   ]
  },
  {
   "cell_type": "code",
   "execution_count": 12,
   "metadata": {
    "colab": {
     "base_uri": "https://localhost:8080/",
     "height": 35
    },
    "colab_type": "code",
    "executionInfo": {
     "elapsed": 880,
     "status": "ok",
     "timestamp": 1600182025618,
     "user": {
      "displayName": "Francisco Diego",
      "photoUrl": "https://lh3.googleusercontent.com/a-/AOh14Gh2CNbw5-kk3a8ZjYHqzgL0mez0Mew6L8uJQjXIOQ=s64",
      "userId": "03428838619161209840"
     },
     "user_tz": -120
    },
    "id": "HqejFJSdQDjY",
    "outputId": "60752edc-0273-45cc-ed7e-ffedd26b51a2"
   },
   "outputs": [
    {
     "data": {
      "text/plain": [
       "25.0"
      ]
     },
     "execution_count": 12,
     "metadata": {},
     "output_type": "execute_result"
    }
   ],
   "source": [
    "100 / 4"
   ]
  },
  {
   "cell_type": "code",
   "execution_count": 13,
   "metadata": {
    "colab": {
     "base_uri": "https://localhost:8080/",
     "height": 35
    },
    "colab_type": "code",
    "executionInfo": {
     "elapsed": 1096,
     "status": "ok",
     "timestamp": 1600182039075,
     "user": {
      "displayName": "Francisco Diego",
      "photoUrl": "https://lh3.googleusercontent.com/a-/AOh14Gh2CNbw5-kk3a8ZjYHqzgL0mez0Mew6L8uJQjXIOQ=s64",
      "userId": "03428838619161209840"
     },
     "user_tz": -120
    },
    "id": "2is2ONMFQDjb",
    "outputId": "857d6c95-c1dd-4133-c84d-1beabe083681"
   },
   "outputs": [
    {
     "data": {
      "text/plain": [
       "58.5"
      ]
     },
     "execution_count": 13,
     "metadata": {},
     "output_type": "execute_result"
    }
   ],
   "source": [
    "117 / 2"
   ]
  },
  {
   "cell_type": "code",
   "execution_count": 14,
   "metadata": {
    "colab": {
     "base_uri": "https://localhost:8080/",
     "height": 35
    },
    "colab_type": "code",
    "executionInfo": {
     "elapsed": 1001,
     "status": "ok",
     "timestamp": 1600182030577,
     "user": {
      "displayName": "Francisco Diego",
      "photoUrl": "https://lh3.googleusercontent.com/a-/AOh14Gh2CNbw5-kk3a8ZjYHqzgL0mez0Mew6L8uJQjXIOQ=s64",
      "userId": "03428838619161209840"
     },
     "user_tz": -120
    },
    "id": "VInw6k7GQDjd",
    "outputId": "0e5397a1-0527-4c40-f8fa-aca58976361b"
   },
   "outputs": [
    {
     "data": {
      "text/plain": [
       "58"
      ]
     },
     "execution_count": 14,
     "metadata": {},
     "output_type": "execute_result"
    }
   ],
   "source": [
    "117 // 2"
   ]
  },
  {
   "cell_type": "markdown",
   "metadata": {
    "colab_type": "text",
    "id": "zgl9lvrlQDjg"
   },
   "source": [
    "### 1.4 Modulo\n",
    "The % operator is the modulo, which returns the remainder rather than the quotient after division. This is useful for finding numbers that are multiples of the same number, for example.\n",
    "\n",
    "Let’s look at the modulo in action:"
   ]
  },
  {
   "cell_type": "code",
   "execution_count": 15,
   "metadata": {
    "colab": {
     "base_uri": "https://localhost:8080/",
     "height": 35
    },
    "colab_type": "code",
    "executionInfo": {
     "elapsed": 1524,
     "status": "ok",
     "timestamp": 1600182055532,
     "user": {
      "displayName": "Francisco Diego",
      "photoUrl": "https://lh3.googleusercontent.com/a-/AOh14Gh2CNbw5-kk3a8ZjYHqzgL0mez0Mew6L8uJQjXIOQ=s64",
      "userId": "03428838619161209840"
     },
     "user_tz": -120
    },
    "id": "YjauGdiAQDjg",
    "outputId": "432099f3-b253-4fe0-edbe-f9a4313974c0"
   },
   "outputs": [
    {
     "name": "stdout",
     "output_type": "stream",
     "text": [
      "10\n"
     ]
    }
   ],
   "source": [
    "o = 85\n",
    "p = 15\n",
    "\n",
    "print(o % p)"
   ]
  },
  {
   "cell_type": "code",
   "execution_count": 16,
   "metadata": {
    "colab": {
     "base_uri": "https://localhost:8080/",
     "height": 35
    },
    "colab_type": "code",
    "executionInfo": {
     "elapsed": 1153,
     "status": "ok",
     "timestamp": 1600182064337,
     "user": {
      "displayName": "Francisco Diego",
      "photoUrl": "https://lh3.googleusercontent.com/a-/AOh14Gh2CNbw5-kk3a8ZjYHqzgL0mez0Mew6L8uJQjXIOQ=s64",
      "userId": "03428838619161209840"
     },
     "user_tz": -120
    },
    "id": "K45fUdRAQDjj",
    "outputId": "50912df0-1e88-441c-bcb8-441ebf2cd8e4"
   },
   "outputs": [
    {
     "data": {
      "text/plain": [
       "5.666666666666667"
      ]
     },
     "execution_count": 16,
     "metadata": {},
     "output_type": "execute_result"
    }
   ],
   "source": [
    "85/15"
   ]
  },
  {
   "cell_type": "code",
   "execution_count": 17,
   "metadata": {
    "colab": {
     "base_uri": "https://localhost:8080/",
     "height": 35
    },
    "colab_type": "code",
    "executionInfo": {
     "elapsed": 862,
     "status": "ok",
     "timestamp": 1600182101484,
     "user": {
      "displayName": "Francisco Diego",
      "photoUrl": "https://lh3.googleusercontent.com/a-/AOh14Gh2CNbw5-kk3a8ZjYHqzgL0mez0Mew6L8uJQjXIOQ=s64",
      "userId": "03428838619161209840"
     },
     "user_tz": -120
    },
    "id": "IhrsgPj0SIAd",
    "outputId": "e330823c-2011-4578-ed62-62cf50e33987"
   },
   "outputs": [
    {
     "data": {
      "text/plain": [
       "10"
      ]
     },
     "execution_count": 17,
     "metadata": {},
     "output_type": "execute_result"
    }
   ],
   "source": [
    "o - o//p * p"
   ]
  },
  {
   "cell_type": "code",
   "execution_count": 18,
   "metadata": {
    "colab": {},
    "colab_type": "code",
    "id": "D6ghSk_GQDjn",
    "outputId": "2019fd45-adc3-428b-f8fc-91523d0a1eab"
   },
   "outputs": [
    {
     "data": {
      "text/plain": [
       "85.0"
      ]
     },
     "execution_count": 18,
     "metadata": {},
     "output_type": "execute_result"
    }
   ],
   "source": [
    "5.666666666666667* 15"
   ]
  },
  {
   "cell_type": "code",
   "execution_count": 19,
   "metadata": {
    "colab": {},
    "colab_type": "code",
    "id": "TbyhwafSQDjq",
    "outputId": "2f9d2b2f-c378-44eb-b0b7-dd4598f1ceab"
   },
   "outputs": [
    {
     "data": {
      "text/plain": [
       "5"
      ]
     },
     "execution_count": 19,
     "metadata": {},
     "output_type": "execute_result"
    }
   ],
   "source": [
    "85//15"
   ]
  },
  {
   "cell_type": "code",
   "execution_count": 20,
   "metadata": {
    "colab": {},
    "colab_type": "code",
    "id": "tbyMbT14QDjs",
    "outputId": "a4d4ac69-6d33-48c2-c53b-71b2ffb9b8e4"
   },
   "outputs": [
    {
     "data": {
      "text/plain": [
       "75"
      ]
     },
     "execution_count": 20,
     "metadata": {},
     "output_type": "execute_result"
    }
   ],
   "source": [
    "5*15"
   ]
  },
  {
   "cell_type": "code",
   "execution_count": 21,
   "metadata": {
    "colab": {},
    "colab_type": "code",
    "id": "LsoFAL8aQDju",
    "outputId": "1ac805a8-0f53-421f-a562-658fee8e5104"
   },
   "outputs": [
    {
     "data": {
      "text/plain": [
       "5"
      ]
     },
     "execution_count": 21,
     "metadata": {},
     "output_type": "execute_result"
    }
   ],
   "source": [
    "80 - 75"
   ]
  },
  {
   "cell_type": "code",
   "execution_count": 22,
   "metadata": {
    "colab": {
     "base_uri": "https://localhost:8080/",
     "height": 35
    },
    "colab_type": "code",
    "executionInfo": {
     "elapsed": 607,
     "status": "ok",
     "timestamp": 1600182163461,
     "user": {
      "displayName": "Francisco Diego",
      "photoUrl": "https://lh3.googleusercontent.com/a-/AOh14Gh2CNbw5-kk3a8ZjYHqzgL0mez0Mew6L8uJQjXIOQ=s64",
      "userId": "03428838619161209840"
     },
     "user_tz": -120
    },
    "id": "OZHNFIyXQDjw",
    "outputId": "1b81647e-cc0b-499c-a74b-961ceadcf809"
   },
   "outputs": [
    {
     "data": {
      "text/plain": [
       "0"
      ]
     },
     "execution_count": 22,
     "metadata": {},
     "output_type": "execute_result"
    }
   ],
   "source": [
    "36%2"
   ]
  },
  {
   "cell_type": "markdown",
   "metadata": {
    "colab_type": "text",
    "id": "gunNVew7QDjz"
   },
   "source": [
    "### 1.5 Power\n",
    "The ** operator in Python is used to raise the number on the left to the power of the exponent of the right. That is, in the expression 5 ** 3, 5 is being raised to the 3rd power. In mathematics, we often see this expression rendered as 5³, and what is really going on is 5 is being multiplied by itself 3 times. In Python, we would get the same result of 125 by running either 5 ** 3 or 5 * 5 * 5.\n",
    "\n",
    "Let’s look at an example with variables:\n",
    "\n"
   ]
  },
  {
   "cell_type": "code",
   "execution_count": 23,
   "metadata": {
    "colab": {
     "base_uri": "https://localhost:8080/",
     "height": 35
    },
    "colab_type": "code",
    "executionInfo": {
     "elapsed": 1037,
     "status": "ok",
     "timestamp": 1600182241110,
     "user": {
      "displayName": "Francisco Diego",
      "photoUrl": "https://lh3.googleusercontent.com/a-/AOh14Gh2CNbw5-kk3a8ZjYHqzgL0mez0Mew6L8uJQjXIOQ=s64",
      "userId": "03428838619161209840"
     },
     "user_tz": -120
    },
    "id": "4JEV6jpNQDj0",
    "outputId": "7912be53-35de-4ac9-8fd6-f13b38f3230a"
   },
   "outputs": [
    {
     "data": {
      "text/plain": [
       "2730.0625"
      ]
     },
     "execution_count": 23,
     "metadata": {},
     "output_type": "execute_result"
    }
   ],
   "source": [
    "s = 52.25\n",
    "t = 2\n",
    "\n",
    "s ** t"
   ]
  },
  {
   "cell_type": "code",
   "execution_count": 24,
   "metadata": {
    "colab": {},
    "colab_type": "code",
    "executionInfo": {
     "elapsed": 1132,
     "status": "ok",
     "timestamp": 1600182253704,
     "user": {
      "displayName": "Francisco Diego",
      "photoUrl": "https://lh3.googleusercontent.com/a-/AOh14Gh2CNbw5-kk3a8ZjYHqzgL0mez0Mew6L8uJQjXIOQ=s64",
      "userId": "03428838619161209840"
     },
     "user_tz": -120
    },
    "id": "r1TEXVq8SxQ2"
   },
   "outputs": [],
   "source": [
    "import math"
   ]
  },
  {
   "cell_type": "code",
   "execution_count": 25,
   "metadata": {
    "colab": {
     "base_uri": "https://localhost:8080/",
     "height": 35
    },
    "colab_type": "code",
    "executionInfo": {
     "elapsed": 1078,
     "status": "ok",
     "timestamp": 1600182262952,
     "user": {
      "displayName": "Francisco Diego",
      "photoUrl": "https://lh3.googleusercontent.com/a-/AOh14Gh2CNbw5-kk3a8ZjYHqzgL0mez0Mew6L8uJQjXIOQ=s64",
      "userId": "03428838619161209840"
     },
     "user_tz": -120
    },
    "id": "17eBpz93SxTQ",
    "outputId": "dab46f73-9616-4d37-8bc8-23d6072b4211"
   },
   "outputs": [
    {
     "data": {
      "text/plain": [
       "1.4142135623730951"
      ]
     },
     "execution_count": 25,
     "metadata": {},
     "output_type": "execute_result"
    }
   ],
   "source": [
    "math.sqrt(2)"
   ]
  },
  {
   "cell_type": "code",
   "execution_count": 26,
   "metadata": {
    "colab": {
     "base_uri": "https://localhost:8080/",
     "height": 35
    },
    "colab_type": "code",
    "executionInfo": {
     "elapsed": 904,
     "status": "ok",
     "timestamp": 1600182278263,
     "user": {
      "displayName": "Francisco Diego",
      "photoUrl": "https://lh3.googleusercontent.com/a-/AOh14Gh2CNbw5-kk3a8ZjYHqzgL0mez0Mew6L8uJQjXIOQ=s64",
      "userId": "03428838619161209840"
     },
     "user_tz": -120
    },
    "id": "UzCGb6bsSxVi",
    "outputId": "71306e4b-3d0a-43f2-900b-2b4f49c90174"
   },
   "outputs": [
    {
     "data": {
      "text/plain": [
       "1.4142135623730951"
      ]
     },
     "execution_count": 26,
     "metadata": {},
     "output_type": "execute_result"
    }
   ],
   "source": [
    "2**(1/2)"
   ]
  },
  {
   "cell_type": "code",
   "execution_count": 27,
   "metadata": {
    "colab": {
     "base_uri": "https://localhost:8080/",
     "height": 35
    },
    "colab_type": "code",
    "executionInfo": {
     "elapsed": 1360,
     "status": "ok",
     "timestamp": 1600182304363,
     "user": {
      "displayName": "Francisco Diego",
      "photoUrl": "https://lh3.googleusercontent.com/a-/AOh14Gh2CNbw5-kk3a8ZjYHqzgL0mez0Mew6L8uJQjXIOQ=s64",
      "userId": "03428838619161209840"
     },
     "user_tz": -120
    },
    "id": "_2iRstsiS6Rw",
    "outputId": "b0ba8fda-a366-4c45-dec5-8df07423699f"
   },
   "outputs": [
    {
     "data": {
      "text/plain": [
       "8"
      ]
     },
     "execution_count": 27,
     "metadata": {},
     "output_type": "execute_result"
    }
   ],
   "source": [
    "2 ** 3"
   ]
  },
  {
   "cell_type": "code",
   "execution_count": 28,
   "metadata": {
    "colab": {
     "base_uri": "https://localhost:8080/",
     "height": 35
    },
    "colab_type": "code",
    "executionInfo": {
     "elapsed": 886,
     "status": "ok",
     "timestamp": 1600182343490,
     "user": {
      "displayName": "Francisco Diego",
      "photoUrl": "https://lh3.googleusercontent.com/a-/AOh14Gh2CNbw5-kk3a8ZjYHqzgL0mez0Mew6L8uJQjXIOQ=s64",
      "userId": "03428838619161209840"
     },
     "user_tz": -120
    },
    "id": "wAGtdmSzS6UU",
    "outputId": "337d5e12-3c12-4d29-ab72-8eec68f46c03"
   },
   "outputs": [
    {
     "data": {
      "text/plain": [
       "2.6666666666666665"
      ]
     },
     "execution_count": 28,
     "metadata": {},
     "output_type": "execute_result"
    }
   ],
   "source": [
    "(8 ** 1)/3"
   ]
  },
  {
   "cell_type": "code",
   "execution_count": 29,
   "metadata": {
    "colab": {
     "base_uri": "https://localhost:8080/",
     "height": 35
    },
    "colab_type": "code",
    "executionInfo": {
     "elapsed": 839,
     "status": "ok",
     "timestamp": 1600182351104,
     "user": {
      "displayName": "Francisco Diego",
      "photoUrl": "https://lh3.googleusercontent.com/a-/AOh14Gh2CNbw5-kk3a8ZjYHqzgL0mez0Mew6L8uJQjXIOQ=s64",
      "userId": "03428838619161209840"
     },
     "user_tz": -120
    },
    "id": "RCRfW7zsS6Wp",
    "outputId": "89277d9a-bbdc-4bd9-c8ab-1aa64391be62"
   },
   "outputs": [
    {
     "data": {
      "text/plain": [
       "2.0"
      ]
     },
     "execution_count": 29,
     "metadata": {},
     "output_type": "execute_result"
    }
   ],
   "source": [
    "8 ** (1/3)"
   ]
  },
  {
   "cell_type": "markdown",
   "metadata": {
    "colab_type": "text",
    "id": "WBIxBjipQDj2"
   },
   "source": [
    "Raising the float 52.25 to the power of 7 through the ** operator results in a large float value returned."
   ]
  },
  {
   "cell_type": "markdown",
   "metadata": {
    "colab_type": "text",
    "id": "_YsOtn9xQDj3"
   },
   "source": [
    "### 1.6 Operator Precedence\n",
    "In Python, as in mathematics, we need to keep in mind that operators will be evaluated in order of precedence, not from left to right or right to left.\n",
    "\n",
    "If we look at the following expression:"
   ]
  },
  {
   "cell_type": "code",
   "execution_count": 30,
   "metadata": {
    "colab": {
     "base_uri": "https://localhost:8080/",
     "height": 35
    },
    "colab_type": "code",
    "executionInfo": {
     "elapsed": 998,
     "status": "ok",
     "timestamp": 1600182379835,
     "user": {
      "displayName": "Francisco Diego",
      "photoUrl": "https://lh3.googleusercontent.com/a-/AOh14Gh2CNbw5-kk3a8ZjYHqzgL0mez0Mew6L8uJQjXIOQ=s64",
      "userId": "03428838619161209840"
     },
     "user_tz": -120
    },
    "id": "rzJXrTyIQDj3",
    "outputId": "baca56bf-9dde-4223-dd33-085de9088bc2"
   },
   "outputs": [
    {
     "data": {
      "text/plain": [
       "60"
      ]
     },
     "execution_count": 30,
     "metadata": {},
     "output_type": "execute_result"
    }
   ],
   "source": [
    "u = 10 + (10 * 5)\n",
    "u"
   ]
  },
  {
   "cell_type": "markdown",
   "metadata": {
    "colab_type": "text",
    "id": "JSBtm5FoQDj5"
   },
   "source": [
    "This is because 10 * 5 evaluates to 50, and then we add 10 to return 60 as the final result.\n",
    "\n",
    "If instead we would like to add the value 10 to 10, then multiply that sum by 5, we can use parentheses just like we would in math:\n",
    "\n"
   ]
  },
  {
   "cell_type": "code",
   "execution_count": 31,
   "metadata": {
    "colab": {
     "base_uri": "https://localhost:8080/",
     "height": 35
    },
    "colab_type": "code",
    "executionInfo": {
     "elapsed": 832,
     "status": "ok",
     "timestamp": 1600182384723,
     "user": {
      "displayName": "Francisco Diego",
      "photoUrl": "https://lh3.googleusercontent.com/a-/AOh14Gh2CNbw5-kk3a8ZjYHqzgL0mez0Mew6L8uJQjXIOQ=s64",
      "userId": "03428838619161209840"
     },
     "user_tz": -120
    },
    "id": "roo8U3vwQDj6",
    "outputId": "076292b7-364d-4d83-d93f-226007adffa7"
   },
   "outputs": [
    {
     "data": {
      "text/plain": [
       "100"
      ]
     },
     "execution_count": 31,
     "metadata": {},
     "output_type": "execute_result"
    }
   ],
   "source": [
    "u = (10 + 10) * 5\n",
    "u"
   ]
  },
  {
   "cell_type": "markdown",
   "metadata": {
    "colab_type": "text",
    "id": "6quzkZQbQDj8"
   },
   "source": [
    "One way to remember the order of operation is through the acronym PEMDAS:\n"
   ]
  },
  {
   "cell_type": "markdown",
   "metadata": {
    "colab_type": "text",
    "id": "umPuvtxFQDj8"
   },
   "source": [
    "|Order|Letter|Stands for|\n",
    "|------|------|------|\n",
    "|1|P|Parentheses|\n",
    "|2|E|Exponent|\n",
    "|3|M|Multiplication|\n",
    "|4|D|Division|\n",
    "|5|A|Addition|\n",
    "|6|S|Subtraction|"
   ]
  },
  {
   "cell_type": "markdown",
   "metadata": {
    "colab_type": "text",
    "id": "3B6DmIW8QDj8"
   },
   "source": [
    "### 1.7 Assignment Operators\n",
    "The most common assignment operator is one you have already used: the equals sign =. The = assignment operator assigns the value on the right to a variable on the left. For example, v = 23 assigns the value of the integer 23 to the variable v.\n",
    "\n",
    "When programming, it is common to use compound assignment operators that perform an operation on a variable’s value and then assign the resulting new value to that variable. These compound operators combine an arithmetic operator with the = operator, so for addition we’ll combine + with = to get the compound operator +=. Let’s see what that looks like:\n",
    "\n"
   ]
  },
  {
   "cell_type": "code",
   "execution_count": 32,
   "metadata": {
    "colab": {
     "base_uri": "https://localhost:8080/",
     "height": 35
    },
    "colab_type": "code",
    "executionInfo": {
     "elapsed": 1649,
     "status": "ok",
     "timestamp": 1600182532563,
     "user": {
      "displayName": "Francisco Diego",
      "photoUrl": "https://lh3.googleusercontent.com/a-/AOh14Gh2CNbw5-kk3a8ZjYHqzgL0mez0Mew6L8uJQjXIOQ=s64",
      "userId": "03428838619161209840"
     },
     "user_tz": -120
    },
    "id": "C9I0yUpKQDj9",
    "outputId": "81d01e37-8799-4c10-ebd6-bc2c594d9037"
   },
   "outputs": [
    {
     "data": {
      "text/plain": [
       "7"
      ]
     },
     "execution_count": 32,
     "metadata": {},
     "output_type": "execute_result"
    }
   ],
   "source": [
    "# sum and assign\n",
    "w = 5\n",
    "w = w + 1\n",
    "w += 1\n",
    "w"
   ]
  },
  {
   "cell_type": "markdown",
   "metadata": {
    "colab_type": "text",
    "id": "mdJLVk0wQDj_"
   },
   "source": [
    "Python has a compound assignment operator for each of the arithmetic operators discussed in this tutorial:\n"
   ]
  },
  {
   "cell_type": "code",
   "execution_count": 33,
   "metadata": {
    "colab": {
     "base_uri": "https://localhost:8080/",
     "height": 35
    },
    "colab_type": "code",
    "executionInfo": {
     "elapsed": 1331,
     "status": "ok",
     "timestamp": 1600182536600,
     "user": {
      "displayName": "Francisco Diego",
      "photoUrl": "https://lh3.googleusercontent.com/a-/AOh14Gh2CNbw5-kk3a8ZjYHqzgL0mez0Mew6L8uJQjXIOQ=s64",
      "userId": "03428838619161209840"
     },
     "user_tz": -120
    },
    "id": "NeiIT66PQDj_",
    "outputId": "5dff9e04-fcbc-4586-ed1a-7a79f6db068c"
   },
   "outputs": [
    {
     "data": {
      "text/plain": [
       "6"
      ]
     },
     "execution_count": 33,
     "metadata": {},
     "output_type": "execute_result"
    }
   ],
   "source": [
    "# sum and assign\n",
    "y = 5\n",
    "y += 1\n",
    "y"
   ]
  },
  {
   "cell_type": "code",
   "execution_count": 34,
   "metadata": {
    "colab": {
     "base_uri": "https://localhost:8080/",
     "height": 35
    },
    "colab_type": "code",
    "executionInfo": {
     "elapsed": 923,
     "status": "ok",
     "timestamp": 1600182538255,
     "user": {
      "displayName": "Francisco Diego",
      "photoUrl": "https://lh3.googleusercontent.com/a-/AOh14Gh2CNbw5-kk3a8ZjYHqzgL0mez0Mew6L8uJQjXIOQ=s64",
      "userId": "03428838619161209840"
     },
     "user_tz": -120
    },
    "id": "DI9Jt3g_QDkC",
    "outputId": "c88061e3-087a-4c58-e4ed-0110a6e0856e"
   },
   "outputs": [
    {
     "data": {
      "text/plain": [
       "5"
      ]
     },
     "execution_count": 34,
     "metadata": {},
     "output_type": "execute_result"
    }
   ],
   "source": [
    "# substract and assign\n",
    "y -= 1\n",
    "y"
   ]
  },
  {
   "cell_type": "code",
   "execution_count": 35,
   "metadata": {
    "colab": {
     "base_uri": "https://localhost:8080/",
     "height": 35
    },
    "colab_type": "code",
    "executionInfo": {
     "elapsed": 840,
     "status": "ok",
     "timestamp": 1600182556718,
     "user": {
      "displayName": "Francisco Diego",
      "photoUrl": "https://lh3.googleusercontent.com/a-/AOh14Gh2CNbw5-kk3a8ZjYHqzgL0mez0Mew6L8uJQjXIOQ=s64",
      "userId": "03428838619161209840"
     },
     "user_tz": -120
    },
    "id": "RamtfdjTQDkE",
    "outputId": "ef9c9f40-3603-4649-a981-8c05e156ef4d"
   },
   "outputs": [
    {
     "data": {
      "text/plain": [
       "10"
      ]
     },
     "execution_count": 35,
     "metadata": {},
     "output_type": "execute_result"
    }
   ],
   "source": [
    "# product and assign\n",
    "# y = y*2\n",
    "y *= 2\n",
    "y"
   ]
  },
  {
   "cell_type": "code",
   "execution_count": 36,
   "metadata": {
    "colab": {
     "base_uri": "https://localhost:8080/",
     "height": 35
    },
    "colab_type": "code",
    "executionInfo": {
     "elapsed": 909,
     "status": "ok",
     "timestamp": 1600182561204,
     "user": {
      "displayName": "Francisco Diego",
      "photoUrl": "https://lh3.googleusercontent.com/a-/AOh14Gh2CNbw5-kk3a8ZjYHqzgL0mez0Mew6L8uJQjXIOQ=s64",
      "userId": "03428838619161209840"
     },
     "user_tz": -120
    },
    "id": "rI2ZWG5kQDkG",
    "outputId": "b331c81d-bfbd-4108-c0b1-f5180a8edebb"
   },
   "outputs": [
    {
     "data": {
      "text/plain": [
       "3.3333333333333335"
      ]
     },
     "execution_count": 36,
     "metadata": {},
     "output_type": "execute_result"
    }
   ],
   "source": [
    "# divide and assign\n",
    "y /= 3\n",
    "y"
   ]
  },
  {
   "cell_type": "code",
   "execution_count": 37,
   "metadata": {
    "colab": {
     "base_uri": "https://localhost:8080/",
     "height": 35
    },
    "colab_type": "code",
    "executionInfo": {
     "elapsed": 891,
     "status": "ok",
     "timestamp": 1600182563708,
     "user": {
      "displayName": "Francisco Diego",
      "photoUrl": "https://lh3.googleusercontent.com/a-/AOh14Gh2CNbw5-kk3a8ZjYHqzgL0mez0Mew6L8uJQjXIOQ=s64",
      "userId": "03428838619161209840"
     },
     "user_tz": -120
    },
    "id": "OcRjEcbJQDkH",
    "outputId": "8731be9b-eb18-4166-941f-8e26b31d26e1"
   },
   "outputs": [
    {
     "data": {
      "text/plain": [
       "3"
      ]
     },
     "execution_count": 37,
     "metadata": {},
     "output_type": "execute_result"
    }
   ],
   "source": [
    "# floor divide and assign\n",
    "y = 10\n",
    "y //= 3\n",
    "y\n"
   ]
  },
  {
   "cell_type": "code",
   "execution_count": 38,
   "metadata": {
    "colab": {
     "base_uri": "https://localhost:8080/",
     "height": 35
    },
    "colab_type": "code",
    "executionInfo": {
     "elapsed": 956,
     "status": "ok",
     "timestamp": 1600182565693,
     "user": {
      "displayName": "Francisco Diego",
      "photoUrl": "https://lh3.googleusercontent.com/a-/AOh14Gh2CNbw5-kk3a8ZjYHqzgL0mez0Mew6L8uJQjXIOQ=s64",
      "userId": "03428838619161209840"
     },
     "user_tz": -120
    },
    "id": "TuZ_9mViQDkJ",
    "outputId": "ef5fbe52-0485-4fe9-e35d-6210cd832d6b"
   },
   "outputs": [
    {
     "data": {
      "text/plain": [
       "9"
      ]
     },
     "execution_count": 38,
     "metadata": {},
     "output_type": "execute_result"
    }
   ],
   "source": [
    "# power and assign\n",
    "y **= 2\n",
    "y"
   ]
  },
  {
   "cell_type": "code",
   "execution_count": 39,
   "metadata": {
    "colab": {
     "base_uri": "https://localhost:8080/",
     "height": 35
    },
    "colab_type": "code",
    "executionInfo": {
     "elapsed": 1392,
     "status": "ok",
     "timestamp": 1600182567558,
     "user": {
      "displayName": "Francisco Diego",
      "photoUrl": "https://lh3.googleusercontent.com/a-/AOh14Gh2CNbw5-kk3a8ZjYHqzgL0mez0Mew6L8uJQjXIOQ=s64",
      "userId": "03428838619161209840"
     },
     "user_tz": -120
    },
    "id": "NpUlqsEnQDkM",
    "outputId": "e37f7bd4-81c4-44f7-8239-4197160bd690"
   },
   "outputs": [
    {
     "data": {
      "text/plain": [
       "0"
      ]
     },
     "execution_count": 39,
     "metadata": {},
     "output_type": "execute_result"
    }
   ],
   "source": [
    "# modulo and assign\n",
    "y %= 3\n",
    "y"
   ]
  }
 ],
 "metadata": {
  "colab": {
   "name": "02_numeric_operators.ipynb",
   "provenance": []
  },
  "kernelspec": {
   "display_name": "Python 3 (ipykernel)",
   "language": "python",
   "name": "python3"
  },
  "language_info": {
   "codemirror_mode": {
    "name": "ipython",
    "version": 3
   },
   "file_extension": ".py",
   "mimetype": "text/x-python",
   "name": "python",
   "nbconvert_exporter": "python",
   "pygments_lexer": "ipython3",
   "version": "3.13.0"
  }
 },
 "nbformat": 4,
 "nbformat_minor": 4
}
